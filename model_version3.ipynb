{
 "cells": [
  {
   "cell_type": "markdown",
   "id": "2f0ee54a",
   "metadata": {},
   "source": [
    "# inferSent & ResNet50"
   ]
  },
  {
   "cell_type": "markdown",
   "id": "264c834b",
   "metadata": {},
   "source": [
    "## Dataloader"
   ]
  },
  {
   "cell_type": "code",
   "execution_count": 1,
   "id": "2c8cbe1d",
   "metadata": {},
   "outputs": [],
   "source": [
    "import os\n",
    "import glob\n",
    "from PIL import Image\n",
    "\n",
    "from torch.utils.data import Dataset\n",
    "import torchvision.transforms as transforms\n",
    "\n",
    "\n",
    "class SurgicalVQADataset(Dataset):\n",
    "    def __init__(self, seq, folder_head, folder_tail, labels, transform=None):\n",
    "        \n",
    "        self.transform = transform\n",
    "        \n",
    "        # files, question and answers\n",
    "        filenames = []\n",
    "        for curr_seq in seq: filenames = filenames + glob.glob(folder_head + str(curr_seq) + folder_tail)\n",
    "        self.vqas = []\n",
    "        for file in filenames:\n",
    "            file_data = open(file, \"r\")\n",
    "            lines = [line.strip(\"\\n\") for line in file_data if line != \"\\n\"]\n",
    "            file_data.close()\n",
    "            for line in lines: self.vqas.append([file, line])\n",
    "        print('Total files: %d | Total question: %.d' %(len(filenames), len(self.vqas)))\n",
    "        \n",
    "        # Labels\n",
    "        self.labels = labels\n",
    "        \n",
    "    def __len__(self):\n",
    "        return len(self.vqas)\n",
    "\n",
    "    def __getitem__(self, idx):\n",
    "        \n",
    "        # img\n",
    "        loc = self.vqas[idx][0].split('/')\n",
    "        img_loc = os.path.join(loc[0],loc[1],loc[2], 'left_frames',loc[-1].split('_')[0]+'.png')\n",
    "        img = Image.open(img_loc)\n",
    "        if self.transform: img = self.transform(img)\n",
    "            \n",
    "        # question and answer\n",
    "        question = self.vqas[idx][1].split('|')[0]\n",
    "        label = self.labels.index(str(self.vqas[idx][1].split('|')[1]))\n",
    "\n",
    "        return img, question, label"
   ]
  },
  {
   "cell_type": "markdown",
   "id": "08a6e890",
   "metadata": {},
   "source": [
    "## Model Version 1"
   ]
  },
  {
   "cell_type": "code",
   "execution_count": 2,
   "id": "d710b349",
   "metadata": {},
   "outputs": [],
   "source": [
    "from sentence_transformers import SentenceTransformer\n",
    "import torch\n",
    "import torch.nn as nn\n",
    "from torchvision import models\n",
    "\n",
    "class Surgical_VQA(nn.Module):\n",
    "    def __init__(self, num_classes=12):\n",
    "        super(Surgical_VQA, self).__init__()\n",
    "\n",
    "        # text processing\n",
    "        self.text_feature_extractor = SentenceTransformer('bert-base-nli-mean-tokens')\n",
    "        # image processing\n",
    "        self.img_feature_extractor = models.resnet50(pretrained=True)\n",
    "        new_fc = nn.Sequential(*list(self.img_feature_extractor.fc.children())[:-1])\n",
    "        self.img_feature_extractor.fc = new_fc\n",
    "\n",
    "        #classifier\n",
    "        self.classifier = nn.Linear(2816, num_classes)\n",
    "\n",
    "    def forward(self, img, text):\n",
    "        img_feature = self.img_feature_extractor(img)\n",
    "        \n",
    "        text_feature = self.text_feature_extractor.encode(text)\n",
    "        text_feature = torch.tensor(text_feature).cuda()\n",
    "        \n",
    "        img_text_features = torch.cat((img_feature, text_feature), dim=1)\n",
    "        \n",
    "        out = self.classifier(img_text_features)\n",
    "        return out"
   ]
  },
  {
   "cell_type": "markdown",
   "id": "87a85e42",
   "metadata": {},
   "source": [
    "## Model Version 2"
   ]
  },
  {
   "cell_type": "code",
   "execution_count": 2,
   "id": "63597038",
   "metadata": {},
   "outputs": [],
   "source": [
    "from sentence_transformers import SentenceTransformer\n",
    "import torch\n",
    "import torch.nn as nn\n",
    "from torchvision import models\n",
    "\n",
    "class Surgical_VQA(nn.Module):\n",
    "    def __init__(self, num_classes=12):\n",
    "        super(Surgical_VQA, self).__init__()\n",
    "\n",
    "        # text processing\n",
    "        self.text_feature_extractor = SentenceTransformer('bert-large-nli-mean-tokens')\n",
    "        # image processing\n",
    "        self.img_feature_extractor = models.resnet50(pretrained=True)\n",
    "        new_fc = nn.Sequential(*list(self.img_feature_extractor.fc.children())[:-1])\n",
    "        self.img_feature_extractor.fc = new_fc\n",
    "\n",
    "        #classifier\n",
    "        self.classifier = nn.Linear(3072, num_classes)\n",
    "\n",
    "    def forward(self, img, text):\n",
    "        img_feature = self.img_feature_extractor(img)\n",
    "        \n",
    "        text_feature = self.text_feature_extractor.encode(text)\n",
    "        text_feature = torch.tensor(text_feature).cuda()\n",
    "        \n",
    "        img_text_features = torch.cat((img_feature, text_feature), dim=1)\n",
    "        \n",
    "        out = self.classifier(img_text_features)\n",
    "        return out"
   ]
  },
  {
   "cell_type": "markdown",
   "id": "aa404aa0",
   "metadata": {},
   "source": [
    "## Model Version 3"
   ]
  },
  {
   "cell_type": "code",
   "execution_count": 2,
   "id": "3df769dc",
   "metadata": {},
   "outputs": [
    {
     "name": "stderr",
     "output_type": "stream",
     "text": [
      "[nltk_data] Downloading package punkt to /home/mobarak/nltk_data...\n",
      "[nltk_data]   Package punkt is already up-to-date!\n"
     ]
    }
   ],
   "source": [
    "import torch\n",
    "import torch.nn as nn\n",
    "from torchvision import models\n",
    "\n",
    "import nltk\n",
    "nltk.download('punkt')\n",
    "from InferSent.models import InferSent\n",
    "\n",
    "class Surgical_VQA(nn.Module):\n",
    "    def __init__(self, num_classes=12):\n",
    "        super(Surgical_VQA, self).__init__()\n",
    "\n",
    "        # text processing\n",
    "        params_model = {'bsize': 64, 'word_emb_dim': 300, 'enc_lstm_dim': 2048,\n",
    "                        'pool_type': 'max', 'dpout_model': 0.0, 'version': 2}\n",
    "        self.text_feature_extractor = InferSent(params_model)\n",
    "        self.text_feature_extractor.load_state_dict(torch.load('InferSent/encoder/infersent2.pkl'))\n",
    "        self.text_feature_extractor.set_w2v_path('InferSent/fastText/crawl-300d-2M.vec')\n",
    "        self.text_feature_extractor.build_vocab_k_words(K=100000)\n",
    "        \n",
    "        # image processing\n",
    "        self.img_feature_extractor = models.resnet50(pretrained=True)\n",
    "        new_fc = nn.Sequential(*list(self.img_feature_extractor.fc.children())[:-1])\n",
    "        self.img_feature_extractor.fc = new_fc\n",
    "\n",
    "        #classifier\n",
    "        self.classifier = nn.Linear(6144, num_classes)\n",
    "\n",
    "    def forward(self, img, text):\n",
    "        img_feature = self.img_feature_extractor(img)\n",
    "        \n",
    "        text_feature = self.text_feature_extractor.encode(text) #infersent.encode(query)[0]\n",
    "        text_feature = torch.tensor(text_feature).cuda()\n",
    "        \n",
    "        img_text_features = torch.cat((img_feature, text_feature), dim=1)\n",
    "        \n",
    "        out = self.classifier(img_text_features)\n",
    "        return out"
   ]
  },
  {
   "cell_type": "markdown",
   "id": "3fd2e3b3",
   "metadata": {},
   "source": [
    "## Metrics"
   ]
  },
  {
   "cell_type": "code",
   "execution_count": 3,
   "id": "d8eef33e",
   "metadata": {},
   "outputs": [],
   "source": [
    "import numpy as np\n",
    "\n",
    "from sklearn.metrics import accuracy_score\n",
    "from sklearn.metrics import confusion_matrix\n",
    "from sklearn.metrics import average_precision_score\n",
    "\n",
    "def calc_acc(y_true, y_pred):\n",
    "    acc = accuracy_score(y_true, y_pred)\n",
    "    return acc\n",
    "\n",
    "def calc_classwise_acc(y_true, y_pred):\n",
    "    matrix = confusion_matrix(y_true, y_pred)\n",
    "    classwise_acc = matrix.diagonal()/matrix.sum(axis=1)\n",
    "    return classwise_acc\n",
    "\n",
    "def calc_map(y_true, y_scores):\n",
    "    mAP = average_precision_score(y_true, y_scores,average=None)\n",
    "    return mAP"
   ]
  },
  {
   "cell_type": "markdown",
   "id": "23248629",
   "metadata": {},
   "source": [
    "## Test model"
   ]
  },
  {
   "cell_type": "code",
   "execution_count": 4,
   "id": "f25b694e",
   "metadata": {},
   "outputs": [],
   "source": [
    "import torch.nn.functional as F\n",
    "\n",
    "def test_model(epoch, model, valid_dataloader):\n",
    "    \n",
    "    model.eval()\n",
    "\n",
    "    total_loss = 0.0    \n",
    "    label_true = None\n",
    "    label_pred = None\n",
    "    label_score = None\n",
    "    \n",
    "    criterion = nn.CrossEntropyLoss()\n",
    "    \n",
    "    with torch.no_grad():\n",
    "        for i, (imgs, q, labels) in enumerate(valid_dataloader, 0):\n",
    "            questions = []\n",
    "            for question in q: questions.append(question)\n",
    "            imgs, labels = imgs.cuda(), labels.cuda()\n",
    "            \n",
    "            outputs = model(imgs, questions)\n",
    "\n",
    "            loss = criterion(outputs,labels)\n",
    "            total_loss += loss.item()\n",
    "        \n",
    "            scores, predicted = torch.max(F.softmax(outputs, dim=1).data, 1)    \n",
    "            label_true = labels.data.cpu() if label_true == None else torch.cat((label_true, labels.data.cpu()), 0)\n",
    "            label_pred = predicted.data.cpu() if label_pred == None else torch.cat((label_pred, predicted.data.cpu()), 0)\n",
    "            label_score = scores.data.cpu() if label_score == None else torch.cat((label_score, scores.data.cpu()), 0)\n",
    "\n",
    "            \n",
    "    acc, c_acc, mAP = calc_acc(label_true, label_pred), calc_classwise_acc(label_true, label_pred), 0.0#calc_map(label_true, label_score)\n",
    "\n",
    "    print('Test: epoch: %d loss: %.6f | Acc: %.6f | mAP: %.6f' %(epoch, total_loss, acc, mAP))\n",
    "    print(c_acc)\n",
    "    \n",
    "    return (acc, c_acc, mAP)"
   ]
  },
  {
   "cell_type": "markdown",
   "id": "f8c11ee3",
   "metadata": {},
   "source": [
    "## Train model"
   ]
  },
  {
   "cell_type": "code",
   "execution_count": 5,
   "id": "5dccb841",
   "metadata": {},
   "outputs": [],
   "source": [
    "from torch import optim\n",
    "def train_model(epoch, model, train_dataloader, lr):  # train model\n",
    "    \n",
    "    model.train()\n",
    "    \n",
    "    total_loss = 0.0    \n",
    "    label_true = None\n",
    "    label_pred = None\n",
    "    label_score = None\n",
    "    \n",
    "    criterion = nn.CrossEntropyLoss()\n",
    "    optimizer = optim.Adam(model.parameters(), lr = lr, weight_decay = 0)\n",
    "    \n",
    "    for i, (imgs, q, labels) in enumerate(train_dataloader,0):\n",
    "        questions = []\n",
    "        for question in q: questions.append(question)\n",
    "        imgs, labels = imgs.cuda(), labels.cuda()\n",
    "        \n",
    "        # zero the parameter gradients\n",
    "        optimizer.zero_grad()\n",
    "\n",
    "        outputs = model(imgs, questions)\n",
    "        \n",
    "        loss = criterion(outputs, labels)\n",
    "        loss.backward()\n",
    "        optimizer.step()\n",
    "\n",
    "        # print statistics\n",
    "        total_loss += loss.item()\n",
    "        \n",
    "        scores, predicted = torch.max(F.softmax(outputs, dim=1).data, 1)    \n",
    "        label_true = labels.data.cpu() if label_true == None else torch.cat((label_true, labels.data.cpu()), 0)\n",
    "        label_pred = predicted.data.cpu() if label_pred == None else torch.cat((label_pred, predicted.data.cpu()), 0)\n",
    "        label_score = scores.data.cpu() if label_score == None else torch.cat((label_score, scores.data.cpu()), 0)\n",
    "\n",
    "    \n",
    "    # loss and acc\n",
    "    acc, c_acc, mAP = calc_acc(label_true, label_pred), calc_classwise_acc(label_true, label_pred), 0.0#calc_map(label_true, label_score)\n",
    "\n",
    "    print('Train: epoch: %d loss: %.6f | Acc: %.6f | mAP: %.6f' %(epoch, total_loss, acc, mAP))\n",
    "    return"
   ]
  },
  {
   "cell_type": "markdown",
   "id": "f6f2d921",
   "metadata": {},
   "source": [
    "## Main"
   ]
  },
  {
   "cell_type": "code",
   "execution_count": 6,
   "id": "4154d89f",
   "metadata": {
    "scrolled": true
   },
   "outputs": [
    {
     "name": "stdout",
     "output_type": "stream",
     "text": [
      "Total files: 1560 | Total question: 9014\n",
      "Total files: 447 | Total question: 2769\n",
      "Vocab size : 100000\n"
     ]
    },
    {
     "name": "stderr",
     "output_type": "stream",
     "text": [
      "/media/mobarak/data/lalith/SurgicalScene_VQA/InferSent/models.py:207: VisibleDeprecationWarning: Creating an ndarray from ragged nested sequences (which is a list-or-tuple of lists-or-tuples-or ndarrays with different lengths or shapes) is deprecated. If you meant to do this, you must specify 'dtype=object' when creating the ndarray.\n",
      "  sentences = np.array(sentences)[idx_sort]\n"
     ]
    },
    {
     "name": "stdout",
     "output_type": "stream",
     "text": [
      "Test: epoch: 1 loss: 643.626866 | Acc: 0.261482 | mAP: 0.000000\n"
     ]
    },
    {
     "name": "stderr",
     "output_type": "stream",
     "text": [
      "/media/mobarak/data/lalith/SurgicalScene_VQA/InferSent/models.py:207: VisibleDeprecationWarning: Creating an ndarray from ragged nested sequences (which is a list-or-tuple of lists-or-tuples-or ndarrays with different lengths or shapes) is deprecated. If you meant to do this, you must specify 'dtype=object' when creating the ndarray.\n",
      "  sentences = np.array(sentences)[idx_sort]\n"
     ]
    },
    {
     "name": "stdout",
     "output_type": "stream",
     "text": [
      "Test: epoch: 1 loss: 556.344057 | Acc: 0.353672 | mAP: 0.000000\n",
      "[0.43269231 0.74832419 0.         0.         0.34653465 0.\n",
      " 0.00207039 0.         0.         0.         0.         0.\n",
      " 0.         0.         0.52554745 0.20345964 0.         0.        ]\n",
      "Best epoch: 1 | Best acc: 0.353672\n"
     ]
    },
    {
     "name": "stderr",
     "output_type": "stream",
     "text": [
      "/media/mobarak/data/lalith/SurgicalScene_VQA/InferSent/models.py:207: VisibleDeprecationWarning: Creating an ndarray from ragged nested sequences (which is a list-or-tuple of lists-or-tuples-or ndarrays with different lengths or shapes) is deprecated. If you meant to do this, you must specify 'dtype=object' when creating the ndarray.\n",
      "  sentences = np.array(sentences)[idx_sort]\n"
     ]
    },
    {
     "name": "stdout",
     "output_type": "stream",
     "text": [
      "Test: epoch: 2 loss: 535.756021 | Acc: 0.369869 | mAP: 0.000000\n"
     ]
    },
    {
     "name": "stderr",
     "output_type": "stream",
     "text": [
      "/media/mobarak/data/lalith/SurgicalScene_VQA/InferSent/models.py:207: VisibleDeprecationWarning: Creating an ndarray from ragged nested sequences (which is a list-or-tuple of lists-or-tuples-or ndarrays with different lengths or shapes) is deprecated. If you meant to do this, you must specify 'dtype=object' when creating the ndarray.\n",
      "  sentences = np.array(sentences)[idx_sort]\n"
     ]
    },
    {
     "name": "stdout",
     "output_type": "stream",
     "text": [
      "Test: epoch: 2 loss: 493.740508 | Acc: 0.454959 | mAP: 0.000000\n",
      "[0.57692308 0.71785497 0.         0.03149606 0.52050919 0.\n",
      " 0.30020704 0.         0.         0.         0.         0.\n",
      " 0.         0.         0.6483079  0.31795717 0.1920904  0.06947368]\n",
      "Best epoch: 2 | Best acc: 0.454959\n"
     ]
    },
    {
     "name": "stderr",
     "output_type": "stream",
     "text": [
      "/media/mobarak/data/lalith/SurgicalScene_VQA/InferSent/models.py:207: VisibleDeprecationWarning: Creating an ndarray from ragged nested sequences (which is a list-or-tuple of lists-or-tuples-or ndarrays with different lengths or shapes) is deprecated. If you meant to do this, you must specify 'dtype=object' when creating the ndarray.\n",
      "  sentences = np.array(sentences)[idx_sort]\n"
     ]
    },
    {
     "name": "stdout",
     "output_type": "stream",
     "text": [
      "Test: epoch: 3 loss: 487.373958 | Acc: 0.439982 | mAP: 0.000000\n"
     ]
    },
    {
     "name": "stderr",
     "output_type": "stream",
     "text": [
      "/media/mobarak/data/lalith/SurgicalScene_VQA/InferSent/models.py:207: VisibleDeprecationWarning: Creating an ndarray from ragged nested sequences (which is a list-or-tuple of lists-or-tuples-or ndarrays with different lengths or shapes) is deprecated. If you meant to do this, you must specify 'dtype=object' when creating the ndarray.\n",
      "  sentences = np.array(sentences)[idx_sort]\n"
     ]
    },
    {
     "name": "stdout",
     "output_type": "stream",
     "text": [
      "Test: epoch: 3 loss: 451.919736 | Acc: 0.509430 | mAP: 0.000000\n",
      "[0.69615385 0.78549665 0.         0.3175853  0.64922207 0.\n",
      " 0.26708075 0.         0.         0.25203252 0.         0.\n",
      " 0.         0.         0.57133378 0.37149918 0.29378531 0.01894737]\n",
      "Best epoch: 3 | Best acc: 0.509430\n"
     ]
    },
    {
     "name": "stderr",
     "output_type": "stream",
     "text": [
      "/media/mobarak/data/lalith/SurgicalScene_VQA/InferSent/models.py:207: VisibleDeprecationWarning: Creating an ndarray from ragged nested sequences (which is a list-or-tuple of lists-or-tuples-or ndarrays with different lengths or shapes) is deprecated. If you meant to do this, you must specify 'dtype=object' when creating the ndarray.\n",
      "  sentences = np.array(sentences)[idx_sort]\n"
     ]
    },
    {
     "name": "stdout",
     "output_type": "stream",
     "text": [
      "Test: epoch: 4 loss: 453.352311 | Acc: 0.500666 | mAP: 0.000000\n"
     ]
    },
    {
     "name": "stderr",
     "output_type": "stream",
     "text": [
      "/media/mobarak/data/lalith/SurgicalScene_VQA/InferSent/models.py:207: VisibleDeprecationWarning: Creating an ndarray from ragged nested sequences (which is a list-or-tuple of lists-or-tuples-or ndarrays with different lengths or shapes) is deprecated. If you meant to do this, you must specify 'dtype=object' when creating the ndarray.\n",
      "  sentences = np.array(sentences)[idx_sort]\n"
     ]
    },
    {
     "name": "stdout",
     "output_type": "stream",
     "text": [
      "Test: epoch: 4 loss: 420.804930 | Acc: 0.541491 | mAP: 0.000000\n",
      "[0.74166667 0.83485679 0.         0.22572178 0.65912306 0.015625\n",
      " 0.35610766 0.         0.         0.30894309 0.         0.\n",
      " 0.         0.         0.61313869 0.38714992 0.32956685 0.04421053]\n",
      "Best epoch: 4 | Best acc: 0.541491\n"
     ]
    },
    {
     "name": "stderr",
     "output_type": "stream",
     "text": [
      "/media/mobarak/data/lalith/SurgicalScene_VQA/InferSent/models.py:207: VisibleDeprecationWarning: Creating an ndarray from ragged nested sequences (which is a list-or-tuple of lists-or-tuples-or ndarrays with different lengths or shapes) is deprecated. If you meant to do this, you must specify 'dtype=object' when creating the ndarray.\n",
      "  sentences = np.array(sentences)[idx_sort]\n"
     ]
    },
    {
     "name": "stdout",
     "output_type": "stream",
     "text": [
      "Test: epoch: 5 loss: 423.870410 | Acc: 0.542268 | mAP: 0.000000\n"
     ]
    },
    {
     "name": "stderr",
     "output_type": "stream",
     "text": [
      "/media/mobarak/data/lalith/SurgicalScene_VQA/InferSent/models.py:207: VisibleDeprecationWarning: Creating an ndarray from ragged nested sequences (which is a list-or-tuple of lists-or-tuples-or ndarrays with different lengths or shapes) is deprecated. If you meant to do this, you must specify 'dtype=object' when creating the ndarray.\n",
      "  sentences = np.array(sentences)[idx_sort]\n"
     ]
    },
    {
     "name": "stdout",
     "output_type": "stream",
     "text": [
      "Test: epoch: 5 loss: 393.568039 | Acc: 0.614489 | mAP: 0.000000\n",
      "[0.88076923 0.80682511 0.         0.48818898 0.60254597 0.03125\n",
      " 0.46169772 0.         0.         0.56097561 0.         0.09756098\n",
      " 0.         0.27777778 0.65162575 0.49258649 0.45574388 0.18315789]\n",
      "Best epoch: 5 | Best acc: 0.614489\n"
     ]
    },
    {
     "name": "stderr",
     "output_type": "stream",
     "text": [
      "/media/mobarak/data/lalith/SurgicalScene_VQA/InferSent/models.py:207: VisibleDeprecationWarning: Creating an ndarray from ragged nested sequences (which is a list-or-tuple of lists-or-tuples-or ndarrays with different lengths or shapes) is deprecated. If you meant to do this, you must specify 'dtype=object' when creating the ndarray.\n",
      "  sentences = np.array(sentences)[idx_sort]\n"
     ]
    },
    {
     "name": "stdout",
     "output_type": "stream",
     "text": [
      "Test: epoch: 6 loss: 399.596999 | Acc: 0.582205 | mAP: 0.000000\n"
     ]
    },
    {
     "name": "stderr",
     "output_type": "stream",
     "text": [
      "/media/mobarak/data/lalith/SurgicalScene_VQA/InferSent/models.py:207: VisibleDeprecationWarning: Creating an ndarray from ragged nested sequences (which is a list-or-tuple of lists-or-tuples-or ndarrays with different lengths or shapes) is deprecated. If you meant to do this, you must specify 'dtype=object' when creating the ndarray.\n",
      "  sentences = np.array(sentences)[idx_sort]\n"
     ]
    },
    {
     "name": "stdout",
     "output_type": "stream",
     "text": [
      "Test: epoch: 6 loss: 370.234587 | Acc: 0.635012 | mAP: 0.000000\n",
      "[0.95705128 0.87141987 0.         0.2808399  0.56435644 0.28125\n",
      " 0.50724638 0.         0.         0.73170732 0.         0.17073171\n",
      " 0.         0.         0.66622429 0.49011532 0.30885122 0.32421053]\n",
      "Best epoch: 6 | Best acc: 0.635012\n"
     ]
    },
    {
     "name": "stderr",
     "output_type": "stream",
     "text": [
      "/media/mobarak/data/lalith/SurgicalScene_VQA/InferSent/models.py:207: VisibleDeprecationWarning: Creating an ndarray from ragged nested sequences (which is a list-or-tuple of lists-or-tuples-or ndarrays with different lengths or shapes) is deprecated. If you meant to do this, you must specify 'dtype=object' when creating the ndarray.\n",
      "  sentences = np.array(sentences)[idx_sort]\n"
     ]
    },
    {
     "name": "stdout",
     "output_type": "stream",
     "text": [
      "Test: epoch: 7 loss: 379.238940 | Acc: 0.601287 | mAP: 0.000000\n"
     ]
    },
    {
     "name": "stderr",
     "output_type": "stream",
     "text": [
      "/media/mobarak/data/lalith/SurgicalScene_VQA/InferSent/models.py:207: VisibleDeprecationWarning: Creating an ndarray from ragged nested sequences (which is a list-or-tuple of lists-or-tuples-or ndarrays with different lengths or shapes) is deprecated. If you meant to do this, you must specify 'dtype=object' when creating the ndarray.\n",
      "  sentences = np.array(sentences)[idx_sort]\n"
     ]
    },
    {
     "name": "stdout",
     "output_type": "stream",
     "text": [
      "Test: epoch: 7 loss: 350.162369 | Acc: 0.649656 | mAP: 0.000000\n",
      "[0.97948718 0.82084095 0.         0.37270341 0.69165488 0.1875\n",
      " 0.4699793  0.         0.         0.63414634 0.         0.56097561\n",
      " 0.         0.33333333 0.63437293 0.50164745 0.57438795 0.21894737]\n",
      "Best epoch: 7 | Best acc: 0.649656\n"
     ]
    },
    {
     "name": "stderr",
     "output_type": "stream",
     "text": [
      "/media/mobarak/data/lalith/SurgicalScene_VQA/InferSent/models.py:207: VisibleDeprecationWarning: Creating an ndarray from ragged nested sequences (which is a list-or-tuple of lists-or-tuples-or ndarrays with different lengths or shapes) is deprecated. If you meant to do this, you must specify 'dtype=object' when creating the ndarray.\n",
      "  sentences = np.array(sentences)[idx_sort]\n"
     ]
    },
    {
     "name": "stdout",
     "output_type": "stream",
     "text": [
      "Test: epoch: 8 loss: 359.927111 | Acc: 0.617595 | mAP: 0.000000\n"
     ]
    },
    {
     "name": "stderr",
     "output_type": "stream",
     "text": [
      "/media/mobarak/data/lalith/SurgicalScene_VQA/InferSent/models.py:207: VisibleDeprecationWarning: Creating an ndarray from ragged nested sequences (which is a list-or-tuple of lists-or-tuples-or ndarrays with different lengths or shapes) is deprecated. If you meant to do this, you must specify 'dtype=object' when creating the ndarray.\n",
      "  sentences = np.array(sentences)[idx_sort]\n"
     ]
    },
    {
     "name": "stdout",
     "output_type": "stream",
     "text": [
      "Test: epoch: 8 loss: 331.267208 | Acc: 0.667406 | mAP: 0.000000\n",
      "[1.         0.87568556 0.         0.62992126 0.61386139 0.1171875\n",
      " 0.30641822 0.         0.         0.68292683 0.         0.51219512\n",
      " 0.         0.         0.7876576  0.42009885 0.44821092 0.29894737]\n",
      "Best epoch: 8 | Best acc: 0.667406\n"
     ]
    },
    {
     "name": "stderr",
     "output_type": "stream",
     "text": [
      "/media/mobarak/data/lalith/SurgicalScene_VQA/InferSent/models.py:207: VisibleDeprecationWarning: Creating an ndarray from ragged nested sequences (which is a list-or-tuple of lists-or-tuples-or ndarrays with different lengths or shapes) is deprecated. If you meant to do this, you must specify 'dtype=object' when creating the ndarray.\n",
      "  sentences = np.array(sentences)[idx_sort]\n"
     ]
    },
    {
     "name": "stdout",
     "output_type": "stream",
     "text": [
      "Test: epoch: 9 loss: 342.633145 | Acc: 0.626026 | mAP: 0.000000\n"
     ]
    },
    {
     "name": "stderr",
     "output_type": "stream",
     "text": [
      "/media/mobarak/data/lalith/SurgicalScene_VQA/InferSent/models.py:207: VisibleDeprecationWarning: Creating an ndarray from ragged nested sequences (which is a list-or-tuple of lists-or-tuples-or ndarrays with different lengths or shapes) is deprecated. If you meant to do this, you must specify 'dtype=object' when creating the ndarray.\n",
      "  sentences = np.array(sentences)[idx_sort]\n"
     ]
    },
    {
     "name": "stdout",
     "output_type": "stream",
     "text": [
      "Test: epoch: 9 loss: 315.950546 | Acc: 0.665298 | mAP: 0.000000\n",
      "[0.9974359  0.88543571 0.         0.4488189  0.60537482 0.4609375\n",
      " 0.36024845 0.         0.         0.58536585 0.         0.56097561\n",
      " 0.         0.         0.6748507  0.59884679 0.42184557 0.19578947]\n",
      "Best epoch: 8 | Best acc: 0.667406\n"
     ]
    },
    {
     "name": "stderr",
     "output_type": "stream",
     "text": [
      "/media/mobarak/data/lalith/SurgicalScene_VQA/InferSent/models.py:207: VisibleDeprecationWarning: Creating an ndarray from ragged nested sequences (which is a list-or-tuple of lists-or-tuples-or ndarrays with different lengths or shapes) is deprecated. If you meant to do this, you must specify 'dtype=object' when creating the ndarray.\n",
      "  sentences = np.array(sentences)[idx_sort]\n"
     ]
    },
    {
     "name": "stdout",
     "output_type": "stream",
     "text": [
      "Test: epoch: 10 loss: 326.960029 | Acc: 0.627912 | mAP: 0.000000\n"
     ]
    },
    {
     "name": "stderr",
     "output_type": "stream",
     "text": [
      "/media/mobarak/data/lalith/SurgicalScene_VQA/InferSent/models.py:207: VisibleDeprecationWarning: Creating an ndarray from ragged nested sequences (which is a list-or-tuple of lists-or-tuples-or ndarrays with different lengths or shapes) is deprecated. If you meant to do this, you must specify 'dtype=object' when creating the ndarray.\n",
      "  sentences = np.array(sentences)[idx_sort]\n"
     ]
    },
    {
     "name": "stdout",
     "output_type": "stream",
     "text": [
      "Test: epoch: 10 loss: 300.894691 | Acc: 0.672177 | mAP: 0.000000\n",
      "[1.         0.8269348  0.         0.57217848 0.70155587 0.2578125\n",
      " 0.3126294  0.         0.         0.66666667 0.         0.51219512\n",
      " 0.         0.47222222 0.78832117 0.40939044 0.34839925 0.49894737]\n",
      "Best epoch: 10 | Best acc: 0.672177\n"
     ]
    },
    {
     "name": "stderr",
     "output_type": "stream",
     "text": [
      "/media/mobarak/data/lalith/SurgicalScene_VQA/InferSent/models.py:207: VisibleDeprecationWarning: Creating an ndarray from ragged nested sequences (which is a list-or-tuple of lists-or-tuples-or ndarrays with different lengths or shapes) is deprecated. If you meant to do this, you must specify 'dtype=object' when creating the ndarray.\n",
      "  sentences = np.array(sentences)[idx_sort]\n"
     ]
    },
    {
     "name": "stdout",
     "output_type": "stream",
     "text": [
      "Test: epoch: 11 loss: 313.327271 | Acc: 0.630131 | mAP: 0.000000\n"
     ]
    },
    {
     "name": "stderr",
     "output_type": "stream",
     "text": [
      "/media/mobarak/data/lalith/SurgicalScene_VQA/InferSent/models.py:207: VisibleDeprecationWarning: Creating an ndarray from ragged nested sequences (which is a list-or-tuple of lists-or-tuples-or ndarrays with different lengths or shapes) is deprecated. If you meant to do this, you must specify 'dtype=object' when creating the ndarray.\n",
      "  sentences = np.array(sentences)[idx_sort]\n"
     ]
    },
    {
     "name": "stdout",
     "output_type": "stream",
     "text": [
      "Test: epoch: 11 loss: 287.178046 | Acc: 0.670956 | mAP: 0.000000\n",
      "[1.         0.83973187 0.         0.35170604 0.67043847 0.2734375\n",
      " 0.55693582 0.         0.         0.63414634 0.         0.56097561\n",
      " 0.         0.02777778 0.77969476 0.47693575 0.33521657 0.34315789]\n",
      "Best epoch: 10 | Best acc: 0.672177\n"
     ]
    },
    {
     "name": "stderr",
     "output_type": "stream",
     "text": [
      "/media/mobarak/data/lalith/SurgicalScene_VQA/InferSent/models.py:207: VisibleDeprecationWarning: Creating an ndarray from ragged nested sequences (which is a list-or-tuple of lists-or-tuples-or ndarrays with different lengths or shapes) is deprecated. If you meant to do this, you must specify 'dtype=object' when creating the ndarray.\n",
      "  sentences = np.array(sentences)[idx_sort]\n"
     ]
    },
    {
     "name": "stdout",
     "output_type": "stream",
     "text": [
      "Test: epoch: 12 loss: 299.714556 | Acc: 0.635678 | mAP: 0.000000\n"
     ]
    },
    {
     "name": "stderr",
     "output_type": "stream",
     "text": [
      "/media/mobarak/data/lalith/SurgicalScene_VQA/InferSent/models.py:207: VisibleDeprecationWarning: Creating an ndarray from ragged nested sequences (which is a list-or-tuple of lists-or-tuples-or ndarrays with different lengths or shapes) is deprecated. If you meant to do this, you must specify 'dtype=object' when creating the ndarray.\n",
      "  sentences = np.array(sentences)[idx_sort]\n"
     ]
    },
    {
     "name": "stdout",
     "output_type": "stream",
     "text": [
      "Test: epoch: 12 loss: 274.783395 | Acc: 0.670291 | mAP: 0.000000\n",
      "[1.         0.86593541 0.         0.34645669 0.66760962 0.109375\n",
      " 0.47412008 0.         0.01666667 0.66666667 0.         0.63414634\n",
      " 0.         0.20833333 0.58062376 0.65074135 0.25235405 0.61263158]\n",
      "Best epoch: 10 | Best acc: 0.672177\n"
     ]
    },
    {
     "name": "stderr",
     "output_type": "stream",
     "text": [
      "/media/mobarak/data/lalith/SurgicalScene_VQA/InferSent/models.py:207: VisibleDeprecationWarning: Creating an ndarray from ragged nested sequences (which is a list-or-tuple of lists-or-tuples-or ndarrays with different lengths or shapes) is deprecated. If you meant to do this, you must specify 'dtype=object' when creating the ndarray.\n",
      "  sentences = np.array(sentences)[idx_sort]\n"
     ]
    },
    {
     "name": "stdout",
     "output_type": "stream",
     "text": [
      "Test: epoch: 13 loss: 286.658918 | Acc: 0.635567 | mAP: 0.000000\n"
     ]
    },
    {
     "name": "stderr",
     "output_type": "stream",
     "text": [
      "/media/mobarak/data/lalith/SurgicalScene_VQA/InferSent/models.py:207: VisibleDeprecationWarning: Creating an ndarray from ragged nested sequences (which is a list-or-tuple of lists-or-tuples-or ndarrays with different lengths or shapes) is deprecated. If you meant to do this, you must specify 'dtype=object' when creating the ndarray.\n",
      "  sentences = np.array(sentences)[idx_sort]\n"
     ]
    },
    {
     "name": "stdout",
     "output_type": "stream",
     "text": [
      "Test: epoch: 13 loss: 264.077843 | Acc: 0.676059 | mAP: 0.000000\n",
      "[1.         0.8464351  0.         0.3175853  0.70155587 0.1796875\n",
      " 0.45548654 0.         0.2        0.69105691 0.         0.63414634\n",
      " 0.         0.51388889 0.73523557 0.4752883  0.57438795 0.28421053]\n",
      "Best epoch: 13 | Best acc: 0.676059\n"
     ]
    },
    {
     "name": "stderr",
     "output_type": "stream",
     "text": [
      "/media/mobarak/data/lalith/SurgicalScene_VQA/InferSent/models.py:207: VisibleDeprecationWarning: Creating an ndarray from ragged nested sequences (which is a list-or-tuple of lists-or-tuples-or ndarrays with different lengths or shapes) is deprecated. If you meant to do this, you must specify 'dtype=object' when creating the ndarray.\n",
      "  sentences = np.array(sentences)[idx_sort]\n"
     ]
    },
    {
     "name": "stdout",
     "output_type": "stream",
     "text": [
      "Test: epoch: 14 loss: 277.339120 | Acc: 0.637786 | mAP: 0.000000\n"
     ]
    },
    {
     "name": "stderr",
     "output_type": "stream",
     "text": [
      "/media/mobarak/data/lalith/SurgicalScene_VQA/InferSent/models.py:207: VisibleDeprecationWarning: Creating an ndarray from ragged nested sequences (which is a list-or-tuple of lists-or-tuples-or ndarrays with different lengths or shapes) is deprecated. If you meant to do this, you must specify 'dtype=object' when creating the ndarray.\n",
      "  sentences = np.array(sentences)[idx_sort]\n"
     ]
    },
    {
     "name": "stdout",
     "output_type": "stream",
     "text": [
      "Test: epoch: 14 loss: 253.981518 | Acc: 0.674950 | mAP: 0.000000\n",
      "[1.         0.81291895 0.         0.35695538 0.72277228 0.140625\n",
      " 0.57556936 0.         0.4        0.76422764 0.         0.24390244\n",
      " 0.         0.02777778 0.74054413 0.5        0.38229755 0.40210526]\n",
      "Best epoch: 13 | Best acc: 0.676059\n"
     ]
    },
    {
     "name": "stderr",
     "output_type": "stream",
     "text": [
      "/media/mobarak/data/lalith/SurgicalScene_VQA/InferSent/models.py:207: VisibleDeprecationWarning: Creating an ndarray from ragged nested sequences (which is a list-or-tuple of lists-or-tuples-or ndarrays with different lengths or shapes) is deprecated. If you meant to do this, you must specify 'dtype=object' when creating the ndarray.\n",
      "  sentences = np.array(sentences)[idx_sort]\n"
     ]
    },
    {
     "name": "stdout",
     "output_type": "stream",
     "text": [
      "Test: epoch: 15 loss: 268.136540 | Acc: 0.635678 | mAP: 0.000000\n"
     ]
    },
    {
     "name": "stderr",
     "output_type": "stream",
     "text": [
      "/media/mobarak/data/lalith/SurgicalScene_VQA/InferSent/models.py:207: VisibleDeprecationWarning: Creating an ndarray from ragged nested sequences (which is a list-or-tuple of lists-or-tuples-or ndarrays with different lengths or shapes) is deprecated. If you meant to do this, you must specify 'dtype=object' when creating the ndarray.\n",
      "  sentences = np.array(sentences)[idx_sort]\n"
     ]
    },
    {
     "name": "stdout",
     "output_type": "stream",
     "text": [
      "Test: epoch: 15 loss: 244.562045 | Acc: 0.678389 | mAP: 0.000000\n",
      "[1.         0.90249848 0.         0.41469816 0.6562942  0.1875\n",
      " 0.32712215 0.         0.33333333 0.67479675 0.         0.63414634\n",
      " 0.         0.09722222 0.59455873 0.6523888  0.56685499 0.30526316]\n",
      "Best epoch: 15 | Best acc: 0.678389\n"
     ]
    },
    {
     "name": "stderr",
     "output_type": "stream",
     "text": [
      "/media/mobarak/data/lalith/SurgicalScene_VQA/InferSent/models.py:207: VisibleDeprecationWarning: Creating an ndarray from ragged nested sequences (which is a list-or-tuple of lists-or-tuples-or ndarrays with different lengths or shapes) is deprecated. If you meant to do this, you must specify 'dtype=object' when creating the ndarray.\n",
      "  sentences = np.array(sentences)[idx_sort]\n"
     ]
    },
    {
     "name": "stdout",
     "output_type": "stream",
     "text": [
      "Test: epoch: 16 loss: 259.570279 | Acc: 0.633792 | mAP: 0.000000\n"
     ]
    },
    {
     "name": "stderr",
     "output_type": "stream",
     "text": [
      "/media/mobarak/data/lalith/SurgicalScene_VQA/InferSent/models.py:207: VisibleDeprecationWarning: Creating an ndarray from ragged nested sequences (which is a list-or-tuple of lists-or-tuples-or ndarrays with different lengths or shapes) is deprecated. If you meant to do this, you must specify 'dtype=object' when creating the ndarray.\n",
      "  sentences = np.array(sentences)[idx_sort]\n"
     ]
    },
    {
     "name": "stdout",
     "output_type": "stream",
     "text": [
      "Test: epoch: 16 loss: 236.880665 | Acc: 0.681606 | mAP: 0.000000\n",
      "[1.         0.8622791  0.01694915 0.83464567 0.63507779 0.2109375\n",
      " 0.126294   0.         0.58333333 0.54471545 0.         0.63414634\n",
      " 0.         0.45833333 0.73390843 0.56425041 0.37853107 0.33684211]\n",
      "Best epoch: 16 | Best acc: 0.681606\n"
     ]
    },
    {
     "name": "stderr",
     "output_type": "stream",
     "text": [
      "/media/mobarak/data/lalith/SurgicalScene_VQA/InferSent/models.py:207: VisibleDeprecationWarning: Creating an ndarray from ragged nested sequences (which is a list-or-tuple of lists-or-tuples-or ndarrays with different lengths or shapes) is deprecated. If you meant to do this, you must specify 'dtype=object' when creating the ndarray.\n",
      "  sentences = np.array(sentences)[idx_sort]\n"
     ]
    },
    {
     "name": "stdout",
     "output_type": "stream",
     "text": [
      "Test: epoch: 17 loss: 250.369444 | Acc: 0.640448 | mAP: 0.000000\n"
     ]
    },
    {
     "name": "stderr",
     "output_type": "stream",
     "text": [
      "/media/mobarak/data/lalith/SurgicalScene_VQA/InferSent/models.py:207: VisibleDeprecationWarning: Creating an ndarray from ragged nested sequences (which is a list-or-tuple of lists-or-tuples-or ndarrays with different lengths or shapes) is deprecated. If you meant to do this, you must specify 'dtype=object' when creating the ndarray.\n",
      "  sentences = np.array(sentences)[idx_sort]\n"
     ]
    },
    {
     "name": "stdout",
     "output_type": "stream",
     "text": [
      "Test: epoch: 17 loss: 229.639882 | Acc: 0.679277 | mAP: 0.000000\n",
      "[1.         0.84704449 0.06779661 0.62204724 0.68599717 0.328125\n",
      " 0.26293996 0.         0.46666667 0.69105691 0.         0.63414634\n",
      " 0.         0.         0.70006636 0.48352554 0.33333333 0.67368421]\n",
      "Best epoch: 16 | Best acc: 0.681606\n"
     ]
    },
    {
     "name": "stderr",
     "output_type": "stream",
     "text": [
      "/media/mobarak/data/lalith/SurgicalScene_VQA/InferSent/models.py:207: VisibleDeprecationWarning: Creating an ndarray from ragged nested sequences (which is a list-or-tuple of lists-or-tuples-or ndarrays with different lengths or shapes) is deprecated. If you meant to do this, you must specify 'dtype=object' when creating the ndarray.\n",
      "  sentences = np.array(sentences)[idx_sort]\n"
     ]
    },
    {
     "name": "stdout",
     "output_type": "stream",
     "text": [
      "Test: epoch: 18 loss: 244.506108 | Acc: 0.632572 | mAP: 0.000000\n"
     ]
    },
    {
     "name": "stderr",
     "output_type": "stream",
     "text": [
      "/media/mobarak/data/lalith/SurgicalScene_VQA/InferSent/models.py:207: VisibleDeprecationWarning: Creating an ndarray from ragged nested sequences (which is a list-or-tuple of lists-or-tuples-or ndarrays with different lengths or shapes) is deprecated. If you meant to do this, you must specify 'dtype=object' when creating the ndarray.\n",
      "  sentences = np.array(sentences)[idx_sort]\n"
     ]
    },
    {
     "name": "stdout",
     "output_type": "stream",
     "text": [
      "Test: epoch: 18 loss: 222.858662 | Acc: 0.683049 | mAP: 0.000000\n",
      "[1.         0.86959171 0.10169492 0.32283465 0.71287129 0.1953125\n",
      " 0.41407867 0.         0.58333333 0.67479675 0.         0.68292683\n",
      " 0.         0.22222222 0.59190445 0.70675453 0.56873823 0.20631579]\n",
      "Best epoch: 18 | Best acc: 0.683049\n"
     ]
    },
    {
     "name": "stderr",
     "output_type": "stream",
     "text": [
      "/media/mobarak/data/lalith/SurgicalScene_VQA/InferSent/models.py:207: VisibleDeprecationWarning: Creating an ndarray from ragged nested sequences (which is a list-or-tuple of lists-or-tuples-or ndarrays with different lengths or shapes) is deprecated. If you meant to do this, you must specify 'dtype=object' when creating the ndarray.\n",
      "  sentences = np.array(sentences)[idx_sort]\n"
     ]
    },
    {
     "name": "stdout",
     "output_type": "stream",
     "text": [
      "Test: epoch: 19 loss: 237.879838 | Acc: 0.634790 | mAP: 0.000000\n"
     ]
    },
    {
     "name": "stderr",
     "output_type": "stream",
     "text": [
      "/media/mobarak/data/lalith/SurgicalScene_VQA/InferSent/models.py:207: VisibleDeprecationWarning: Creating an ndarray from ragged nested sequences (which is a list-or-tuple of lists-or-tuples-or ndarrays with different lengths or shapes) is deprecated. If you meant to do this, you must specify 'dtype=object' when creating the ndarray.\n",
      "  sentences = np.array(sentences)[idx_sort]\n"
     ]
    },
    {
     "name": "stdout",
     "output_type": "stream",
     "text": [
      "Test: epoch: 19 loss: 216.991327 | Acc: 0.681606 | mAP: 0.000000\n",
      "[1.         0.84460695 0.05084746 0.34908136 0.70014144 0.359375\n",
      " 0.44720497 0.         0.51666667 0.7398374  0.         0.58536585\n",
      " 0.         0.11111111 0.7544791  0.42586491 0.53672316 0.44631579]\n",
      "Best epoch: 18 | Best acc: 0.683049\n"
     ]
    },
    {
     "name": "stderr",
     "output_type": "stream",
     "text": [
      "/media/mobarak/data/lalith/SurgicalScene_VQA/InferSent/models.py:207: VisibleDeprecationWarning: Creating an ndarray from ragged nested sequences (which is a list-or-tuple of lists-or-tuples-or ndarrays with different lengths or shapes) is deprecated. If you meant to do this, you must specify 'dtype=object' when creating the ndarray.\n",
      "  sentences = np.array(sentences)[idx_sort]\n"
     ]
    },
    {
     "name": "stdout",
     "output_type": "stream",
     "text": [
      "Test: epoch: 20 loss: 231.913589 | Acc: 0.641890 | mAP: 0.000000\n"
     ]
    },
    {
     "name": "stderr",
     "output_type": "stream",
     "text": [
      "/media/mobarak/data/lalith/SurgicalScene_VQA/InferSent/models.py:207: VisibleDeprecationWarning: Creating an ndarray from ragged nested sequences (which is a list-or-tuple of lists-or-tuples-or ndarrays with different lengths or shapes) is deprecated. If you meant to do this, you must specify 'dtype=object' when creating the ndarray.\n",
      "  sentences = np.array(sentences)[idx_sort]\n"
     ]
    },
    {
     "name": "stdout",
     "output_type": "stream",
     "text": [
      "Test: epoch: 20 loss: 212.225739 | Acc: 0.683160 | mAP: 0.000000\n",
      "[1.         0.83302864 0.10169492 0.53018373 0.71287129 0.5390625\n",
      " 0.27950311 0.         0.63333333 0.7804878  0.         0.70731707\n",
      " 0.         0.         0.78433975 0.38550247 0.3653484  0.64842105]\n",
      "Best epoch: 20 | Best acc: 0.683160\n"
     ]
    },
    {
     "name": "stderr",
     "output_type": "stream",
     "text": [
      "/media/mobarak/data/lalith/SurgicalScene_VQA/InferSent/models.py:207: VisibleDeprecationWarning: Creating an ndarray from ragged nested sequences (which is a list-or-tuple of lists-or-tuples-or ndarrays with different lengths or shapes) is deprecated. If you meant to do this, you must specify 'dtype=object' when creating the ndarray.\n",
      "  sentences = np.array(sentences)[idx_sort]\n"
     ]
    },
    {
     "name": "stdout",
     "output_type": "stream",
     "text": [
      "Test: epoch: 21 loss: 225.438792 | Acc: 0.642778 | mAP: 0.000000\n"
     ]
    },
    {
     "name": "stderr",
     "output_type": "stream",
     "text": [
      "/media/mobarak/data/lalith/SurgicalScene_VQA/InferSent/models.py:207: VisibleDeprecationWarning: Creating an ndarray from ragged nested sequences (which is a list-or-tuple of lists-or-tuples-or ndarrays with different lengths or shapes) is deprecated. If you meant to do this, you must specify 'dtype=object' when creating the ndarray.\n",
      "  sentences = np.array(sentences)[idx_sort]\n"
     ]
    },
    {
     "name": "stdout",
     "output_type": "stream",
     "text": [
      "Test: epoch: 21 loss: 206.173540 | Acc: 0.682161 | mAP: 0.000000\n",
      "[1.         0.83973187 0.38983051 0.59317585 0.65063649 0.171875\n",
      " 0.37060041 0.         0.73333333 0.71544715 0.         0.63414634\n",
      " 0.         0.125      0.6483079  0.6416804  0.34651601 0.40842105]\n",
      "Best epoch: 20 | Best acc: 0.683160\n"
     ]
    },
    {
     "name": "stderr",
     "output_type": "stream",
     "text": [
      "/media/mobarak/data/lalith/SurgicalScene_VQA/InferSent/models.py:207: VisibleDeprecationWarning: Creating an ndarray from ragged nested sequences (which is a list-or-tuple of lists-or-tuples-or ndarrays with different lengths or shapes) is deprecated. If you meant to do this, you must specify 'dtype=object' when creating the ndarray.\n",
      "  sentences = np.array(sentences)[idx_sort]\n"
     ]
    },
    {
     "name": "stdout",
     "output_type": "stream",
     "text": [
      "Test: epoch: 22 loss: 220.457737 | Acc: 0.640781 | mAP: 0.000000\n"
     ]
    },
    {
     "name": "stderr",
     "output_type": "stream",
     "text": [
      "/media/mobarak/data/lalith/SurgicalScene_VQA/InferSent/models.py:207: VisibleDeprecationWarning: Creating an ndarray from ragged nested sequences (which is a list-or-tuple of lists-or-tuples-or ndarrays with different lengths or shapes) is deprecated. If you meant to do this, you must specify 'dtype=object' when creating the ndarray.\n",
      "  sentences = np.array(sentences)[idx_sort]\n"
     ]
    },
    {
     "name": "stdout",
     "output_type": "stream",
     "text": [
      "Test: epoch: 22 loss: 202.129586 | Acc: 0.684047 | mAP: 0.000000\n",
      "[1.         0.85252895 0.44067797 0.37270341 0.75106082 0.3828125\n",
      " 0.30434783 0.         0.61666667 0.7398374  0.         0.68292683\n",
      " 0.         0.         0.56469808 0.61532125 0.63276836 0.46736842]\n",
      "Best epoch: 22 | Best acc: 0.684047\n"
     ]
    },
    {
     "name": "stderr",
     "output_type": "stream",
     "text": [
      "/media/mobarak/data/lalith/SurgicalScene_VQA/InferSent/models.py:207: VisibleDeprecationWarning: Creating an ndarray from ragged nested sequences (which is a list-or-tuple of lists-or-tuples-or ndarrays with different lengths or shapes) is deprecated. If you meant to do this, you must specify 'dtype=object' when creating the ndarray.\n",
      "  sentences = np.array(sentences)[idx_sort]\n"
     ]
    },
    {
     "name": "stdout",
     "output_type": "stream",
     "text": [
      "Test: epoch: 23 loss: 216.612567 | Acc: 0.637897 | mAP: 0.000000\n"
     ]
    },
    {
     "name": "stderr",
     "output_type": "stream",
     "text": [
      "/media/mobarak/data/lalith/SurgicalScene_VQA/InferSent/models.py:207: VisibleDeprecationWarning: Creating an ndarray from ragged nested sequences (which is a list-or-tuple of lists-or-tuples-or ndarrays with different lengths or shapes) is deprecated. If you meant to do this, you must specify 'dtype=object' when creating the ndarray.\n",
      "  sentences = np.array(sentences)[idx_sort]\n"
     ]
    },
    {
     "name": "stdout",
     "output_type": "stream",
     "text": [
      "Test: epoch: 23 loss: 198.046776 | Acc: 0.685378 | mAP: 0.000000\n",
      "[1.         0.75807434 0.62711864 0.21784777 0.72560113 0.21875\n",
      " 0.77225673 0.         0.7        0.57723577 0.         0.6097561\n",
      " 0.         0.58333333 0.61247512 0.59143328 0.56120527 0.46526316]\n",
      "Best epoch: 23 | Best acc: 0.685378\n"
     ]
    },
    {
     "name": "stderr",
     "output_type": "stream",
     "text": [
      "/media/mobarak/data/lalith/SurgicalScene_VQA/InferSent/models.py:207: VisibleDeprecationWarning: Creating an ndarray from ragged nested sequences (which is a list-or-tuple of lists-or-tuples-or ndarrays with different lengths or shapes) is deprecated. If you meant to do this, you must specify 'dtype=object' when creating the ndarray.\n",
      "  sentences = np.array(sentences)[idx_sort]\n"
     ]
    },
    {
     "name": "stdout",
     "output_type": "stream",
     "text": [
      "Test: epoch: 24 loss: 212.252390 | Acc: 0.638340 | mAP: 0.000000\n"
     ]
    },
    {
     "name": "stderr",
     "output_type": "stream",
     "text": [
      "/media/mobarak/data/lalith/SurgicalScene_VQA/InferSent/models.py:207: VisibleDeprecationWarning: Creating an ndarray from ragged nested sequences (which is a list-or-tuple of lists-or-tuples-or ndarrays with different lengths or shapes) is deprecated. If you meant to do this, you must specify 'dtype=object' when creating the ndarray.\n",
      "  sentences = np.array(sentences)[idx_sort]\n"
     ]
    },
    {
     "name": "stdout",
     "output_type": "stream",
     "text": [
      "Test: epoch: 24 loss: 194.118508 | Acc: 0.686044 | mAP: 0.000000\n",
      "[1.         0.8226691  0.54237288 0.67191601 0.69165488 0.234375\n",
      " 0.17805383 0.61538462 0.8        0.77235772 0.         0.63414634\n",
      " 0.         0.52777778 0.59190445 0.67298188 0.4519774  0.45684211]\n",
      "Best epoch: 24 | Best acc: 0.686044\n"
     ]
    },
    {
     "name": "stderr",
     "output_type": "stream",
     "text": [
      "/media/mobarak/data/lalith/SurgicalScene_VQA/InferSent/models.py:207: VisibleDeprecationWarning: Creating an ndarray from ragged nested sequences (which is a list-or-tuple of lists-or-tuples-or ndarrays with different lengths or shapes) is deprecated. If you meant to do this, you must specify 'dtype=object' when creating the ndarray.\n",
      "  sentences = np.array(sentences)[idx_sort]\n"
     ]
    },
    {
     "name": "stdout",
     "output_type": "stream",
     "text": [
      "Test: epoch: 25 loss: 208.645824 | Acc: 0.645662 | mAP: 0.000000\n"
     ]
    },
    {
     "name": "stderr",
     "output_type": "stream",
     "text": [
      "/media/mobarak/data/lalith/SurgicalScene_VQA/InferSent/models.py:207: VisibleDeprecationWarning: Creating an ndarray from ragged nested sequences (which is a list-or-tuple of lists-or-tuples-or ndarrays with different lengths or shapes) is deprecated. If you meant to do this, you must specify 'dtype=object' when creating the ndarray.\n",
      "  sentences = np.array(sentences)[idx_sort]\n"
     ]
    },
    {
     "name": "stdout",
     "output_type": "stream",
     "text": [
      "Test: epoch: 25 loss: 191.038241 | Acc: 0.684380 | mAP: 0.000000\n",
      "[1.         0.8190128  0.49152542 0.32545932 0.66760962 0.46875\n",
      " 0.48654244 0.61538462 0.98333333 0.75609756 0.         0.70731707\n",
      " 0.61538462 0.01388889 0.71267419 0.60543657 0.45574388 0.20210526]\n",
      "Best epoch: 24 | Best acc: 0.686044\n"
     ]
    },
    {
     "name": "stderr",
     "output_type": "stream",
     "text": [
      "/media/mobarak/data/lalith/SurgicalScene_VQA/InferSent/models.py:207: VisibleDeprecationWarning: Creating an ndarray from ragged nested sequences (which is a list-or-tuple of lists-or-tuples-or ndarrays with different lengths or shapes) is deprecated. If you meant to do this, you must specify 'dtype=object' when creating the ndarray.\n",
      "  sentences = np.array(sentences)[idx_sort]\n"
     ]
    },
    {
     "name": "stdout",
     "output_type": "stream",
     "text": [
      "Test: epoch: 26 loss: 205.012895 | Acc: 0.642445 | mAP: 0.000000\n"
     ]
    },
    {
     "name": "stderr",
     "output_type": "stream",
     "text": [
      "/media/mobarak/data/lalith/SurgicalScene_VQA/InferSent/models.py:207: VisibleDeprecationWarning: Creating an ndarray from ragged nested sequences (which is a list-or-tuple of lists-or-tuples-or ndarrays with different lengths or shapes) is deprecated. If you meant to do this, you must specify 'dtype=object' when creating the ndarray.\n",
      "  sentences = np.array(sentences)[idx_sort]\n"
     ]
    },
    {
     "name": "stdout",
     "output_type": "stream",
     "text": [
      "Test: epoch: 26 loss: 188.278584 | Acc: 0.685489 | mAP: 0.000000\n",
      "[1.         0.77696527 0.6440678  0.28871391 0.73691655 0.484375\n",
      " 0.51966874 0.76923077 0.85       0.74796748 0.         0.65853659\n",
      " 0.         0.22222222 0.82216324 0.42833608 0.30696798 0.51368421]\n",
      "Best epoch: 24 | Best acc: 0.686044\n"
     ]
    },
    {
     "name": "stderr",
     "output_type": "stream",
     "text": [
      "/media/mobarak/data/lalith/SurgicalScene_VQA/InferSent/models.py:207: VisibleDeprecationWarning: Creating an ndarray from ragged nested sequences (which is a list-or-tuple of lists-or-tuples-or ndarrays with different lengths or shapes) is deprecated. If you meant to do this, you must specify 'dtype=object' when creating the ndarray.\n",
      "  sentences = np.array(sentences)[idx_sort]\n"
     ]
    },
    {
     "name": "stdout",
     "output_type": "stream",
     "text": [
      "Test: epoch: 27 loss: 201.859628 | Acc: 0.644886 | mAP: 0.000000\n"
     ]
    },
    {
     "name": "stderr",
     "output_type": "stream",
     "text": [
      "/media/mobarak/data/lalith/SurgicalScene_VQA/InferSent/models.py:207: VisibleDeprecationWarning: Creating an ndarray from ragged nested sequences (which is a list-or-tuple of lists-or-tuples-or ndarrays with different lengths or shapes) is deprecated. If you meant to do this, you must specify 'dtype=object' when creating the ndarray.\n",
      "  sentences = np.array(sentences)[idx_sort]\n"
     ]
    },
    {
     "name": "stdout",
     "output_type": "stream",
     "text": [
      "Test: epoch: 27 loss: 184.872823 | Acc: 0.689483 | mAP: 0.000000\n",
      "[1.         0.8464351  0.33898305 0.12860892 0.6874116  0.546875\n",
      " 0.57763975 0.76923077 0.96666667 0.73170732 0.         0.63414634\n",
      " 0.69230769 0.         0.55076311 0.67545305 0.49340866 0.54105263]\n",
      "Best epoch: 27 | Best acc: 0.689483\n"
     ]
    },
    {
     "name": "stderr",
     "output_type": "stream",
     "text": [
      "/media/mobarak/data/lalith/SurgicalScene_VQA/InferSent/models.py:207: VisibleDeprecationWarning: Creating an ndarray from ragged nested sequences (which is a list-or-tuple of lists-or-tuples-or ndarrays with different lengths or shapes) is deprecated. If you meant to do this, you must specify 'dtype=object' when creating the ndarray.\n",
      "  sentences = np.array(sentences)[idx_sort]\n"
     ]
    },
    {
     "name": "stdout",
     "output_type": "stream",
     "text": [
      "Test: epoch: 28 loss: 198.102459 | Acc: 0.646772 | mAP: 0.000000\n"
     ]
    },
    {
     "name": "stderr",
     "output_type": "stream",
     "text": [
      "/media/mobarak/data/lalith/SurgicalScene_VQA/InferSent/models.py:207: VisibleDeprecationWarning: Creating an ndarray from ragged nested sequences (which is a list-or-tuple of lists-or-tuples-or ndarrays with different lengths or shapes) is deprecated. If you meant to do this, you must specify 'dtype=object' when creating the ndarray.\n",
      "  sentences = np.array(sentences)[idx_sort]\n"
     ]
    },
    {
     "name": "stdout",
     "output_type": "stream",
     "text": [
      "Test: epoch: 28 loss: 182.589805 | Acc: 0.689150 | mAP: 0.000000\n",
      "[1.         0.81474711 0.57627119 0.29396325 0.63932107 0.25\n",
      " 0.58592133 0.46153846 1.         0.65853659 0.         0.65853659\n",
      " 0.84615385 0.70833333 0.65759788 0.57495881 0.41431262 0.54105263]\n",
      "Best epoch: 27 | Best acc: 0.689483\n"
     ]
    },
    {
     "name": "stderr",
     "output_type": "stream",
     "text": [
      "/media/mobarak/data/lalith/SurgicalScene_VQA/InferSent/models.py:207: VisibleDeprecationWarning: Creating an ndarray from ragged nested sequences (which is a list-or-tuple of lists-or-tuples-or ndarrays with different lengths or shapes) is deprecated. If you meant to do this, you must specify 'dtype=object' when creating the ndarray.\n",
      "  sentences = np.array(sentences)[idx_sort]\n"
     ]
    },
    {
     "name": "stdout",
     "output_type": "stream",
     "text": [
      "Test: epoch: 29 loss: 195.786379 | Acc: 0.644442 | mAP: 0.000000\n"
     ]
    },
    {
     "name": "stderr",
     "output_type": "stream",
     "text": [
      "/media/mobarak/data/lalith/SurgicalScene_VQA/InferSent/models.py:207: VisibleDeprecationWarning: Creating an ndarray from ragged nested sequences (which is a list-or-tuple of lists-or-tuples-or ndarrays with different lengths or shapes) is deprecated. If you meant to do this, you must specify 'dtype=object' when creating the ndarray.\n",
      "  sentences = np.array(sentences)[idx_sort]\n"
     ]
    },
    {
     "name": "stdout",
     "output_type": "stream",
     "text": [
      "Test: epoch: 29 loss: 180.343252 | Acc: 0.688817 | mAP: 0.000000\n",
      "[1.         0.89092017 0.66101695 0.07611549 0.62800566 0.3359375\n",
      " 0.58178054 0.76923077 0.85       0.64227642 0.         0.63414634\n",
      " 0.76923077 0.02777778 0.56005309 0.71499176 0.35781544 0.57052632]\n",
      "Best epoch: 27 | Best acc: 0.689483\n"
     ]
    },
    {
     "name": "stderr",
     "output_type": "stream",
     "text": [
      "/media/mobarak/data/lalith/SurgicalScene_VQA/InferSent/models.py:207: VisibleDeprecationWarning: Creating an ndarray from ragged nested sequences (which is a list-or-tuple of lists-or-tuples-or ndarrays with different lengths or shapes) is deprecated. If you meant to do this, you must specify 'dtype=object' when creating the ndarray.\n",
      "  sentences = np.array(sentences)[idx_sort]\n"
     ]
    },
    {
     "name": "stdout",
     "output_type": "stream",
     "text": [
      "Test: epoch: 30 loss: 193.392684 | Acc: 0.644109 | mAP: 0.000000\n"
     ]
    },
    {
     "name": "stderr",
     "output_type": "stream",
     "text": [
      "/media/mobarak/data/lalith/SurgicalScene_VQA/InferSent/models.py:207: VisibleDeprecationWarning: Creating an ndarray from ragged nested sequences (which is a list-or-tuple of lists-or-tuples-or ndarrays with different lengths or shapes) is deprecated. If you meant to do this, you must specify 'dtype=object' when creating the ndarray.\n",
      "  sentences = np.array(sentences)[idx_sort]\n"
     ]
    },
    {
     "name": "stdout",
     "output_type": "stream",
     "text": [
      "Test: epoch: 30 loss: 178.381795 | Acc: 0.685600 | mAP: 0.000000\n",
      "[1.         0.82815356 0.61016949 0.24671916 0.72560113 0.6484375\n",
      " 0.40165631 0.76923077 0.95       0.56097561 0.         0.65853659\n",
      " 0.84615385 0.         0.668215   0.61779242 0.2787194  0.55157895]\n",
      "Best epoch: 27 | Best acc: 0.689483\n"
     ]
    },
    {
     "name": "stderr",
     "output_type": "stream",
     "text": [
      "/media/mobarak/data/lalith/SurgicalScene_VQA/InferSent/models.py:207: VisibleDeprecationWarning: Creating an ndarray from ragged nested sequences (which is a list-or-tuple of lists-or-tuples-or ndarrays with different lengths or shapes) is deprecated. If you meant to do this, you must specify 'dtype=object' when creating the ndarray.\n",
      "  sentences = np.array(sentences)[idx_sort]\n"
     ]
    },
    {
     "name": "stdout",
     "output_type": "stream",
     "text": [
      "Test: epoch: 31 loss: 191.750381 | Acc: 0.640670 | mAP: 0.000000\n"
     ]
    },
    {
     "name": "stderr",
     "output_type": "stream",
     "text": [
      "/media/mobarak/data/lalith/SurgicalScene_VQA/InferSent/models.py:207: VisibleDeprecationWarning: Creating an ndarray from ragged nested sequences (which is a list-or-tuple of lists-or-tuples-or ndarrays with different lengths or shapes) is deprecated. If you meant to do this, you must specify 'dtype=object' when creating the ndarray.\n",
      "  sentences = np.array(sentences)[idx_sort]\n"
     ]
    },
    {
     "name": "stdout",
     "output_type": "stream",
     "text": [
      "Test: epoch: 31 loss: 176.366515 | Acc: 0.689927 | mAP: 0.000000\n",
      "[1.         0.77757465 0.71186441 0.82939633 0.66478076 0.515625\n",
      " 0.25672878 0.76923077 0.98333333 0.67479675 0.         0.65853659\n",
      " 0.84615385 0.01388889 0.69873922 0.53047776 0.40112994 0.55578947]\n",
      "Best epoch: 31 | Best acc: 0.689927\n"
     ]
    },
    {
     "name": "stderr",
     "output_type": "stream",
     "text": [
      "/media/mobarak/data/lalith/SurgicalScene_VQA/InferSent/models.py:207: VisibleDeprecationWarning: Creating an ndarray from ragged nested sequences (which is a list-or-tuple of lists-or-tuples-or ndarrays with different lengths or shapes) is deprecated. If you meant to do this, you must specify 'dtype=object' when creating the ndarray.\n",
      "  sentences = np.array(sentences)[idx_sort]\n"
     ]
    },
    {
     "name": "stdout",
     "output_type": "stream",
     "text": [
      "Test: epoch: 32 loss: 189.305487 | Acc: 0.644997 | mAP: 0.000000\n"
     ]
    },
    {
     "name": "stderr",
     "output_type": "stream",
     "text": [
      "/media/mobarak/data/lalith/SurgicalScene_VQA/InferSent/models.py:207: VisibleDeprecationWarning: Creating an ndarray from ragged nested sequences (which is a list-or-tuple of lists-or-tuples-or ndarrays with different lengths or shapes) is deprecated. If you meant to do this, you must specify 'dtype=object' when creating the ndarray.\n",
      "  sentences = np.array(sentences)[idx_sort]\n"
     ]
    },
    {
     "name": "stdout",
     "output_type": "stream",
     "text": [
      "Test: epoch: 32 loss: 174.676687 | Acc: 0.691702 | mAP: 0.000000\n",
      "[1.         0.81170018 0.66101695 0.18110236 0.74823197 0.3984375\n",
      " 0.52587992 0.69230769 0.98333333 0.64227642 0.         0.68292683\n",
      " 1.         0.48611111 0.81884539 0.42339374 0.29755179 0.57263158]\n",
      "Best epoch: 32 | Best acc: 0.691702\n"
     ]
    },
    {
     "name": "stderr",
     "output_type": "stream",
     "text": [
      "/media/mobarak/data/lalith/SurgicalScene_VQA/InferSent/models.py:207: VisibleDeprecationWarning: Creating an ndarray from ragged nested sequences (which is a list-or-tuple of lists-or-tuples-or ndarrays with different lengths or shapes) is deprecated. If you meant to do this, you must specify 'dtype=object' when creating the ndarray.\n",
      "  sentences = np.array(sentences)[idx_sort]\n"
     ]
    },
    {
     "name": "stdout",
     "output_type": "stream",
     "text": [
      "Test: epoch: 33 loss: 186.951446 | Acc: 0.649989 | mAP: 0.000000\n"
     ]
    },
    {
     "name": "stderr",
     "output_type": "stream",
     "text": [
      "/media/mobarak/data/lalith/SurgicalScene_VQA/InferSent/models.py:207: VisibleDeprecationWarning: Creating an ndarray from ragged nested sequences (which is a list-or-tuple of lists-or-tuples-or ndarrays with different lengths or shapes) is deprecated. If you meant to do this, you must specify 'dtype=object' when creating the ndarray.\n",
      "  sentences = np.array(sentences)[idx_sort]\n"
     ]
    },
    {
     "name": "stdout",
     "output_type": "stream",
     "text": [
      "Test: epoch: 33 loss: 172.431676 | Acc: 0.689927 | mAP: 0.000000\n",
      "[1.         0.78793419 0.42372881 0.86089239 0.68882603 0.3203125\n",
      " 0.11387164 0.84615385 1.         0.72357724 0.         0.68292683\n",
      " 1.         0.65277778 0.72859987 0.55024712 0.61016949 0.19368421]\n",
      "Best epoch: 32 | Best acc: 0.691702\n"
     ]
    },
    {
     "name": "stderr",
     "output_type": "stream",
     "text": [
      "/media/mobarak/data/lalith/SurgicalScene_VQA/InferSent/models.py:207: VisibleDeprecationWarning: Creating an ndarray from ragged nested sequences (which is a list-or-tuple of lists-or-tuples-or ndarrays with different lengths or shapes) is deprecated. If you meant to do this, you must specify 'dtype=object' when creating the ndarray.\n",
      "  sentences = np.array(sentences)[idx_sort]\n"
     ]
    },
    {
     "name": "stdout",
     "output_type": "stream",
     "text": [
      "Test: epoch: 34 loss: 185.293673 | Acc: 0.649101 | mAP: 0.000000\n"
     ]
    },
    {
     "name": "stderr",
     "output_type": "stream",
     "text": [
      "/media/mobarak/data/lalith/SurgicalScene_VQA/InferSent/models.py:207: VisibleDeprecationWarning: Creating an ndarray from ragged nested sequences (which is a list-or-tuple of lists-or-tuples-or ndarrays with different lengths or shapes) is deprecated. If you meant to do this, you must specify 'dtype=object' when creating the ndarray.\n",
      "  sentences = np.array(sentences)[idx_sort]\n"
     ]
    },
    {
     "name": "stdout",
     "output_type": "stream",
     "text": [
      "Test: epoch: 34 loss: 171.066307 | Acc: 0.690814 | mAP: 0.000000\n",
      "[1.         0.80255941 0.71186441 0.11286089 0.76237624 0.484375\n",
      " 0.5942029  0.92307692 0.98333333 0.61788618 0.         0.65853659\n",
      " 0.92307692 0.15277778 0.69542137 0.59390445 0.30885122 0.52      ]\n",
      "Best epoch: 32 | Best acc: 0.691702\n"
     ]
    },
    {
     "name": "stderr",
     "output_type": "stream",
     "text": [
      "/media/mobarak/data/lalith/SurgicalScene_VQA/InferSent/models.py:207: VisibleDeprecationWarning: Creating an ndarray from ragged nested sequences (which is a list-or-tuple of lists-or-tuples-or ndarrays with different lengths or shapes) is deprecated. If you meant to do this, you must specify 'dtype=object' when creating the ndarray.\n",
      "  sentences = np.array(sentences)[idx_sort]\n"
     ]
    },
    {
     "name": "stdout",
     "output_type": "stream",
     "text": [
      "Test: epoch: 35 loss: 182.932429 | Acc: 0.649878 | mAP: 0.000000\n"
     ]
    },
    {
     "name": "stderr",
     "output_type": "stream",
     "text": [
      "/media/mobarak/data/lalith/SurgicalScene_VQA/InferSent/models.py:207: VisibleDeprecationWarning: Creating an ndarray from ragged nested sequences (which is a list-or-tuple of lists-or-tuples-or ndarrays with different lengths or shapes) is deprecated. If you meant to do this, you must specify 'dtype=object' when creating the ndarray.\n",
      "  sentences = np.array(sentences)[idx_sort]\n"
     ]
    },
    {
     "name": "stdout",
     "output_type": "stream",
     "text": [
      "Test: epoch: 35 loss: 169.259365 | Acc: 0.693033 | mAP: 0.000000\n",
      "[1.         0.81170018 0.77966102 0.49343832 0.71145686 0.5546875\n",
      " 0.32919255 0.69230769 1.         0.69105691 0.         0.63414634\n",
      " 1.         0.11111111 0.77372263 0.46540362 0.44067797 0.46736842]\n",
      "Best epoch: 35 | Best acc: 0.693033\n"
     ]
    },
    {
     "name": "stderr",
     "output_type": "stream",
     "text": [
      "/media/mobarak/data/lalith/SurgicalScene_VQA/InferSent/models.py:207: VisibleDeprecationWarning: Creating an ndarray from ragged nested sequences (which is a list-or-tuple of lists-or-tuples-or ndarrays with different lengths or shapes) is deprecated. If you meant to do this, you must specify 'dtype=object' when creating the ndarray.\n",
      "  sentences = np.array(sentences)[idx_sort]\n"
     ]
    },
    {
     "name": "stdout",
     "output_type": "stream",
     "text": [
      "Test: epoch: 36 loss: 182.090381 | Acc: 0.644997 | mAP: 0.000000\n"
     ]
    },
    {
     "name": "stderr",
     "output_type": "stream",
     "text": [
      "/media/mobarak/data/lalith/SurgicalScene_VQA/InferSent/models.py:207: VisibleDeprecationWarning: Creating an ndarray from ragged nested sequences (which is a list-or-tuple of lists-or-tuples-or ndarrays with different lengths or shapes) is deprecated. If you meant to do this, you must specify 'dtype=object' when creating the ndarray.\n",
      "  sentences = np.array(sentences)[idx_sort]\n"
     ]
    },
    {
     "name": "stdout",
     "output_type": "stream",
     "text": [
      "Test: epoch: 36 loss: 168.870664 | Acc: 0.693366 | mAP: 0.000000\n",
      "[1.         0.77513711 0.6779661  0.82414698 0.79632249 0.265625\n",
      " 0.06832298 0.69230769 0.98333333 0.68292683 0.         0.65853659\n",
      " 1.         0.73611111 0.601858   0.62438221 0.51600753 0.52631579]\n",
      "Best epoch: 36 | Best acc: 0.693366\n"
     ]
    },
    {
     "name": "stderr",
     "output_type": "stream",
     "text": [
      "/media/mobarak/data/lalith/SurgicalScene_VQA/InferSent/models.py:207: VisibleDeprecationWarning: Creating an ndarray from ragged nested sequences (which is a list-or-tuple of lists-or-tuples-or ndarrays with different lengths or shapes) is deprecated. If you meant to do this, you must specify 'dtype=object' when creating the ndarray.\n",
      "  sentences = np.array(sentences)[idx_sort]\n"
     ]
    },
    {
     "name": "stdout",
     "output_type": "stream",
     "text": [
      "Test: epoch: 37 loss: 180.255301 | Acc: 0.652873 | mAP: 0.000000\n"
     ]
    },
    {
     "name": "stderr",
     "output_type": "stream",
     "text": [
      "/media/mobarak/data/lalith/SurgicalScene_VQA/InferSent/models.py:207: VisibleDeprecationWarning: Creating an ndarray from ragged nested sequences (which is a list-or-tuple of lists-or-tuples-or ndarrays with different lengths or shapes) is deprecated. If you meant to do this, you must specify 'dtype=object' when creating the ndarray.\n",
      "  sentences = np.array(sentences)[idx_sort]\n"
     ]
    },
    {
     "name": "stdout",
     "output_type": "stream",
     "text": [
      "Test: epoch: 37 loss: 166.974674 | Acc: 0.690149 | mAP: 0.000000\n",
      "[1.         0.80499695 0.77966102 0.60892388 0.71570014 0.21875\n",
      " 0.2484472  0.76923077 1.         0.74796748 0.         0.68292683\n",
      " 1.         0.26388889 0.63769078 0.54200988 0.65913371 0.45684211]\n",
      "Best epoch: 36 | Best acc: 0.693366\n"
     ]
    },
    {
     "name": "stderr",
     "output_type": "stream",
     "text": [
      "/media/mobarak/data/lalith/SurgicalScene_VQA/InferSent/models.py:207: VisibleDeprecationWarning: Creating an ndarray from ragged nested sequences (which is a list-or-tuple of lists-or-tuples-or ndarrays with different lengths or shapes) is deprecated. If you meant to do this, you must specify 'dtype=object' when creating the ndarray.\n",
      "  sentences = np.array(sentences)[idx_sort]\n"
     ]
    },
    {
     "name": "stdout",
     "output_type": "stream",
     "text": [
      "Test: epoch: 38 loss: 179.102655 | Acc: 0.650544 | mAP: 0.000000\n"
     ]
    },
    {
     "name": "stderr",
     "output_type": "stream",
     "text": [
      "/media/mobarak/data/lalith/SurgicalScene_VQA/InferSent/models.py:207: VisibleDeprecationWarning: Creating an ndarray from ragged nested sequences (which is a list-or-tuple of lists-or-tuples-or ndarrays with different lengths or shapes) is deprecated. If you meant to do this, you must specify 'dtype=object' when creating the ndarray.\n",
      "  sentences = np.array(sentences)[idx_sort]\n"
     ]
    },
    {
     "name": "stdout",
     "output_type": "stream",
     "text": [
      "Test: epoch: 38 loss: 165.490467 | Acc: 0.689150 | mAP: 0.000000\n",
      "[1.         0.85252895 0.59322034 0.20472441 0.65063649 0.2734375\n",
      " 0.57349896 0.76923077 0.98333333 0.7398374  0.         0.34146341\n",
      " 0.76923077 0.04166667 0.81685468 0.39538715 0.71186441 0.19368421]\n",
      "Best epoch: 36 | Best acc: 0.693366\n"
     ]
    },
    {
     "name": "stderr",
     "output_type": "stream",
     "text": [
      "/media/mobarak/data/lalith/SurgicalScene_VQA/InferSent/models.py:207: VisibleDeprecationWarning: Creating an ndarray from ragged nested sequences (which is a list-or-tuple of lists-or-tuples-or ndarrays with different lengths or shapes) is deprecated. If you meant to do this, you must specify 'dtype=object' when creating the ndarray.\n",
      "  sentences = np.array(sentences)[idx_sort]\n"
     ]
    },
    {
     "name": "stdout",
     "output_type": "stream",
     "text": [
      "Test: epoch: 39 loss: 177.410261 | Acc: 0.650765 | mAP: 0.000000\n"
     ]
    },
    {
     "name": "stderr",
     "output_type": "stream",
     "text": [
      "/media/mobarak/data/lalith/SurgicalScene_VQA/InferSent/models.py:207: VisibleDeprecationWarning: Creating an ndarray from ragged nested sequences (which is a list-or-tuple of lists-or-tuples-or ndarrays with different lengths or shapes) is deprecated. If you meant to do this, you must specify 'dtype=object' when creating the ndarray.\n",
      "  sentences = np.array(sentences)[idx_sort]\n"
     ]
    },
    {
     "name": "stdout",
     "output_type": "stream",
     "text": [
      "Test: epoch: 39 loss: 164.983524 | Acc: 0.690260 | mAP: 0.000000\n",
      "[1.         0.74893358 0.69491525 0.45406824 0.63649222 0.59375\n",
      " 0.60869565 0.76923077 1.         0.67479675 0.         0.70731707\n",
      " 1.         0.22222222 0.67949569 0.50906096 0.80602637 0.24842105]\n",
      "Best epoch: 36 | Best acc: 0.693366\n"
     ]
    },
    {
     "name": "stderr",
     "output_type": "stream",
     "text": [
      "/media/mobarak/data/lalith/SurgicalScene_VQA/InferSent/models.py:207: VisibleDeprecationWarning: Creating an ndarray from ragged nested sequences (which is a list-or-tuple of lists-or-tuples-or ndarrays with different lengths or shapes) is deprecated. If you meant to do this, you must specify 'dtype=object' when creating the ndarray.\n",
      "  sentences = np.array(sentences)[idx_sort]\n"
     ]
    },
    {
     "name": "stdout",
     "output_type": "stream",
     "text": [
      "Test: epoch: 40 loss: 175.862742 | Acc: 0.657976 | mAP: 0.000000\n"
     ]
    },
    {
     "name": "stderr",
     "output_type": "stream",
     "text": [
      "/media/mobarak/data/lalith/SurgicalScene_VQA/InferSent/models.py:207: VisibleDeprecationWarning: Creating an ndarray from ragged nested sequences (which is a list-or-tuple of lists-or-tuples-or ndarrays with different lengths or shapes) is deprecated. If you meant to do this, you must specify 'dtype=object' when creating the ndarray.\n",
      "  sentences = np.array(sentences)[idx_sort]\n"
     ]
    },
    {
     "name": "stdout",
     "output_type": "stream",
     "text": [
      "Test: epoch: 40 loss: 163.327436 | Acc: 0.692367 | mAP: 0.000000\n",
      "[1.         0.83180987 0.66101695 0.72178478 0.7029703  0.3203125\n",
      " 0.1242236  0.69230769 1.         0.60162602 0.         0.63414634\n",
      " 1.         0.52777778 0.55341739 0.69769357 0.41996234 0.58947368]\n",
      "Best epoch: 36 | Best acc: 0.693366\n"
     ]
    },
    {
     "name": "stderr",
     "output_type": "stream",
     "text": [
      "/media/mobarak/data/lalith/SurgicalScene_VQA/InferSent/models.py:207: VisibleDeprecationWarning: Creating an ndarray from ragged nested sequences (which is a list-or-tuple of lists-or-tuples-or ndarrays with different lengths or shapes) is deprecated. If you meant to do this, you must specify 'dtype=object' when creating the ndarray.\n",
      "  sentences = np.array(sentences)[idx_sort]\n"
     ]
    },
    {
     "name": "stdout",
     "output_type": "stream",
     "text": [
      "Test: epoch: 41 loss: 174.832861 | Acc: 0.648547 | mAP: 0.000000\n"
     ]
    },
    {
     "name": "stderr",
     "output_type": "stream",
     "text": [
      "/media/mobarak/data/lalith/SurgicalScene_VQA/InferSent/models.py:207: VisibleDeprecationWarning: Creating an ndarray from ragged nested sequences (which is a list-or-tuple of lists-or-tuples-or ndarrays with different lengths or shapes) is deprecated. If you meant to do this, you must specify 'dtype=object' when creating the ndarray.\n",
      "  sentences = np.array(sentences)[idx_sort]\n"
     ]
    },
    {
     "name": "stdout",
     "output_type": "stream",
     "text": [
      "Test: epoch: 41 loss: 162.517029 | Acc: 0.691813 | mAP: 0.000000\n",
      "[1.         0.84948202 0.76271186 0.71653543 0.74398868 0.28125\n",
      " 0.07039337 0.76923077 1.         0.69918699 0.         0.63414634\n",
      " 1.         0.         0.6947578  0.60708402 0.51977401 0.23789474]\n",
      "Best epoch: 36 | Best acc: 0.693366\n"
     ]
    },
    {
     "name": "stderr",
     "output_type": "stream",
     "text": [
      "/media/mobarak/data/lalith/SurgicalScene_VQA/InferSent/models.py:207: VisibleDeprecationWarning: Creating an ndarray from ragged nested sequences (which is a list-or-tuple of lists-or-tuples-or ndarrays with different lengths or shapes) is deprecated. If you meant to do this, you must specify 'dtype=object' when creating the ndarray.\n",
      "  sentences = np.array(sentences)[idx_sort]\n"
     ]
    },
    {
     "name": "stdout",
     "output_type": "stream",
     "text": [
      "Test: epoch: 42 loss: 174.230228 | Acc: 0.654870 | mAP: 0.000000\n"
     ]
    },
    {
     "name": "stderr",
     "output_type": "stream",
     "text": [
      "/media/mobarak/data/lalith/SurgicalScene_VQA/InferSent/models.py:207: VisibleDeprecationWarning: Creating an ndarray from ragged nested sequences (which is a list-or-tuple of lists-or-tuples-or ndarrays with different lengths or shapes) is deprecated. If you meant to do this, you must specify 'dtype=object' when creating the ndarray.\n",
      "  sentences = np.array(sentences)[idx_sort]\n"
     ]
    },
    {
     "name": "stdout",
     "output_type": "stream",
     "text": [
      "Test: epoch: 42 loss: 161.827788 | Acc: 0.691702 | mAP: 0.000000\n",
      "[1.         0.82754418 0.71186441 0.82414698 0.62800566 0.6015625\n",
      " 0.11180124 0.84615385 1.         0.71544715 0.         0.63414634\n",
      " 1.         0.09722222 0.8274718  0.33855025 0.77024482 0.24      ]\n",
      "Best epoch: 36 | Best acc: 0.693366\n"
     ]
    },
    {
     "name": "stderr",
     "output_type": "stream",
     "text": [
      "/media/mobarak/data/lalith/SurgicalScene_VQA/InferSent/models.py:207: VisibleDeprecationWarning: Creating an ndarray from ragged nested sequences (which is a list-or-tuple of lists-or-tuples-or ndarrays with different lengths or shapes) is deprecated. If you meant to do this, you must specify 'dtype=object' when creating the ndarray.\n",
      "  sentences = np.array(sentences)[idx_sort]\n"
     ]
    },
    {
     "name": "stdout",
     "output_type": "stream",
     "text": [
      "Test: epoch: 43 loss: 173.237872 | Acc: 0.653650 | mAP: 0.000000\n"
     ]
    },
    {
     "name": "stderr",
     "output_type": "stream",
     "text": [
      "/media/mobarak/data/lalith/SurgicalScene_VQA/InferSent/models.py:207: VisibleDeprecationWarning: Creating an ndarray from ragged nested sequences (which is a list-or-tuple of lists-or-tuples-or ndarrays with different lengths or shapes) is deprecated. If you meant to do this, you must specify 'dtype=object' when creating the ndarray.\n",
      "  sentences = np.array(sentences)[idx_sort]\n"
     ]
    },
    {
     "name": "stdout",
     "output_type": "stream",
     "text": [
      "Test: epoch: 43 loss: 160.994484 | Acc: 0.693810 | mAP: 0.000000\n",
      "[1.         0.7440585  0.89830508 0.33070866 0.75106082 0.6796875\n",
      " 0.57971014 0.84615385 1.         0.7398374  0.         0.65853659\n",
      " 1.         0.13888889 0.52687459 0.74794069 0.34651601 0.62736842]\n",
      "Best epoch: 43 | Best acc: 0.693810\n"
     ]
    },
    {
     "name": "stderr",
     "output_type": "stream",
     "text": [
      "/media/mobarak/data/lalith/SurgicalScene_VQA/InferSent/models.py:207: VisibleDeprecationWarning: Creating an ndarray from ragged nested sequences (which is a list-or-tuple of lists-or-tuples-or ndarrays with different lengths or shapes) is deprecated. If you meant to do this, you must specify 'dtype=object' when creating the ndarray.\n",
      "  sentences = np.array(sentences)[idx_sort]\n"
     ]
    },
    {
     "name": "stdout",
     "output_type": "stream",
     "text": [
      "Test: epoch: 44 loss: 171.635339 | Acc: 0.655092 | mAP: 0.000000\n"
     ]
    },
    {
     "name": "stderr",
     "output_type": "stream",
     "text": [
      "/media/mobarak/data/lalith/SurgicalScene_VQA/InferSent/models.py:207: VisibleDeprecationWarning: Creating an ndarray from ragged nested sequences (which is a list-or-tuple of lists-or-tuples-or ndarrays with different lengths or shapes) is deprecated. If you meant to do this, you must specify 'dtype=object' when creating the ndarray.\n",
      "  sentences = np.array(sentences)[idx_sort]\n"
     ]
    },
    {
     "name": "stdout",
     "output_type": "stream",
     "text": [
      "Test: epoch: 44 loss: 160.154362 | Acc: 0.692146 | mAP: 0.000000\n",
      "[1.         0.87629494 0.3559322  0.74540682 0.65912306 0.25\n",
      " 0.1242236  0.84615385 1.         0.66666667 0.         0.6097561\n",
      " 1.         0.08333333 0.61844725 0.61779242 0.30885122 0.70526316]\n",
      "Best epoch: 43 | Best acc: 0.693810\n"
     ]
    },
    {
     "name": "stderr",
     "output_type": "stream",
     "text": [
      "/media/mobarak/data/lalith/SurgicalScene_VQA/InferSent/models.py:207: VisibleDeprecationWarning: Creating an ndarray from ragged nested sequences (which is a list-or-tuple of lists-or-tuples-or ndarrays with different lengths or shapes) is deprecated. If you meant to do this, you must specify 'dtype=object' when creating the ndarray.\n",
      "  sentences = np.array(sentences)[idx_sort]\n"
     ]
    },
    {
     "name": "stdout",
     "output_type": "stream",
     "text": [
      "Test: epoch: 45 loss: 170.874865 | Acc: 0.649434 | mAP: 0.000000\n"
     ]
    },
    {
     "name": "stderr",
     "output_type": "stream",
     "text": [
      "/media/mobarak/data/lalith/SurgicalScene_VQA/InferSent/models.py:207: VisibleDeprecationWarning: Creating an ndarray from ragged nested sequences (which is a list-or-tuple of lists-or-tuples-or ndarrays with different lengths or shapes) is deprecated. If you meant to do this, you must specify 'dtype=object' when creating the ndarray.\n",
      "  sentences = np.array(sentences)[idx_sort]\n"
     ]
    },
    {
     "name": "stdout",
     "output_type": "stream",
     "text": [
      "Test: epoch: 45 loss: 159.542287 | Acc: 0.692700 | mAP: 0.000000\n",
      "[1.         0.82815356 0.83050847 0.7847769  0.76096181 0.2890625\n",
      " 0.04968944 0.92307692 1.         0.65853659 0.         0.65853659\n",
      " 1.         0.05555556 0.69542137 0.53624382 0.40677966 0.56      ]\n",
      "Best epoch: 43 | Best acc: 0.693810\n"
     ]
    },
    {
     "name": "stderr",
     "output_type": "stream",
     "text": [
      "/media/mobarak/data/lalith/SurgicalScene_VQA/InferSent/models.py:207: VisibleDeprecationWarning: Creating an ndarray from ragged nested sequences (which is a list-or-tuple of lists-or-tuples-or ndarrays with different lengths or shapes) is deprecated. If you meant to do this, you must specify 'dtype=object' when creating the ndarray.\n",
      "  sentences = np.array(sentences)[idx_sort]\n"
     ]
    },
    {
     "name": "stdout",
     "output_type": "stream",
     "text": [
      "Test: epoch: 46 loss: 169.346557 | Acc: 0.654981 | mAP: 0.000000\n"
     ]
    },
    {
     "name": "stderr",
     "output_type": "stream",
     "text": [
      "/media/mobarak/data/lalith/SurgicalScene_VQA/InferSent/models.py:207: VisibleDeprecationWarning: Creating an ndarray from ragged nested sequences (which is a list-or-tuple of lists-or-tuples-or ndarrays with different lengths or shapes) is deprecated. If you meant to do this, you must specify 'dtype=object' when creating the ndarray.\n",
      "  sentences = np.array(sentences)[idx_sort]\n"
     ]
    },
    {
     "name": "stdout",
     "output_type": "stream",
     "text": [
      "Test: epoch: 46 loss: 159.083823 | Acc: 0.692367 | mAP: 0.000000\n",
      "[1.         0.76538696 0.81355932 0.73228346 0.81612447 0.28125\n",
      " 0.13043478 0.84615385 1.         0.66666667 0.         0.63414634\n",
      " 1.         0.69444444 0.69210352 0.46375618 0.5047081  0.64421053]\n",
      "Best epoch: 43 | Best acc: 0.693810\n"
     ]
    },
    {
     "name": "stderr",
     "output_type": "stream",
     "text": [
      "/media/mobarak/data/lalith/SurgicalScene_VQA/InferSent/models.py:207: VisibleDeprecationWarning: Creating an ndarray from ragged nested sequences (which is a list-or-tuple of lists-or-tuples-or ndarrays with different lengths or shapes) is deprecated. If you meant to do this, you must specify 'dtype=object' when creating the ndarray.\n",
      "  sentences = np.array(sentences)[idx_sort]\n"
     ]
    },
    {
     "name": "stdout",
     "output_type": "stream",
     "text": [
      "Test: epoch: 47 loss: 169.096370 | Acc: 0.661748 | mAP: 0.000000\n"
     ]
    },
    {
     "name": "stderr",
     "output_type": "stream",
     "text": [
      "/media/mobarak/data/lalith/SurgicalScene_VQA/InferSent/models.py:207: VisibleDeprecationWarning: Creating an ndarray from ragged nested sequences (which is a list-or-tuple of lists-or-tuples-or ndarrays with different lengths or shapes) is deprecated. If you meant to do this, you must specify 'dtype=object' when creating the ndarray.\n",
      "  sentences = np.array(sentences)[idx_sort]\n"
     ]
    },
    {
     "name": "stdout",
     "output_type": "stream",
     "text": [
      "Test: epoch: 47 loss: 157.857022 | Acc: 0.691702 | mAP: 0.000000\n",
      "[1.         0.82754418 0.25423729 0.58792651 0.56577086 0.3671875\n",
      " 0.46169772 0.92307692 1.         0.63414634 0.         0.63414634\n",
      " 1.         0.58333333 0.65958859 0.67957166 0.58003766 0.10526316]\n",
      "Best epoch: 43 | Best acc: 0.693810\n"
     ]
    },
    {
     "name": "stderr",
     "output_type": "stream",
     "text": [
      "/media/mobarak/data/lalith/SurgicalScene_VQA/InferSent/models.py:207: VisibleDeprecationWarning: Creating an ndarray from ragged nested sequences (which is a list-or-tuple of lists-or-tuples-or ndarrays with different lengths or shapes) is deprecated. If you meant to do this, you must specify 'dtype=object' when creating the ndarray.\n",
      "  sentences = np.array(sentences)[idx_sort]\n"
     ]
    },
    {
     "name": "stdout",
     "output_type": "stream",
     "text": [
      "Test: epoch: 48 loss: 168.280274 | Acc: 0.652208 | mAP: 0.000000\n"
     ]
    },
    {
     "name": "stderr",
     "output_type": "stream",
     "text": [
      "/media/mobarak/data/lalith/SurgicalScene_VQA/InferSent/models.py:207: VisibleDeprecationWarning: Creating an ndarray from ragged nested sequences (which is a list-or-tuple of lists-or-tuples-or ndarrays with different lengths or shapes) is deprecated. If you meant to do this, you must specify 'dtype=object' when creating the ndarray.\n",
      "  sentences = np.array(sentences)[idx_sort]\n"
     ]
    },
    {
     "name": "stdout",
     "output_type": "stream",
     "text": [
      "Test: epoch: 48 loss: 157.377826 | Acc: 0.693144 | mAP: 0.000000\n",
      "[1.         0.80804388 0.88135593 0.85564304 0.64497878 0.265625\n",
      " 0.20289855 0.92307692 1.         0.72357724 0.         0.63414634\n",
      " 1.         0.16666667 0.67418713 0.6383855  0.48022599 0.29052632]\n",
      "Best epoch: 43 | Best acc: 0.693810\n"
     ]
    },
    {
     "name": "stderr",
     "output_type": "stream",
     "text": [
      "/media/mobarak/data/lalith/SurgicalScene_VQA/InferSent/models.py:207: VisibleDeprecationWarning: Creating an ndarray from ragged nested sequences (which is a list-or-tuple of lists-or-tuples-or ndarrays with different lengths or shapes) is deprecated. If you meant to do this, you must specify 'dtype=object' when creating the ndarray.\n",
      "  sentences = np.array(sentences)[idx_sort]\n"
     ]
    },
    {
     "name": "stdout",
     "output_type": "stream",
     "text": [
      "Test: epoch: 49 loss: 166.913512 | Acc: 0.661970 | mAP: 0.000000\n"
     ]
    },
    {
     "name": "stderr",
     "output_type": "stream",
     "text": [
      "/media/mobarak/data/lalith/SurgicalScene_VQA/InferSent/models.py:207: VisibleDeprecationWarning: Creating an ndarray from ragged nested sequences (which is a list-or-tuple of lists-or-tuples-or ndarrays with different lengths or shapes) is deprecated. If you meant to do this, you must specify 'dtype=object' when creating the ndarray.\n",
      "  sentences = np.array(sentences)[idx_sort]\n"
     ]
    },
    {
     "name": "stdout",
     "output_type": "stream",
     "text": [
      "Test: epoch: 49 loss: 157.031318 | Acc: 0.691813 | mAP: 0.000000\n",
      "[1.         0.79402803 0.6440678  0.91338583 0.61244696 0.328125\n",
      " 0.27122153 0.92307692 1.         0.69918699 0.         0.65853659\n",
      " 1.         0.06944444 0.84671533 0.45963756 0.42561205 0.24842105]\n",
      "Best epoch: 43 | Best acc: 0.693810\n"
     ]
    },
    {
     "name": "stderr",
     "output_type": "stream",
     "text": [
      "/media/mobarak/data/lalith/SurgicalScene_VQA/InferSent/models.py:207: VisibleDeprecationWarning: Creating an ndarray from ragged nested sequences (which is a list-or-tuple of lists-or-tuples-or ndarrays with different lengths or shapes) is deprecated. If you meant to do this, you must specify 'dtype=object' when creating the ndarray.\n",
      "  sentences = np.array(sentences)[idx_sort]\n"
     ]
    },
    {
     "name": "stdout",
     "output_type": "stream",
     "text": [
      "Test: epoch: 50 loss: 166.406502 | Acc: 0.654759 | mAP: 0.000000\n"
     ]
    },
    {
     "name": "stderr",
     "output_type": "stream",
     "text": [
      "/media/mobarak/data/lalith/SurgicalScene_VQA/InferSent/models.py:207: VisibleDeprecationWarning: Creating an ndarray from ragged nested sequences (which is a list-or-tuple of lists-or-tuples-or ndarrays with different lengths or shapes) is deprecated. If you meant to do this, you must specify 'dtype=object' when creating the ndarray.\n",
      "  sentences = np.array(sentences)[idx_sort]\n"
     ]
    },
    {
     "name": "stdout",
     "output_type": "stream",
     "text": [
      "Test: epoch: 50 loss: 156.511859 | Acc: 0.693921 | mAP: 0.000000\n",
      "[1.         0.82632541 0.83050847 0.28346457 0.70155587 0.34375\n",
      " 0.47412008 0.92307692 1.         0.60162602 0.         0.63414634\n",
      " 1.         0.55555556 0.68214997 0.46540362 0.64783427 0.52842105]\n",
      "Best epoch: 50 | Best acc: 0.693921\n"
     ]
    },
    {
     "name": "stderr",
     "output_type": "stream",
     "text": [
      "/media/mobarak/data/lalith/SurgicalScene_VQA/InferSent/models.py:207: VisibleDeprecationWarning: Creating an ndarray from ragged nested sequences (which is a list-or-tuple of lists-or-tuples-or ndarrays with different lengths or shapes) is deprecated. If you meant to do this, you must specify 'dtype=object' when creating the ndarray.\n",
      "  sentences = np.array(sentences)[idx_sort]\n"
     ]
    },
    {
     "name": "stdout",
     "output_type": "stream",
     "text": [
      "Test: epoch: 51 loss: 165.554539 | Acc: 0.656534 | mAP: 0.000000\n"
     ]
    },
    {
     "name": "stderr",
     "output_type": "stream",
     "text": [
      "/media/mobarak/data/lalith/SurgicalScene_VQA/InferSent/models.py:207: VisibleDeprecationWarning: Creating an ndarray from ragged nested sequences (which is a list-or-tuple of lists-or-tuples-or ndarrays with different lengths or shapes) is deprecated. If you meant to do this, you must specify 'dtype=object' when creating the ndarray.\n",
      "  sentences = np.array(sentences)[idx_sort]\n"
     ]
    },
    {
     "name": "stdout",
     "output_type": "stream",
     "text": [
      "Test: epoch: 51 loss: 155.803372 | Acc: 0.693255 | mAP: 0.000000\n",
      "[1.         0.81352834 0.79661017 0.49868766 0.63366337 0.203125\n",
      " 0.44306418 0.92307692 1.         0.7398374  0.         0.65853659\n",
      " 1.         0.54166667 0.71201062 0.55848435 0.39736347 0.47368421]\n",
      "Best epoch: 50 | Best acc: 0.693921\n"
     ]
    },
    {
     "name": "stderr",
     "output_type": "stream",
     "text": [
      "/media/mobarak/data/lalith/SurgicalScene_VQA/InferSent/models.py:207: VisibleDeprecationWarning: Creating an ndarray from ragged nested sequences (which is a list-or-tuple of lists-or-tuples-or ndarrays with different lengths or shapes) is deprecated. If you meant to do this, you must specify 'dtype=object' when creating the ndarray.\n",
      "  sentences = np.array(sentences)[idx_sort]\n"
     ]
    },
    {
     "name": "stdout",
     "output_type": "stream",
     "text": [
      "Test: epoch: 52 loss: 165.637507 | Acc: 0.657976 | mAP: 0.000000\n"
     ]
    },
    {
     "name": "stderr",
     "output_type": "stream",
     "text": [
      "/media/mobarak/data/lalith/SurgicalScene_VQA/InferSent/models.py:207: VisibleDeprecationWarning: Creating an ndarray from ragged nested sequences (which is a list-or-tuple of lists-or-tuples-or ndarrays with different lengths or shapes) is deprecated. If you meant to do this, you must specify 'dtype=object' when creating the ndarray.\n",
      "  sentences = np.array(sentences)[idx_sort]\n"
     ]
    },
    {
     "name": "stdout",
     "output_type": "stream",
     "text": [
      "Test: epoch: 52 loss: 155.205833 | Acc: 0.692256 | mAP: 0.000000\n",
      "[1.         0.79159049 0.77966102 0.47244094 0.61103253 0.59375\n",
      " 0.47826087 0.92307692 1.         0.85365854 0.         0.63414634\n",
      " 1.         0.18055556 0.60716656 0.66886326 0.58380414 0.31578947]\n",
      "Best epoch: 50 | Best acc: 0.693921\n"
     ]
    },
    {
     "name": "stderr",
     "output_type": "stream",
     "text": [
      "/media/mobarak/data/lalith/SurgicalScene_VQA/InferSent/models.py:207: VisibleDeprecationWarning: Creating an ndarray from ragged nested sequences (which is a list-or-tuple of lists-or-tuples-or ndarrays with different lengths or shapes) is deprecated. If you meant to do this, you must specify 'dtype=object' when creating the ndarray.\n",
      "  sentences = np.array(sentences)[idx_sort]\n"
     ]
    },
    {
     "name": "stdout",
     "output_type": "stream",
     "text": [
      "Test: epoch: 53 loss: 164.796557 | Acc: 0.655536 | mAP: 0.000000\n"
     ]
    },
    {
     "name": "stderr",
     "output_type": "stream",
     "text": [
      "/media/mobarak/data/lalith/SurgicalScene_VQA/InferSent/models.py:207: VisibleDeprecationWarning: Creating an ndarray from ragged nested sequences (which is a list-or-tuple of lists-or-tuples-or ndarrays with different lengths or shapes) is deprecated. If you meant to do this, you must specify 'dtype=object' when creating the ndarray.\n",
      "  sentences = np.array(sentences)[idx_sort]\n"
     ]
    },
    {
     "name": "stdout",
     "output_type": "stream",
     "text": [
      "Test: epoch: 53 loss: 154.564108 | Acc: 0.693477 | mAP: 0.000000\n",
      "[1.         0.80438757 0.81355932 0.22309711 0.71711457 0.328125\n",
      " 0.55900621 0.84615385 1.         0.75609756 0.         0.68292683\n",
      " 1.         0.38888889 0.76708693 0.39044481 0.81167608 0.26315789]\n",
      "Best epoch: 50 | Best acc: 0.693921\n"
     ]
    },
    {
     "name": "stderr",
     "output_type": "stream",
     "text": [
      "/media/mobarak/data/lalith/SurgicalScene_VQA/InferSent/models.py:207: VisibleDeprecationWarning: Creating an ndarray from ragged nested sequences (which is a list-or-tuple of lists-or-tuples-or ndarrays with different lengths or shapes) is deprecated. If you meant to do this, you must specify 'dtype=object' when creating the ndarray.\n",
      "  sentences = np.array(sentences)[idx_sort]\n"
     ]
    },
    {
     "name": "stdout",
     "output_type": "stream",
     "text": [
      "Test: epoch: 54 loss: 163.484495 | Acc: 0.659197 | mAP: 0.000000\n"
     ]
    },
    {
     "name": "stderr",
     "output_type": "stream",
     "text": [
      "/media/mobarak/data/lalith/SurgicalScene_VQA/InferSent/models.py:207: VisibleDeprecationWarning: Creating an ndarray from ragged nested sequences (which is a list-or-tuple of lists-or-tuples-or ndarrays with different lengths or shapes) is deprecated. If you meant to do this, you must specify 'dtype=object' when creating the ndarray.\n",
      "  sentences = np.array(sentences)[idx_sort]\n"
     ]
    },
    {
     "name": "stdout",
     "output_type": "stream",
     "text": [
      "Test: epoch: 54 loss: 154.667593 | Acc: 0.693144 | mAP: 0.000000\n",
      "[1.         0.75563681 0.72881356 0.90813648 0.68882603 0.59375\n",
      " 0.22981366 0.76923077 1.         0.69105691 0.         0.65853659\n",
      " 1.         0.08333333 0.8274718  0.49670511 0.29190207 0.37684211]\n",
      "Best epoch: 50 | Best acc: 0.693921\n"
     ]
    },
    {
     "name": "stderr",
     "output_type": "stream",
     "text": [
      "/media/mobarak/data/lalith/SurgicalScene_VQA/InferSent/models.py:207: VisibleDeprecationWarning: Creating an ndarray from ragged nested sequences (which is a list-or-tuple of lists-or-tuples-or ndarrays with different lengths or shapes) is deprecated. If you meant to do this, you must specify 'dtype=object' when creating the ndarray.\n",
      "  sentences = np.array(sentences)[idx_sort]\n"
     ]
    },
    {
     "name": "stdout",
     "output_type": "stream",
     "text": [
      "Test: epoch: 55 loss: 163.379541 | Acc: 0.657200 | mAP: 0.000000\n"
     ]
    },
    {
     "name": "stderr",
     "output_type": "stream",
     "text": [
      "/media/mobarak/data/lalith/SurgicalScene_VQA/InferSent/models.py:207: VisibleDeprecationWarning: Creating an ndarray from ragged nested sequences (which is a list-or-tuple of lists-or-tuples-or ndarrays with different lengths or shapes) is deprecated. If you meant to do this, you must specify 'dtype=object' when creating the ndarray.\n",
      "  sentences = np.array(sentences)[idx_sort]\n"
     ]
    },
    {
     "name": "stdout",
     "output_type": "stream",
     "text": [
      "Test: epoch: 55 loss: 153.332857 | Acc: 0.693588 | mAP: 0.000000\n",
      "[1.         0.77635588 0.83050847 0.7480315  0.73691655 0.1953125\n",
      " 0.26501035 0.92307692 1.         0.70731707 0.         0.63414634\n",
      " 1.         0.29166667 0.76177837 0.52635914 0.53672316 0.25052632]\n",
      "Best epoch: 50 | Best acc: 0.693921\n"
     ]
    },
    {
     "name": "stderr",
     "output_type": "stream",
     "text": [
      "/media/mobarak/data/lalith/SurgicalScene_VQA/InferSent/models.py:207: VisibleDeprecationWarning: Creating an ndarray from ragged nested sequences (which is a list-or-tuple of lists-or-tuples-or ndarrays with different lengths or shapes) is deprecated. If you meant to do this, you must specify 'dtype=object' when creating the ndarray.\n",
      "  sentences = np.array(sentences)[idx_sort]\n"
     ]
    },
    {
     "name": "stdout",
     "output_type": "stream",
     "text": [
      "Test: epoch: 56 loss: 162.839222 | Acc: 0.655869 | mAP: 0.000000\n"
     ]
    },
    {
     "name": "stderr",
     "output_type": "stream",
     "text": [
      "/media/mobarak/data/lalith/SurgicalScene_VQA/InferSent/models.py:207: VisibleDeprecationWarning: Creating an ndarray from ragged nested sequences (which is a list-or-tuple of lists-or-tuples-or ndarrays with different lengths or shapes) is deprecated. If you meant to do this, you must specify 'dtype=object' when creating the ndarray.\n",
      "  sentences = np.array(sentences)[idx_sort]\n"
     ]
    },
    {
     "name": "stdout",
     "output_type": "stream",
     "text": [
      "Test: epoch: 56 loss: 153.363366 | Acc: 0.692700 | mAP: 0.000000\n",
      "[1.         0.8110908  0.76271186 0.20209974 0.67751061 0.296875\n",
      " 0.68322981 0.84615385 1.         0.74796748 0.         0.65853659\n",
      " 1.         0.         0.73258129 0.45963756 0.60828625 0.41263158]\n",
      "Best epoch: 50 | Best acc: 0.693921\n"
     ]
    },
    {
     "name": "stderr",
     "output_type": "stream",
     "text": [
      "/media/mobarak/data/lalith/SurgicalScene_VQA/InferSent/models.py:207: VisibleDeprecationWarning: Creating an ndarray from ragged nested sequences (which is a list-or-tuple of lists-or-tuples-or ndarrays with different lengths or shapes) is deprecated. If you meant to do this, you must specify 'dtype=object' when creating the ndarray.\n",
      "  sentences = np.array(sentences)[idx_sort]\n"
     ]
    },
    {
     "name": "stdout",
     "output_type": "stream",
     "text": [
      "Test: epoch: 57 loss: 162.732147 | Acc: 0.652984 | mAP: 0.000000\n"
     ]
    },
    {
     "name": "stderr",
     "output_type": "stream",
     "text": [
      "/media/mobarak/data/lalith/SurgicalScene_VQA/InferSent/models.py:207: VisibleDeprecationWarning: Creating an ndarray from ragged nested sequences (which is a list-or-tuple of lists-or-tuples-or ndarrays with different lengths or shapes) is deprecated. If you meant to do this, you must specify 'dtype=object' when creating the ndarray.\n",
      "  sentences = np.array(sentences)[idx_sort]\n"
     ]
    },
    {
     "name": "stdout",
     "output_type": "stream",
     "text": [
      "Test: epoch: 57 loss: 153.054940 | Acc: 0.692811 | mAP: 0.000000\n",
      "[1.         0.7794028  0.69491525 0.60367454 0.62376238 0.3125\n",
      " 0.46376812 0.92307692 1.         0.68292683 0.         0.65853659\n",
      " 1.         0.72222222 0.68414068 0.54200988 0.48022599 0.50105263]\n",
      "Best epoch: 50 | Best acc: 0.693921\n"
     ]
    },
    {
     "name": "stderr",
     "output_type": "stream",
     "text": [
      "/media/mobarak/data/lalith/SurgicalScene_VQA/InferSent/models.py:207: VisibleDeprecationWarning: Creating an ndarray from ragged nested sequences (which is a list-or-tuple of lists-or-tuples-or ndarrays with different lengths or shapes) is deprecated. If you meant to do this, you must specify 'dtype=object' when creating the ndarray.\n",
      "  sentences = np.array(sentences)[idx_sort]\n"
     ]
    },
    {
     "name": "stdout",
     "output_type": "stream",
     "text": [
      "Test: epoch: 58 loss: 162.017936 | Acc: 0.656978 | mAP: 0.000000\n"
     ]
    },
    {
     "name": "stderr",
     "output_type": "stream",
     "text": [
      "/media/mobarak/data/lalith/SurgicalScene_VQA/InferSent/models.py:207: VisibleDeprecationWarning: Creating an ndarray from ragged nested sequences (which is a list-or-tuple of lists-or-tuples-or ndarrays with different lengths or shapes) is deprecated. If you meant to do this, you must specify 'dtype=object' when creating the ndarray.\n",
      "  sentences = np.array(sentences)[idx_sort]\n"
     ]
    },
    {
     "name": "stdout",
     "output_type": "stream",
     "text": [
      "Test: epoch: 58 loss: 152.542176 | Acc: 0.694253 | mAP: 0.000000\n",
      "[1.         0.79646557 0.89830508 0.83989501 0.67751061 0.2734375\n",
      " 0.14492754 0.92307692 1.         0.63414634 0.         0.65853659\n",
      " 1.         0.76388889 0.63835435 0.6276771  0.36346516 0.57263158]\n",
      "Best epoch: 58 | Best acc: 0.694253\n"
     ]
    },
    {
     "name": "stderr",
     "output_type": "stream",
     "text": [
      "/media/mobarak/data/lalith/SurgicalScene_VQA/InferSent/models.py:207: VisibleDeprecationWarning: Creating an ndarray from ragged nested sequences (which is a list-or-tuple of lists-or-tuples-or ndarrays with different lengths or shapes) is deprecated. If you meant to do this, you must specify 'dtype=object' when creating the ndarray.\n",
      "  sentences = np.array(sentences)[idx_sort]\n"
     ]
    },
    {
     "name": "stdout",
     "output_type": "stream",
     "text": [
      "Test: epoch: 59 loss: 161.088186 | Acc: 0.654316 | mAP: 0.000000\n"
     ]
    },
    {
     "name": "stderr",
     "output_type": "stream",
     "text": [
      "/media/mobarak/data/lalith/SurgicalScene_VQA/InferSent/models.py:207: VisibleDeprecationWarning: Creating an ndarray from ragged nested sequences (which is a list-or-tuple of lists-or-tuples-or ndarrays with different lengths or shapes) is deprecated. If you meant to do this, you must specify 'dtype=object' when creating the ndarray.\n",
      "  sentences = np.array(sentences)[idx_sort]\n"
     ]
    },
    {
     "name": "stdout",
     "output_type": "stream",
     "text": [
      "Test: epoch: 59 loss: 152.484730 | Acc: 0.693588 | mAP: 0.000000\n",
      "[1.         0.7873248  0.59322034 0.20734908 0.72560113 0.5859375\n",
      " 0.63354037 0.92307692 1.         0.6097561  0.         0.73170732\n",
      " 1.         0.29166667 0.75978766 0.38550247 0.83239171 0.26526316]\n",
      "Best epoch: 58 | Best acc: 0.694253\n"
     ]
    },
    {
     "name": "stderr",
     "output_type": "stream",
     "text": [
      "/media/mobarak/data/lalith/SurgicalScene_VQA/InferSent/models.py:207: VisibleDeprecationWarning: Creating an ndarray from ragged nested sequences (which is a list-or-tuple of lists-or-tuples-or ndarrays with different lengths or shapes) is deprecated. If you meant to do this, you must specify 'dtype=object' when creating the ndarray.\n",
      "  sentences = np.array(sentences)[idx_sort]\n"
     ]
    },
    {
     "name": "stdout",
     "output_type": "stream",
     "text": [
      "Test: epoch: 60 loss: 161.038212 | Acc: 0.648103 | mAP: 0.000000\n"
     ]
    },
    {
     "name": "stderr",
     "output_type": "stream",
     "text": [
      "/media/mobarak/data/lalith/SurgicalScene_VQA/InferSent/models.py:207: VisibleDeprecationWarning: Creating an ndarray from ragged nested sequences (which is a list-or-tuple of lists-or-tuples-or ndarrays with different lengths or shapes) is deprecated. If you meant to do this, you must specify 'dtype=object' when creating the ndarray.\n",
      "  sentences = np.array(sentences)[idx_sort]\n"
     ]
    },
    {
     "name": "stdout",
     "output_type": "stream",
     "text": [
      "Test: epoch: 60 loss: 152.058131 | Acc: 0.692922 | mAP: 0.000000\n",
      "[1.         0.80865326 0.86440678 0.22572178 0.63507779 0.28125\n",
      " 0.66045549 0.84615385 1.         0.7804878  0.         0.63414634\n",
      " 1.         0.27777778 0.75646981 0.4398682  0.60451977 0.41473684]\n",
      "Best epoch: 58 | Best acc: 0.694253\n"
     ]
    },
    {
     "name": "stderr",
     "output_type": "stream",
     "text": [
      "/media/mobarak/data/lalith/SurgicalScene_VQA/InferSent/models.py:207: VisibleDeprecationWarning: Creating an ndarray from ragged nested sequences (which is a list-or-tuple of lists-or-tuples-or ndarrays with different lengths or shapes) is deprecated. If you meant to do this, you must specify 'dtype=object' when creating the ndarray.\n",
      "  sentences = np.array(sentences)[idx_sort]\n"
     ]
    },
    {
     "name": "stdout",
     "output_type": "stream",
     "text": [
      "Test: epoch: 61 loss: 159.837787 | Acc: 0.659751 | mAP: 0.000000\n"
     ]
    },
    {
     "name": "stderr",
     "output_type": "stream",
     "text": [
      "/media/mobarak/data/lalith/SurgicalScene_VQA/InferSent/models.py:207: VisibleDeprecationWarning: Creating an ndarray from ragged nested sequences (which is a list-or-tuple of lists-or-tuples-or ndarrays with different lengths or shapes) is deprecated. If you meant to do this, you must specify 'dtype=object' when creating the ndarray.\n",
      "  sentences = np.array(sentences)[idx_sort]\n"
     ]
    },
    {
     "name": "stdout",
     "output_type": "stream",
     "text": [
      "Test: epoch: 61 loss: 151.639468 | Acc: 0.693033 | mAP: 0.000000\n",
      "[1.         0.86654479 0.91525424 0.13910761 0.62234795 0.359375\n",
      " 0.60662526 0.92307692 1.         0.6504065  0.         0.63414634\n",
      " 1.         0.         0.61380226 0.63591433 0.41431262 0.57052632]\n",
      "Best epoch: 58 | Best acc: 0.694253\n"
     ]
    },
    {
     "name": "stderr",
     "output_type": "stream",
     "text": [
      "/media/mobarak/data/lalith/SurgicalScene_VQA/InferSent/models.py:207: VisibleDeprecationWarning: Creating an ndarray from ragged nested sequences (which is a list-or-tuple of lists-or-tuples-or ndarrays with different lengths or shapes) is deprecated. If you meant to do this, you must specify 'dtype=object' when creating the ndarray.\n",
      "  sentences = np.array(sentences)[idx_sort]\n"
     ]
    },
    {
     "name": "stdout",
     "output_type": "stream",
     "text": [
      "Test: epoch: 62 loss: 159.538386 | Acc: 0.656201 | mAP: 0.000000\n"
     ]
    },
    {
     "name": "stderr",
     "output_type": "stream",
     "text": [
      "/media/mobarak/data/lalith/SurgicalScene_VQA/InferSent/models.py:207: VisibleDeprecationWarning: Creating an ndarray from ragged nested sequences (which is a list-or-tuple of lists-or-tuples-or ndarrays with different lengths or shapes) is deprecated. If you meant to do this, you must specify 'dtype=object' when creating the ndarray.\n",
      "  sentences = np.array(sentences)[idx_sort]\n"
     ]
    },
    {
     "name": "stdout",
     "output_type": "stream",
     "text": [
      "Test: epoch: 62 loss: 150.810285 | Acc: 0.693477 | mAP: 0.000000\n",
      "[1.         0.83180987 0.83050847 0.13385827 0.69872702 0.59375\n",
      " 0.55900621 0.92307692 1.         0.70731707 0.         0.63414634\n",
      " 1.         0.04166667 0.6350365  0.68533773 0.39171375 0.39578947]\n",
      "Best epoch: 58 | Best acc: 0.694253\n"
     ]
    },
    {
     "name": "stderr",
     "output_type": "stream",
     "text": [
      "/media/mobarak/data/lalith/SurgicalScene_VQA/InferSent/models.py:207: VisibleDeprecationWarning: Creating an ndarray from ragged nested sequences (which is a list-or-tuple of lists-or-tuples-or ndarrays with different lengths or shapes) is deprecated. If you meant to do this, you must specify 'dtype=object' when creating the ndarray.\n",
      "  sentences = np.array(sentences)[idx_sort]\n"
     ]
    },
    {
     "name": "stdout",
     "output_type": "stream",
     "text": [
      "Test: epoch: 63 loss: 159.677642 | Acc: 0.655314 | mAP: 0.000000\n"
     ]
    },
    {
     "name": "stderr",
     "output_type": "stream",
     "text": [
      "/media/mobarak/data/lalith/SurgicalScene_VQA/InferSent/models.py:207: VisibleDeprecationWarning: Creating an ndarray from ragged nested sequences (which is a list-or-tuple of lists-or-tuples-or ndarrays with different lengths or shapes) is deprecated. If you meant to do this, you must specify 'dtype=object' when creating the ndarray.\n",
      "  sentences = np.array(sentences)[idx_sort]\n"
     ]
    },
    {
     "name": "stdout",
     "output_type": "stream",
     "text": [
      "Test: epoch: 63 loss: 150.677159 | Acc: 0.694697 | mAP: 0.000000\n",
      "[1.         0.78305911 0.6440678  0.26771654 0.73267327 0.265625\n",
      " 0.60455487 0.84615385 1.         0.68292683 0.         0.65853659\n",
      " 1.         0.66666667 0.55607167 0.73970346 0.45574388 0.44631579]\n",
      "Best epoch: 63 | Best acc: 0.694697\n"
     ]
    },
    {
     "name": "stderr",
     "output_type": "stream",
     "text": [
      "/media/mobarak/data/lalith/SurgicalScene_VQA/InferSent/models.py:207: VisibleDeprecationWarning: Creating an ndarray from ragged nested sequences (which is a list-or-tuple of lists-or-tuples-or ndarrays with different lengths or shapes) is deprecated. If you meant to do this, you must specify 'dtype=object' when creating the ndarray.\n",
      "  sentences = np.array(sentences)[idx_sort]\n"
     ]
    },
    {
     "name": "stdout",
     "output_type": "stream",
     "text": [
      "Test: epoch: 64 loss: 158.788985 | Acc: 0.661083 | mAP: 0.000000\n"
     ]
    },
    {
     "name": "stderr",
     "output_type": "stream",
     "text": [
      "/media/mobarak/data/lalith/SurgicalScene_VQA/InferSent/models.py:207: VisibleDeprecationWarning: Creating an ndarray from ragged nested sequences (which is a list-or-tuple of lists-or-tuples-or ndarrays with different lengths or shapes) is deprecated. If you meant to do this, you must specify 'dtype=object' when creating the ndarray.\n",
      "  sentences = np.array(sentences)[idx_sort]\n"
     ]
    },
    {
     "name": "stdout",
     "output_type": "stream",
     "text": [
      "Test: epoch: 64 loss: 150.907921 | Acc: 0.691924 | mAP: 0.000000\n",
      "[1.         0.86410725 0.74576271 0.05774278 0.63932107 0.28125\n",
      " 0.57349896 0.92307692 1.         0.69918699 0.         0.63414634\n",
      " 1.         0.75       0.91108162 0.39291598 0.21280603 0.45052632]\n",
      "Best epoch: 63 | Best acc: 0.694697\n"
     ]
    },
    {
     "name": "stderr",
     "output_type": "stream",
     "text": [
      "/media/mobarak/data/lalith/SurgicalScene_VQA/InferSent/models.py:207: VisibleDeprecationWarning: Creating an ndarray from ragged nested sequences (which is a list-or-tuple of lists-or-tuples-or ndarrays with different lengths or shapes) is deprecated. If you meant to do this, you must specify 'dtype=object' when creating the ndarray.\n",
      "  sentences = np.array(sentences)[idx_sort]\n"
     ]
    },
    {
     "name": "stdout",
     "output_type": "stream",
     "text": [
      "Test: epoch: 65 loss: 158.603296 | Acc: 0.660417 | mAP: 0.000000\n"
     ]
    },
    {
     "name": "stderr",
     "output_type": "stream",
     "text": [
      "/media/mobarak/data/lalith/SurgicalScene_VQA/InferSent/models.py:207: VisibleDeprecationWarning: Creating an ndarray from ragged nested sequences (which is a list-or-tuple of lists-or-tuples-or ndarrays with different lengths or shapes) is deprecated. If you meant to do this, you must specify 'dtype=object' when creating the ndarray.\n",
      "  sentences = np.array(sentences)[idx_sort]\n"
     ]
    },
    {
     "name": "stdout",
     "output_type": "stream",
     "text": [
      "Test: epoch: 65 loss: 150.422559 | Acc: 0.693699 | mAP: 0.000000\n",
      "[1.         0.7440585  0.83050847 0.55380577 0.72135785 0.2578125\n",
      " 0.48861284 0.92307692 1.         0.6504065  0.         0.63414634\n",
      " 1.         0.76388889 0.63370936 0.57413509 0.66478343 0.38315789]\n",
      "Best epoch: 63 | Best acc: 0.694697\n"
     ]
    },
    {
     "name": "stderr",
     "output_type": "stream",
     "text": [
      "/media/mobarak/data/lalith/SurgicalScene_VQA/InferSent/models.py:207: VisibleDeprecationWarning: Creating an ndarray from ragged nested sequences (which is a list-or-tuple of lists-or-tuples-or ndarrays with different lengths or shapes) is deprecated. If you meant to do this, you must specify 'dtype=object' when creating the ndarray.\n",
      "  sentences = np.array(sentences)[idx_sort]\n"
     ]
    },
    {
     "name": "stdout",
     "output_type": "stream",
     "text": [
      "Test: epoch: 66 loss: 158.630026 | Acc: 0.656423 | mAP: 0.000000\n"
     ]
    },
    {
     "name": "stderr",
     "output_type": "stream",
     "text": [
      "/media/mobarak/data/lalith/SurgicalScene_VQA/InferSent/models.py:207: VisibleDeprecationWarning: Creating an ndarray from ragged nested sequences (which is a list-or-tuple of lists-or-tuples-or ndarrays with different lengths or shapes) is deprecated. If you meant to do this, you must specify 'dtype=object' when creating the ndarray.\n",
      "  sentences = np.array(sentences)[idx_sort]\n"
     ]
    },
    {
     "name": "stdout",
     "output_type": "stream",
     "text": [
      "Test: epoch: 66 loss: 150.183240 | Acc: 0.694808 | mAP: 0.000000\n",
      "[1.         0.77818403 0.86440678 0.1496063  0.75106082 0.5546875\n",
      " 0.63354037 0.92307692 1.         0.72357724 0.33333333 0.63414634\n",
      " 1.         0.31944444 0.77040478 0.38797364 0.74952919 0.32631579]\n",
      "Best epoch: 66 | Best acc: 0.694808\n"
     ]
    },
    {
     "name": "stderr",
     "output_type": "stream",
     "text": [
      "/media/mobarak/data/lalith/SurgicalScene_VQA/InferSent/models.py:207: VisibleDeprecationWarning: Creating an ndarray from ragged nested sequences (which is a list-or-tuple of lists-or-tuples-or ndarrays with different lengths or shapes) is deprecated. If you meant to do this, you must specify 'dtype=object' when creating the ndarray.\n",
      "  sentences = np.array(sentences)[idx_sort]\n"
     ]
    },
    {
     "name": "stdout",
     "output_type": "stream",
     "text": [
      "Test: epoch: 67 loss: 157.626657 | Acc: 0.658864 | mAP: 0.000000\n"
     ]
    },
    {
     "name": "stderr",
     "output_type": "stream",
     "text": [
      "/media/mobarak/data/lalith/SurgicalScene_VQA/InferSent/models.py:207: VisibleDeprecationWarning: Creating an ndarray from ragged nested sequences (which is a list-or-tuple of lists-or-tuples-or ndarrays with different lengths or shapes) is deprecated. If you meant to do this, you must specify 'dtype=object' when creating the ndarray.\n",
      "  sentences = np.array(sentences)[idx_sort]\n"
     ]
    },
    {
     "name": "stdout",
     "output_type": "stream",
     "text": [
      "Test: epoch: 67 loss: 150.025064 | Acc: 0.693255 | mAP: 0.000000\n",
      "[1.         0.78366849 0.88135593 0.20734908 0.59830269 0.3046875\n",
      " 0.74741201 0.84615385 1.         0.74796748 0.66666667 0.63414634\n",
      " 1.         0.77777778 0.64963504 0.60131796 0.37099812 0.59157895]\n",
      "Best epoch: 66 | Best acc: 0.694808\n"
     ]
    },
    {
     "name": "stderr",
     "output_type": "stream",
     "text": [
      "/media/mobarak/data/lalith/SurgicalScene_VQA/InferSent/models.py:207: VisibleDeprecationWarning: Creating an ndarray from ragged nested sequences (which is a list-or-tuple of lists-or-tuples-or ndarrays with different lengths or shapes) is deprecated. If you meant to do this, you must specify 'dtype=object' when creating the ndarray.\n",
      "  sentences = np.array(sentences)[idx_sort]\n"
     ]
    },
    {
     "name": "stdout",
     "output_type": "stream",
     "text": [
      "Test: epoch: 68 loss: 157.034673 | Acc: 0.663523 | mAP: 0.000000\n"
     ]
    },
    {
     "name": "stderr",
     "output_type": "stream",
     "text": [
      "/media/mobarak/data/lalith/SurgicalScene_VQA/InferSent/models.py:207: VisibleDeprecationWarning: Creating an ndarray from ragged nested sequences (which is a list-or-tuple of lists-or-tuples-or ndarrays with different lengths or shapes) is deprecated. If you meant to do this, you must specify 'dtype=object' when creating the ndarray.\n",
      "  sentences = np.array(sentences)[idx_sort]\n"
     ]
    },
    {
     "name": "stdout",
     "output_type": "stream",
     "text": [
      "Test: epoch: 68 loss: 149.724557 | Acc: 0.693366 | mAP: 0.000000\n",
      "[1.         0.86654479 0.74576271 0.73490814 0.69165488 0.2890625\n",
      " 0.05175983 0.92307692 1.         0.61788618 0.33333333 0.63414634\n",
      " 1.         0.23611111 0.48307896 0.68945634 0.58757062 0.65263158]\n",
      "Best epoch: 66 | Best acc: 0.694808\n"
     ]
    },
    {
     "name": "stderr",
     "output_type": "stream",
     "text": [
      "/media/mobarak/data/lalith/SurgicalScene_VQA/InferSent/models.py:207: VisibleDeprecationWarning: Creating an ndarray from ragged nested sequences (which is a list-or-tuple of lists-or-tuples-or ndarrays with different lengths or shapes) is deprecated. If you meant to do this, you must specify 'dtype=object' when creating the ndarray.\n",
      "  sentences = np.array(sentences)[idx_sort]\n"
     ]
    },
    {
     "name": "stdout",
     "output_type": "stream",
     "text": [
      "Test: epoch: 69 loss: 157.895775 | Acc: 0.654094 | mAP: 0.000000\n"
     ]
    },
    {
     "name": "stderr",
     "output_type": "stream",
     "text": [
      "/media/mobarak/data/lalith/SurgicalScene_VQA/InferSent/models.py:207: VisibleDeprecationWarning: Creating an ndarray from ragged nested sequences (which is a list-or-tuple of lists-or-tuples-or ndarrays with different lengths or shapes) is deprecated. If you meant to do this, you must specify 'dtype=object' when creating the ndarray.\n",
      "  sentences = np.array(sentences)[idx_sort]\n"
     ]
    },
    {
     "name": "stdout",
     "output_type": "stream",
     "text": [
      "Test: epoch: 69 loss: 149.068371 | Acc: 0.693699 | mAP: 0.000000\n",
      "[1.         0.81170018 0.72881356 0.50131234 0.6251768  0.515625\n",
      " 0.4679089  0.84615385 1.         0.6097561  0.         0.68292683\n",
      " 1.         0.29166667 0.62441938 0.55766063 0.65536723 0.46105263]\n",
      "Best epoch: 66 | Best acc: 0.694808\n"
     ]
    },
    {
     "name": "stderr",
     "output_type": "stream",
     "text": [
      "/media/mobarak/data/lalith/SurgicalScene_VQA/InferSent/models.py:207: VisibleDeprecationWarning: Creating an ndarray from ragged nested sequences (which is a list-or-tuple of lists-or-tuples-or ndarrays with different lengths or shapes) is deprecated. If you meant to do this, you must specify 'dtype=object' when creating the ndarray.\n",
      "  sentences = np.array(sentences)[idx_sort]\n"
     ]
    },
    {
     "name": "stdout",
     "output_type": "stream",
     "text": [
      "Test: epoch: 70 loss: 156.761777 | Acc: 0.656423 | mAP: 0.000000\n"
     ]
    },
    {
     "name": "stderr",
     "output_type": "stream",
     "text": [
      "/media/mobarak/data/lalith/SurgicalScene_VQA/InferSent/models.py:207: VisibleDeprecationWarning: Creating an ndarray from ragged nested sequences (which is a list-or-tuple of lists-or-tuples-or ndarrays with different lengths or shapes) is deprecated. If you meant to do this, you must specify 'dtype=object' when creating the ndarray.\n",
      "  sentences = np.array(sentences)[idx_sort]\n"
     ]
    },
    {
     "name": "stdout",
     "output_type": "stream",
     "text": [
      "Test: epoch: 70 loss: 149.064832 | Acc: 0.694142 | mAP: 0.000000\n",
      "[1.         0.75685558 0.88135593 0.05511811 0.79349364 0.5546875\n",
      " 0.71428571 0.92307692 1.         0.77235772 0.         0.63414634\n",
      " 1.         0.11111111 0.56005309 0.66392092 0.79284369 0.25263158]\n",
      "Best epoch: 66 | Best acc: 0.694808\n"
     ]
    },
    {
     "name": "stderr",
     "output_type": "stream",
     "text": [
      "/media/mobarak/data/lalith/SurgicalScene_VQA/InferSent/models.py:207: VisibleDeprecationWarning: Creating an ndarray from ragged nested sequences (which is a list-or-tuple of lists-or-tuples-or ndarrays with different lengths or shapes) is deprecated. If you meant to do this, you must specify 'dtype=object' when creating the ndarray.\n",
      "  sentences = np.array(sentences)[idx_sort]\n"
     ]
    },
    {
     "name": "stdout",
     "output_type": "stream",
     "text": [
      "Test: epoch: 71 loss: 156.250703 | Acc: 0.659419 | mAP: 0.000000\n"
     ]
    },
    {
     "name": "stderr",
     "output_type": "stream",
     "text": [
      "/media/mobarak/data/lalith/SurgicalScene_VQA/InferSent/models.py:207: VisibleDeprecationWarning: Creating an ndarray from ragged nested sequences (which is a list-or-tuple of lists-or-tuples-or ndarrays with different lengths or shapes) is deprecated. If you meant to do this, you must specify 'dtype=object' when creating the ndarray.\n",
      "  sentences = np.array(sentences)[idx_sort]\n"
     ]
    },
    {
     "name": "stdout",
     "output_type": "stream",
     "text": [
      "Test: epoch: 71 loss: 148.560706 | Acc: 0.694586 | mAP: 0.000000\n",
      "[1.         0.77209019 0.6440678  0.34120735 0.7864215  0.2734375\n",
      " 0.51759834 0.92307692 1.         0.69105691 0.5        0.63414634\n",
      " 1.         0.55555556 0.65029861 0.61943987 0.4519774  0.45052632]\n",
      "Best epoch: 66 | Best acc: 0.694808\n"
     ]
    },
    {
     "name": "stderr",
     "output_type": "stream",
     "text": [
      "/media/mobarak/data/lalith/SurgicalScene_VQA/InferSent/models.py:207: VisibleDeprecationWarning: Creating an ndarray from ragged nested sequences (which is a list-or-tuple of lists-or-tuples-or ndarrays with different lengths or shapes) is deprecated. If you meant to do this, you must specify 'dtype=object' when creating the ndarray.\n",
      "  sentences = np.array(sentences)[idx_sort]\n"
     ]
    },
    {
     "name": "stdout",
     "output_type": "stream",
     "text": [
      "Test: epoch: 72 loss: 155.956172 | Acc: 0.658975 | mAP: 0.000000\n"
     ]
    },
    {
     "name": "stderr",
     "output_type": "stream",
     "text": [
      "/media/mobarak/data/lalith/SurgicalScene_VQA/InferSent/models.py:207: VisibleDeprecationWarning: Creating an ndarray from ragged nested sequences (which is a list-or-tuple of lists-or-tuples-or ndarrays with different lengths or shapes) is deprecated. If you meant to do this, you must specify 'dtype=object' when creating the ndarray.\n",
      "  sentences = np.array(sentences)[idx_sort]\n"
     ]
    },
    {
     "name": "stdout",
     "output_type": "stream",
     "text": [
      "Test: epoch: 72 loss: 148.608978 | Acc: 0.694475 | mAP: 0.000000\n",
      "[1.         0.76721511 0.86440678 0.83464567 0.74540311 0.390625\n",
      " 0.11801242 0.76923077 1.         0.7398374  0.66666667 0.70731707\n",
      " 1.         0.625      0.67020571 0.52965404 0.57250471 0.48210526]\n",
      "Best epoch: 66 | Best acc: 0.694808\n"
     ]
    },
    {
     "name": "stderr",
     "output_type": "stream",
     "text": [
      "/media/mobarak/data/lalith/SurgicalScene_VQA/InferSent/models.py:207: VisibleDeprecationWarning: Creating an ndarray from ragged nested sequences (which is a list-or-tuple of lists-or-tuples-or ndarrays with different lengths or shapes) is deprecated. If you meant to do this, you must specify 'dtype=object' when creating the ndarray.\n",
      "  sentences = np.array(sentences)[idx_sort]\n"
     ]
    },
    {
     "name": "stdout",
     "output_type": "stream",
     "text": [
      "Test: epoch: 73 loss: 156.104547 | Acc: 0.656867 | mAP: 0.000000\n"
     ]
    },
    {
     "name": "stderr",
     "output_type": "stream",
     "text": [
      "/media/mobarak/data/lalith/SurgicalScene_VQA/InferSent/models.py:207: VisibleDeprecationWarning: Creating an ndarray from ragged nested sequences (which is a list-or-tuple of lists-or-tuples-or ndarrays with different lengths or shapes) is deprecated. If you meant to do this, you must specify 'dtype=object' when creating the ndarray.\n",
      "  sentences = np.array(sentences)[idx_sort]\n"
     ]
    },
    {
     "name": "stdout",
     "output_type": "stream",
     "text": [
      "Test: epoch: 73 loss: 148.339400 | Acc: 0.693255 | mAP: 0.000000\n",
      "[1.         0.85496648 0.83050847 0.73228346 0.7241867  0.3828125\n",
      " 0.02277433 0.92307692 1.         0.71544715 0.16666667 0.63414634\n",
      " 1.         0.11111111 0.89250166 0.38632619 0.23352166 0.50526316]\n",
      "Best epoch: 66 | Best acc: 0.694808\n"
     ]
    },
    {
     "name": "stderr",
     "output_type": "stream",
     "text": [
      "/media/mobarak/data/lalith/SurgicalScene_VQA/InferSent/models.py:207: VisibleDeprecationWarning: Creating an ndarray from ragged nested sequences (which is a list-or-tuple of lists-or-tuples-or ndarrays with different lengths or shapes) is deprecated. If you meant to do this, you must specify 'dtype=object' when creating the ndarray.\n",
      "  sentences = np.array(sentences)[idx_sort]\n"
     ]
    },
    {
     "name": "stdout",
     "output_type": "stream",
     "text": [
      "Test: epoch: 74 loss: 155.505440 | Acc: 0.663412 | mAP: 0.000000\n"
     ]
    },
    {
     "name": "stderr",
     "output_type": "stream",
     "text": [
      "/media/mobarak/data/lalith/SurgicalScene_VQA/InferSent/models.py:207: VisibleDeprecationWarning: Creating an ndarray from ragged nested sequences (which is a list-or-tuple of lists-or-tuples-or ndarrays with different lengths or shapes) is deprecated. If you meant to do this, you must specify 'dtype=object' when creating the ndarray.\n",
      "  sentences = np.array(sentences)[idx_sort]\n"
     ]
    },
    {
     "name": "stdout",
     "output_type": "stream",
     "text": [
      "Test: epoch: 74 loss: 148.146856 | Acc: 0.693810 | mAP: 0.000000\n",
      "[1.         0.79098111 0.84745763 0.30183727 0.75247525 0.296875\n",
      " 0.48447205 0.92307692 1.         0.64227642 0.5        0.68292683\n",
      " 1.         0.66666667 0.60053086 0.58649094 0.54613936 0.58315789]\n",
      "Best epoch: 66 | Best acc: 0.694808\n"
     ]
    },
    {
     "name": "stderr",
     "output_type": "stream",
     "text": [
      "/media/mobarak/data/lalith/SurgicalScene_VQA/InferSent/models.py:207: VisibleDeprecationWarning: Creating an ndarray from ragged nested sequences (which is a list-or-tuple of lists-or-tuples-or ndarrays with different lengths or shapes) is deprecated. If you meant to do this, you must specify 'dtype=object' when creating the ndarray.\n",
      "  sentences = np.array(sentences)[idx_sort]\n"
     ]
    },
    {
     "name": "stdout",
     "output_type": "stream",
     "text": [
      "Test: epoch: 75 loss: 154.943121 | Acc: 0.662414 | mAP: 0.000000\n"
     ]
    },
    {
     "name": "stderr",
     "output_type": "stream",
     "text": [
      "/media/mobarak/data/lalith/SurgicalScene_VQA/InferSent/models.py:207: VisibleDeprecationWarning: Creating an ndarray from ragged nested sequences (which is a list-or-tuple of lists-or-tuples-or ndarrays with different lengths or shapes) is deprecated. If you meant to do this, you must specify 'dtype=object' when creating the ndarray.\n",
      "  sentences = np.array(sentences)[idx_sort]\n"
     ]
    },
    {
     "name": "stdout",
     "output_type": "stream",
     "text": [
      "Test: epoch: 75 loss: 147.872031 | Acc: 0.694253 | mAP: 0.000000\n",
      "[1.         0.80499695 0.89830508 0.65091864 0.70721358 0.2578125\n",
      " 0.23188406 0.84615385 1.         0.57723577 0.66666667 0.70731707\n",
      " 1.         0.81944444 0.91108162 0.31383855 0.71374765 0.10736842]\n",
      "Best epoch: 66 | Best acc: 0.694808\n"
     ]
    },
    {
     "name": "stderr",
     "output_type": "stream",
     "text": [
      "/media/mobarak/data/lalith/SurgicalScene_VQA/InferSent/models.py:207: VisibleDeprecationWarning: Creating an ndarray from ragged nested sequences (which is a list-or-tuple of lists-or-tuples-or ndarrays with different lengths or shapes) is deprecated. If you meant to do this, you must specify 'dtype=object' when creating the ndarray.\n",
      "  sentences = np.array(sentences)[idx_sort]\n"
     ]
    },
    {
     "name": "stdout",
     "output_type": "stream",
     "text": [
      "Test: epoch: 76 loss: 154.818543 | Acc: 0.664078 | mAP: 0.000000\n"
     ]
    },
    {
     "name": "stderr",
     "output_type": "stream",
     "text": [
      "/media/mobarak/data/lalith/SurgicalScene_VQA/InferSent/models.py:207: VisibleDeprecationWarning: Creating an ndarray from ragged nested sequences (which is a list-or-tuple of lists-or-tuples-or ndarrays with different lengths or shapes) is deprecated. If you meant to do this, you must specify 'dtype=object' when creating the ndarray.\n",
      "  sentences = np.array(sentences)[idx_sort]\n"
     ]
    },
    {
     "name": "stdout",
     "output_type": "stream",
     "text": [
      "Test: epoch: 76 loss: 148.207914 | Acc: 0.692811 | mAP: 0.000000\n",
      "[1.         0.77269957 0.74576271 0.80314961 0.81188119 0.6015625\n",
      " 0.0310559  0.84615385 1.         0.68292683 0.33333333 0.63414634\n",
      " 1.         0.26388889 0.82415395 0.42339374 0.70056497 0.12210526]\n",
      "Best epoch: 66 | Best acc: 0.694808\n"
     ]
    },
    {
     "name": "stderr",
     "output_type": "stream",
     "text": [
      "/media/mobarak/data/lalith/SurgicalScene_VQA/InferSent/models.py:207: VisibleDeprecationWarning: Creating an ndarray from ragged nested sequences (which is a list-or-tuple of lists-or-tuples-or ndarrays with different lengths or shapes) is deprecated. If you meant to do this, you must specify 'dtype=object' when creating the ndarray.\n",
      "  sentences = np.array(sentences)[idx_sort]\n"
     ]
    },
    {
     "name": "stdout",
     "output_type": "stream",
     "text": [
      "Test: epoch: 77 loss: 154.860383 | Acc: 0.661416 | mAP: 0.000000\n"
     ]
    },
    {
     "name": "stderr",
     "output_type": "stream",
     "text": [
      "/media/mobarak/data/lalith/SurgicalScene_VQA/InferSent/models.py:207: VisibleDeprecationWarning: Creating an ndarray from ragged nested sequences (which is a list-or-tuple of lists-or-tuples-or ndarrays with different lengths or shapes) is deprecated. If you meant to do this, you must specify 'dtype=object' when creating the ndarray.\n",
      "  sentences = np.array(sentences)[idx_sort]\n"
     ]
    },
    {
     "name": "stdout",
     "output_type": "stream",
     "text": [
      "Test: epoch: 77 loss: 147.782318 | Acc: 0.693921 | mAP: 0.000000\n",
      "[1.         0.8226691  0.72881356 0.91338583 0.6096181  0.546875\n",
      " 0.07039337 0.92307692 1.         0.69105691 0.5        0.63414634\n",
      " 1.         0.43055556 0.79097545 0.49341021 0.61016949 0.15578947]\n",
      "Best epoch: 66 | Best acc: 0.694808\n"
     ]
    },
    {
     "name": "stderr",
     "output_type": "stream",
     "text": [
      "/media/mobarak/data/lalith/SurgicalScene_VQA/InferSent/models.py:207: VisibleDeprecationWarning: Creating an ndarray from ragged nested sequences (which is a list-or-tuple of lists-or-tuples-or ndarrays with different lengths or shapes) is deprecated. If you meant to do this, you must specify 'dtype=object' when creating the ndarray.\n",
      "  sentences = np.array(sentences)[idx_sort]\n"
     ]
    },
    {
     "name": "stdout",
     "output_type": "stream",
     "text": [
      "Test: epoch: 78 loss: 154.330389 | Acc: 0.663080 | mAP: 0.000000\n"
     ]
    },
    {
     "name": "stderr",
     "output_type": "stream",
     "text": [
      "/media/mobarak/data/lalith/SurgicalScene_VQA/InferSent/models.py:207: VisibleDeprecationWarning: Creating an ndarray from ragged nested sequences (which is a list-or-tuple of lists-or-tuples-or ndarrays with different lengths or shapes) is deprecated. If you meant to do this, you must specify 'dtype=object' when creating the ndarray.\n",
      "  sentences = np.array(sentences)[idx_sort]\n"
     ]
    },
    {
     "name": "stdout",
     "output_type": "stream",
     "text": [
      "Test: epoch: 78 loss: 147.622004 | Acc: 0.694142 | mAP: 0.000000\n",
      "[1.         0.7714808  0.88135593 0.15748031 0.65770863 0.7421875\n",
      " 0.76397516 0.92307692 1.         0.72357724 0.66666667 0.63414634\n",
      " 1.         0.         0.65361646 0.59719934 0.30508475 0.66105263]\n",
      "Best epoch: 66 | Best acc: 0.694808\n"
     ]
    },
    {
     "name": "stderr",
     "output_type": "stream",
     "text": [
      "/media/mobarak/data/lalith/SurgicalScene_VQA/InferSent/models.py:207: VisibleDeprecationWarning: Creating an ndarray from ragged nested sequences (which is a list-or-tuple of lists-or-tuples-or ndarrays with different lengths or shapes) is deprecated. If you meant to do this, you must specify 'dtype=object' when creating the ndarray.\n",
      "  sentences = np.array(sentences)[idx_sort]\n"
     ]
    },
    {
     "name": "stdout",
     "output_type": "stream",
     "text": [
      "Test: epoch: 79 loss: 154.631167 | Acc: 0.666741 | mAP: 0.000000\n"
     ]
    },
    {
     "name": "stderr",
     "output_type": "stream",
     "text": [
      "/media/mobarak/data/lalith/SurgicalScene_VQA/InferSent/models.py:207: VisibleDeprecationWarning: Creating an ndarray from ragged nested sequences (which is a list-or-tuple of lists-or-tuples-or ndarrays with different lengths or shapes) is deprecated. If you meant to do this, you must specify 'dtype=object' when creating the ndarray.\n",
      "  sentences = np.array(sentences)[idx_sort]\n"
     ]
    },
    {
     "name": "stdout",
     "output_type": "stream",
     "text": [
      "Test: epoch: 79 loss: 147.307401 | Acc: 0.694142 | mAP: 0.000000\n",
      "[1.         0.84948202 0.83050847 0.69553806 0.54455446 0.28125\n",
      " 0.38095238 0.92307692 1.         0.61788618 0.66666667 0.63414634\n",
      " 1.         0.01388889 0.68679496 0.49423394 0.8173258  0.25894737]\n",
      "Best epoch: 66 | Best acc: 0.694808\n"
     ]
    },
    {
     "name": "stderr",
     "output_type": "stream",
     "text": [
      "/media/mobarak/data/lalith/SurgicalScene_VQA/InferSent/models.py:207: VisibleDeprecationWarning: Creating an ndarray from ragged nested sequences (which is a list-or-tuple of lists-or-tuples-or ndarrays with different lengths or shapes) is deprecated. If you meant to do this, you must specify 'dtype=object' when creating the ndarray.\n",
      "  sentences = np.array(sentences)[idx_sort]\n"
     ]
    },
    {
     "name": "stdout",
     "output_type": "stream",
     "text": [
      "Test: epoch: 80 loss: 154.437426 | Acc: 0.663191 | mAP: 0.000000\n"
     ]
    },
    {
     "name": "stderr",
     "output_type": "stream",
     "text": [
      "/media/mobarak/data/lalith/SurgicalScene_VQA/InferSent/models.py:207: VisibleDeprecationWarning: Creating an ndarray from ragged nested sequences (which is a list-or-tuple of lists-or-tuples-or ndarrays with different lengths or shapes) is deprecated. If you meant to do this, you must specify 'dtype=object' when creating the ndarray.\n",
      "  sentences = np.array(sentences)[idx_sort]\n"
     ]
    },
    {
     "name": "stdout",
     "output_type": "stream",
     "text": [
      "Test: epoch: 80 loss: 146.909727 | Acc: 0.694808 | mAP: 0.000000\n",
      "[1.         0.80134065 0.77966102 0.33595801 0.77227723 0.5\n",
      " 0.41407867 0.92307692 1.         0.72357724 0.66666667 0.63414634\n",
      " 1.         0.23611111 0.79031188 0.36655684 0.84369115 0.20842105]\n",
      "Best epoch: 80 | Best acc: 0.694808\n"
     ]
    },
    {
     "name": "stderr",
     "output_type": "stream",
     "text": [
      "/media/mobarak/data/lalith/SurgicalScene_VQA/InferSent/models.py:207: VisibleDeprecationWarning: Creating an ndarray from ragged nested sequences (which is a list-or-tuple of lists-or-tuples-or ndarrays with different lengths or shapes) is deprecated. If you meant to do this, you must specify 'dtype=object' when creating the ndarray.\n",
      "  sentences = np.array(sentences)[idx_sort]\n"
     ]
    },
    {
     "name": "stdout",
     "output_type": "stream",
     "text": [
      "Test: epoch: 81 loss: 153.857551 | Acc: 0.660861 | mAP: 0.000000\n"
     ]
    },
    {
     "name": "stderr",
     "output_type": "stream",
     "text": [
      "/media/mobarak/data/lalith/SurgicalScene_VQA/InferSent/models.py:207: VisibleDeprecationWarning: Creating an ndarray from ragged nested sequences (which is a list-or-tuple of lists-or-tuples-or ndarrays with different lengths or shapes) is deprecated. If you meant to do this, you must specify 'dtype=object' when creating the ndarray.\n",
      "  sentences = np.array(sentences)[idx_sort]\n"
     ]
    },
    {
     "name": "stdout",
     "output_type": "stream",
     "text": [
      "Test: epoch: 81 loss: 147.095901 | Acc: 0.693477 | mAP: 0.000000\n",
      "[1.         0.81840341 0.18644068 0.29396325 0.65912306 0.375\n",
      " 0.59627329 0.76923077 1.         0.66666667 0.         0.6097561\n",
      " 1.         0.68055556 0.90378235 0.30313015 0.59510358 0.29052632]\n",
      "Best epoch: 80 | Best acc: 0.694808\n"
     ]
    },
    {
     "name": "stderr",
     "output_type": "stream",
     "text": [
      "/media/mobarak/data/lalith/SurgicalScene_VQA/InferSent/models.py:207: VisibleDeprecationWarning: Creating an ndarray from ragged nested sequences (which is a list-or-tuple of lists-or-tuples-or ndarrays with different lengths or shapes) is deprecated. If you meant to do this, you must specify 'dtype=object' when creating the ndarray.\n",
      "  sentences = np.array(sentences)[idx_sort]\n"
     ]
    },
    {
     "name": "stdout",
     "output_type": "stream",
     "text": [
      "Test: epoch: 82 loss: 153.549551 | Acc: 0.661416 | mAP: 0.000000\n"
     ]
    },
    {
     "name": "stderr",
     "output_type": "stream",
     "text": [
      "/media/mobarak/data/lalith/SurgicalScene_VQA/InferSent/models.py:207: VisibleDeprecationWarning: Creating an ndarray from ragged nested sequences (which is a list-or-tuple of lists-or-tuples-or ndarrays with different lengths or shapes) is deprecated. If you meant to do this, you must specify 'dtype=object' when creating the ndarray.\n",
      "  sentences = np.array(sentences)[idx_sort]\n"
     ]
    },
    {
     "name": "stdout",
     "output_type": "stream",
     "text": [
      "Test: epoch: 82 loss: 147.038641 | Acc: 0.693366 | mAP: 0.000000\n",
      "[1.         0.76599634 0.52542373 0.1023622  0.83451202 0.5859375\n",
      " 0.65424431 1.         1.         0.61788618 0.66666667 0.63414634\n",
      " 1.         0.125      0.80159257 0.38797364 0.47269303 0.52842105]\n",
      "Best epoch: 80 | Best acc: 0.694808\n"
     ]
    },
    {
     "name": "stderr",
     "output_type": "stream",
     "text": [
      "/media/mobarak/data/lalith/SurgicalScene_VQA/InferSent/models.py:207: VisibleDeprecationWarning: Creating an ndarray from ragged nested sequences (which is a list-or-tuple of lists-or-tuples-or ndarrays with different lengths or shapes) is deprecated. If you meant to do this, you must specify 'dtype=object' when creating the ndarray.\n",
      "  sentences = np.array(sentences)[idx_sort]\n"
     ]
    },
    {
     "name": "stdout",
     "output_type": "stream",
     "text": [
      "Test: epoch: 83 loss: 153.044935 | Acc: 0.657976 | mAP: 0.000000\n"
     ]
    },
    {
     "name": "stderr",
     "output_type": "stream",
     "text": [
      "/media/mobarak/data/lalith/SurgicalScene_VQA/InferSent/models.py:207: VisibleDeprecationWarning: Creating an ndarray from ragged nested sequences (which is a list-or-tuple of lists-or-tuples-or ndarrays with different lengths or shapes) is deprecated. If you meant to do this, you must specify 'dtype=object' when creating the ndarray.\n",
      "  sentences = np.array(sentences)[idx_sort]\n"
     ]
    },
    {
     "name": "stdout",
     "output_type": "stream",
     "text": [
      "Test: epoch: 83 loss: 146.638908 | Acc: 0.694364 | mAP: 0.000000\n",
      "[1.         0.76660573 0.81355932 0.77690289 0.79349364 0.546875\n",
      " 0.15320911 1.         1.         0.62601626 0.33333333 0.63414634\n",
      " 1.         0.22222222 0.63039151 0.6523888  0.61581921 0.24421053]\n",
      "Best epoch: 80 | Best acc: 0.694808\n"
     ]
    },
    {
     "name": "stderr",
     "output_type": "stream",
     "text": [
      "/media/mobarak/data/lalith/SurgicalScene_VQA/InferSent/models.py:207: VisibleDeprecationWarning: Creating an ndarray from ragged nested sequences (which is a list-or-tuple of lists-or-tuples-or ndarrays with different lengths or shapes) is deprecated. If you meant to do this, you must specify 'dtype=object' when creating the ndarray.\n",
      "  sentences = np.array(sentences)[idx_sort]\n"
     ]
    },
    {
     "name": "stdout",
     "output_type": "stream",
     "text": [
      "Test: epoch: 84 loss: 152.953817 | Acc: 0.665409 | mAP: 0.000000\n"
     ]
    },
    {
     "name": "stderr",
     "output_type": "stream",
     "text": [
      "/media/mobarak/data/lalith/SurgicalScene_VQA/InferSent/models.py:207: VisibleDeprecationWarning: Creating an ndarray from ragged nested sequences (which is a list-or-tuple of lists-or-tuples-or ndarrays with different lengths or shapes) is deprecated. If you meant to do this, you must specify 'dtype=object' when creating the ndarray.\n",
      "  sentences = np.array(sentences)[idx_sort]\n"
     ]
    },
    {
     "name": "stdout",
     "output_type": "stream",
     "text": [
      "Test: epoch: 84 loss: 146.662976 | Acc: 0.694253 | mAP: 0.000000\n",
      "[1.         0.84826325 0.47457627 0.0839895  0.69448373 0.71875\n",
      " 0.55486542 0.92307692 1.         0.73170732 0.33333333 0.63414634\n",
      " 1.         0.05555556 0.59389516 0.68863262 0.25235405 0.68      ]\n",
      "Best epoch: 80 | Best acc: 0.694808\n"
     ]
    },
    {
     "name": "stderr",
     "output_type": "stream",
     "text": [
      "/media/mobarak/data/lalith/SurgicalScene_VQA/InferSent/models.py:207: VisibleDeprecationWarning: Creating an ndarray from ragged nested sequences (which is a list-or-tuple of lists-or-tuples-or ndarrays with different lengths or shapes) is deprecated. If you meant to do this, you must specify 'dtype=object' when creating the ndarray.\n",
      "  sentences = np.array(sentences)[idx_sort]\n"
     ]
    },
    {
     "name": "stdout",
     "output_type": "stream",
     "text": [
      "Test: epoch: 85 loss: 152.678260 | Acc: 0.661527 | mAP: 0.000000\n"
     ]
    },
    {
     "name": "stderr",
     "output_type": "stream",
     "text": [
      "/media/mobarak/data/lalith/SurgicalScene_VQA/InferSent/models.py:207: VisibleDeprecationWarning: Creating an ndarray from ragged nested sequences (which is a list-or-tuple of lists-or-tuples-or ndarrays with different lengths or shapes) is deprecated. If you meant to do this, you must specify 'dtype=object' when creating the ndarray.\n",
      "  sentences = np.array(sentences)[idx_sort]\n"
     ]
    },
    {
     "name": "stdout",
     "output_type": "stream",
     "text": [
      "Test: epoch: 85 loss: 146.225221 | Acc: 0.694032 | mAP: 0.000000\n",
      "[1.         0.75685558 0.71186441 0.49868766 0.81046676 0.28125\n",
      " 0.37267081 1.         1.         0.72357724 0.33333333 0.63414634\n",
      " 1.         0.54166667 0.75116125 0.47116969 0.72316384 0.21684211]\n",
      "Best epoch: 80 | Best acc: 0.694808\n"
     ]
    },
    {
     "name": "stderr",
     "output_type": "stream",
     "text": [
      "/media/mobarak/data/lalith/SurgicalScene_VQA/InferSent/models.py:207: VisibleDeprecationWarning: Creating an ndarray from ragged nested sequences (which is a list-or-tuple of lists-or-tuples-or ndarrays with different lengths or shapes) is deprecated. If you meant to do this, you must specify 'dtype=object' when creating the ndarray.\n",
      "  sentences = np.array(sentences)[idx_sort]\n"
     ]
    },
    {
     "name": "stdout",
     "output_type": "stream",
     "text": [
      "Test: epoch: 86 loss: 152.818330 | Acc: 0.661970 | mAP: 0.000000\n"
     ]
    },
    {
     "name": "stderr",
     "output_type": "stream",
     "text": [
      "/media/mobarak/data/lalith/SurgicalScene_VQA/InferSent/models.py:207: VisibleDeprecationWarning: Creating an ndarray from ragged nested sequences (which is a list-or-tuple of lists-or-tuples-or ndarrays with different lengths or shapes) is deprecated. If you meant to do this, you must specify 'dtype=object' when creating the ndarray.\n",
      "  sentences = np.array(sentences)[idx_sort]\n"
     ]
    },
    {
     "name": "stdout",
     "output_type": "stream",
     "text": [
      "Test: epoch: 86 loss: 146.210233 | Acc: 0.695030 | mAP: 0.000000\n",
      "[1.         0.83912249 0.33898305 0.66141732 0.72560113 0.53125\n",
      " 0.16356108 1.         1.         0.64227642 0.66666667 0.65853659\n",
      " 1.         0.125      0.5222296  0.71828666 0.50659134 0.55368421]\n",
      "Best epoch: 86 | Best acc: 0.695030\n"
     ]
    },
    {
     "name": "stderr",
     "output_type": "stream",
     "text": [
      "/media/mobarak/data/lalith/SurgicalScene_VQA/InferSent/models.py:207: VisibleDeprecationWarning: Creating an ndarray from ragged nested sequences (which is a list-or-tuple of lists-or-tuples-or ndarrays with different lengths or shapes) is deprecated. If you meant to do this, you must specify 'dtype=object' when creating the ndarray.\n",
      "  sentences = np.array(sentences)[idx_sort]\n"
     ]
    },
    {
     "name": "stdout",
     "output_type": "stream",
     "text": [
      "Test: epoch: 87 loss: 152.643539 | Acc: 0.661416 | mAP: 0.000000\n"
     ]
    },
    {
     "name": "stderr",
     "output_type": "stream",
     "text": [
      "/media/mobarak/data/lalith/SurgicalScene_VQA/InferSent/models.py:207: VisibleDeprecationWarning: Creating an ndarray from ragged nested sequences (which is a list-or-tuple of lists-or-tuples-or ndarrays with different lengths or shapes) is deprecated. If you meant to do this, you must specify 'dtype=object' when creating the ndarray.\n",
      "  sentences = np.array(sentences)[idx_sort]\n"
     ]
    },
    {
     "name": "stdout",
     "output_type": "stream",
     "text": [
      "Test: epoch: 87 loss: 146.022349 | Acc: 0.695141 | mAP: 0.000000\n",
      "[1.         0.84216941 0.91525424 0.70866142 0.76237624 0.3359375\n",
      " 0.06625259 0.92307692 1.         0.67479675 0.16666667 0.63414634\n",
      " 1.         0.         0.84804247 0.30642504 0.88323917 0.15157895]\n",
      "Best epoch: 87 | Best acc: 0.695141\n"
     ]
    },
    {
     "name": "stderr",
     "output_type": "stream",
     "text": [
      "/media/mobarak/data/lalith/SurgicalScene_VQA/InferSent/models.py:207: VisibleDeprecationWarning: Creating an ndarray from ragged nested sequences (which is a list-or-tuple of lists-or-tuples-or ndarrays with different lengths or shapes) is deprecated. If you meant to do this, you must specify 'dtype=object' when creating the ndarray.\n",
      "  sentences = np.array(sentences)[idx_sort]\n"
     ]
    },
    {
     "name": "stdout",
     "output_type": "stream",
     "text": [
      "Test: epoch: 88 loss: 152.088174 | Acc: 0.663080 | mAP: 0.000000\n"
     ]
    },
    {
     "name": "stderr",
     "output_type": "stream",
     "text": [
      "/media/mobarak/data/lalith/SurgicalScene_VQA/InferSent/models.py:207: VisibleDeprecationWarning: Creating an ndarray from ragged nested sequences (which is a list-or-tuple of lists-or-tuples-or ndarrays with different lengths or shapes) is deprecated. If you meant to do this, you must specify 'dtype=object' when creating the ndarray.\n",
      "  sentences = np.array(sentences)[idx_sort]\n"
     ]
    },
    {
     "name": "stdout",
     "output_type": "stream",
     "text": [
      "Test: epoch: 88 loss: 145.990461 | Acc: 0.694919 | mAP: 0.000000\n",
      "[1.         0.84887264 0.77966102 0.53805774 0.73833098 0.2734375\n",
      " 0.11594203 1.         1.         0.70731707 0.66666667 0.63414634\n",
      " 1.         0.79166667 0.67020571 0.49176277 0.826742   0.29684211]\n",
      "Best epoch: 87 | Best acc: 0.695141\n"
     ]
    },
    {
     "name": "stderr",
     "output_type": "stream",
     "text": [
      "/media/mobarak/data/lalith/SurgicalScene_VQA/InferSent/models.py:207: VisibleDeprecationWarning: Creating an ndarray from ragged nested sequences (which is a list-or-tuple of lists-or-tuples-or ndarrays with different lengths or shapes) is deprecated. If you meant to do this, you must specify 'dtype=object' when creating the ndarray.\n",
      "  sentences = np.array(sentences)[idx_sort]\n"
     ]
    },
    {
     "name": "stdout",
     "output_type": "stream",
     "text": [
      "Test: epoch: 89 loss: 151.642775 | Acc: 0.666630 | mAP: 0.000000\n"
     ]
    },
    {
     "name": "stderr",
     "output_type": "stream",
     "text": [
      "/media/mobarak/data/lalith/SurgicalScene_VQA/InferSent/models.py:207: VisibleDeprecationWarning: Creating an ndarray from ragged nested sequences (which is a list-or-tuple of lists-or-tuples-or ndarrays with different lengths or shapes) is deprecated. If you meant to do this, you must specify 'dtype=object' when creating the ndarray.\n",
      "  sentences = np.array(sentences)[idx_sort]\n"
     ]
    },
    {
     "name": "stdout",
     "output_type": "stream",
     "text": [
      "Test: epoch: 89 loss: 145.598741 | Acc: 0.694475 | mAP: 0.000000\n",
      "[1.         0.7324802  0.77966102 0.83727034 0.75106082 0.6484375\n",
      " 0.24430642 0.92307692 1.         0.73170732 0.83333333 0.63414634\n",
      " 1.         0.125      0.66025216 0.65733114 0.52165725 0.24421053]\n",
      "Best epoch: 87 | Best acc: 0.695141\n"
     ]
    },
    {
     "name": "stderr",
     "output_type": "stream",
     "text": [
      "/media/mobarak/data/lalith/SurgicalScene_VQA/InferSent/models.py:207: VisibleDeprecationWarning: Creating an ndarray from ragged nested sequences (which is a list-or-tuple of lists-or-tuples-or ndarrays with different lengths or shapes) is deprecated. If you meant to do this, you must specify 'dtype=object' when creating the ndarray.\n",
      "  sentences = np.array(sentences)[idx_sort]\n"
     ]
    },
    {
     "name": "stdout",
     "output_type": "stream",
     "text": [
      "Test: epoch: 90 loss: 152.067356 | Acc: 0.660639 | mAP: 0.000000\n"
     ]
    },
    {
     "name": "stderr",
     "output_type": "stream",
     "text": [
      "/media/mobarak/data/lalith/SurgicalScene_VQA/InferSent/models.py:207: VisibleDeprecationWarning: Creating an ndarray from ragged nested sequences (which is a list-or-tuple of lists-or-tuples-or ndarrays with different lengths or shapes) is deprecated. If you meant to do this, you must specify 'dtype=object' when creating the ndarray.\n",
      "  sentences = np.array(sentences)[idx_sort]\n"
     ]
    },
    {
     "name": "stdout",
     "output_type": "stream",
     "text": [
      "Test: epoch: 90 loss: 145.920097 | Acc: 0.693366 | mAP: 0.000000\n",
      "[1.         0.76112127 0.83050847 0.30971129 0.67892504 0.734375\n",
      " 0.60041408 1.         1.         0.77235772 1.         0.73170732\n",
      " 1.         0.125      0.67551427 0.47364086 0.73634652 0.42105263]\n",
      "Best epoch: 87 | Best acc: 0.695141\n"
     ]
    },
    {
     "name": "stderr",
     "output_type": "stream",
     "text": [
      "/media/mobarak/data/lalith/SurgicalScene_VQA/InferSent/models.py:207: VisibleDeprecationWarning: Creating an ndarray from ragged nested sequences (which is a list-or-tuple of lists-or-tuples-or ndarrays with different lengths or shapes) is deprecated. If you meant to do this, you must specify 'dtype=object' when creating the ndarray.\n",
      "  sentences = np.array(sentences)[idx_sort]\n"
     ]
    },
    {
     "name": "stdout",
     "output_type": "stream",
     "text": [
      "Test: epoch: 91 loss: 151.679801 | Acc: 0.665742 | mAP: 0.000000\n"
     ]
    },
    {
     "name": "stderr",
     "output_type": "stream",
     "text": [
      "/media/mobarak/data/lalith/SurgicalScene_VQA/InferSent/models.py:207: VisibleDeprecationWarning: Creating an ndarray from ragged nested sequences (which is a list-or-tuple of lists-or-tuples-or ndarrays with different lengths or shapes) is deprecated. If you meant to do this, you must specify 'dtype=object' when creating the ndarray.\n",
      "  sentences = np.array(sentences)[idx_sort]\n"
     ]
    },
    {
     "name": "stdout",
     "output_type": "stream",
     "text": [
      "Test: epoch: 91 loss: 145.707447 | Acc: 0.694697 | mAP: 0.000000\n",
      "[1.         0.74832419 0.72881356 0.75590551 0.73125884 0.6171875\n",
      " 0.32091097 1.         1.         0.57723577 0.66666667 0.63414634\n",
      " 1.         0.27777778 0.60384871 0.62191104 0.83615819 0.16      ]\n",
      "Best epoch: 87 | Best acc: 0.695141\n"
     ]
    },
    {
     "name": "stderr",
     "output_type": "stream",
     "text": [
      "/media/mobarak/data/lalith/SurgicalScene_VQA/InferSent/models.py:207: VisibleDeprecationWarning: Creating an ndarray from ragged nested sequences (which is a list-or-tuple of lists-or-tuples-or ndarrays with different lengths or shapes) is deprecated. If you meant to do this, you must specify 'dtype=object' when creating the ndarray.\n",
      "  sentences = np.array(sentences)[idx_sort]\n"
     ]
    },
    {
     "name": "stdout",
     "output_type": "stream",
     "text": [
      "Test: epoch: 92 loss: 151.499275 | Acc: 0.658864 | mAP: 0.000000\n"
     ]
    },
    {
     "name": "stderr",
     "output_type": "stream",
     "text": [
      "/media/mobarak/data/lalith/SurgicalScene_VQA/InferSent/models.py:207: VisibleDeprecationWarning: Creating an ndarray from ragged nested sequences (which is a list-or-tuple of lists-or-tuples-or ndarrays with different lengths or shapes) is deprecated. If you meant to do this, you must specify 'dtype=object' when creating the ndarray.\n",
      "  sentences = np.array(sentences)[idx_sort]\n"
     ]
    },
    {
     "name": "stdout",
     "output_type": "stream",
     "text": [
      "Test: epoch: 92 loss: 145.473577 | Acc: 0.693699 | mAP: 0.000000\n",
      "[1.         0.84704449 0.81355932 0.28871391 0.62800566 0.3125\n",
      " 0.46583851 0.84615385 1.         0.74796748 0.83333333 0.70731707\n",
      " 1.         0.55555556 0.47246184 0.77924217 0.5913371  0.45052632]\n",
      "Best epoch: 87 | Best acc: 0.695141\n"
     ]
    },
    {
     "name": "stderr",
     "output_type": "stream",
     "text": [
      "/media/mobarak/data/lalith/SurgicalScene_VQA/InferSent/models.py:207: VisibleDeprecationWarning: Creating an ndarray from ragged nested sequences (which is a list-or-tuple of lists-or-tuples-or ndarrays with different lengths or shapes) is deprecated. If you meant to do this, you must specify 'dtype=object' when creating the ndarray.\n",
      "  sentences = np.array(sentences)[idx_sort]\n"
     ]
    },
    {
     "name": "stdout",
     "output_type": "stream",
     "text": [
      "Test: epoch: 93 loss: 151.423133 | Acc: 0.658975 | mAP: 0.000000\n"
     ]
    },
    {
     "name": "stderr",
     "output_type": "stream",
     "text": [
      "/media/mobarak/data/lalith/SurgicalScene_VQA/InferSent/models.py:207: VisibleDeprecationWarning: Creating an ndarray from ragged nested sequences (which is a list-or-tuple of lists-or-tuples-or ndarrays with different lengths or shapes) is deprecated. If you meant to do this, you must specify 'dtype=object' when creating the ndarray.\n",
      "  sentences = np.array(sentences)[idx_sort]\n"
     ]
    },
    {
     "name": "stdout",
     "output_type": "stream",
     "text": [
      "Test: epoch: 93 loss: 145.227836 | Acc: 0.695585 | mAP: 0.000000\n",
      "[1.         0.73979281 0.88135593 0.90813648 0.7397454  0.265625\n",
      " 0.22567288 1.         1.         0.60162602 0.66666667 0.63414634\n",
      " 1.         0.70833333 0.72926344 0.45057661 0.85310734 0.19368421]\n",
      "Best epoch: 93 | Best acc: 0.695585\n"
     ]
    },
    {
     "name": "stderr",
     "output_type": "stream",
     "text": [
      "/media/mobarak/data/lalith/SurgicalScene_VQA/InferSent/models.py:207: VisibleDeprecationWarning: Creating an ndarray from ragged nested sequences (which is a list-or-tuple of lists-or-tuples-or ndarrays with different lengths or shapes) is deprecated. If you meant to do this, you must specify 'dtype=object' when creating the ndarray.\n",
      "  sentences = np.array(sentences)[idx_sort]\n"
     ]
    },
    {
     "name": "stdout",
     "output_type": "stream",
     "text": [
      "Test: epoch: 94 loss: 151.248219 | Acc: 0.666852 | mAP: 0.000000\n"
     ]
    },
    {
     "name": "stderr",
     "output_type": "stream",
     "text": [
      "/media/mobarak/data/lalith/SurgicalScene_VQA/InferSent/models.py:207: VisibleDeprecationWarning: Creating an ndarray from ragged nested sequences (which is a list-or-tuple of lists-or-tuples-or ndarrays with different lengths or shapes) is deprecated. If you meant to do this, you must specify 'dtype=object' when creating the ndarray.\n",
      "  sentences = np.array(sentences)[idx_sort]\n"
     ]
    },
    {
     "name": "stdout",
     "output_type": "stream",
     "text": [
      "Test: epoch: 94 loss: 145.127984 | Acc: 0.694475 | mAP: 0.000000\n",
      "[1.         0.75076173 0.55932203 0.69291339 0.75388967 0.6875\n",
      " 0.33747412 1.         1.         0.68292683 0.66666667 0.65853659\n",
      " 1.         0.06944444 0.47047113 0.77429984 0.6007533  0.44842105]\n",
      "Best epoch: 93 | Best acc: 0.695585\n"
     ]
    },
    {
     "name": "stderr",
     "output_type": "stream",
     "text": [
      "/media/mobarak/data/lalith/SurgicalScene_VQA/InferSent/models.py:207: VisibleDeprecationWarning: Creating an ndarray from ragged nested sequences (which is a list-or-tuple of lists-or-tuples-or ndarrays with different lengths or shapes) is deprecated. If you meant to do this, you must specify 'dtype=object' when creating the ndarray.\n",
      "  sentences = np.array(sentences)[idx_sort]\n"
     ]
    },
    {
     "name": "stdout",
     "output_type": "stream",
     "text": [
      "Test: epoch: 95 loss: 150.838395 | Acc: 0.670956 | mAP: 0.000000\n"
     ]
    },
    {
     "name": "stderr",
     "output_type": "stream",
     "text": [
      "/media/mobarak/data/lalith/SurgicalScene_VQA/InferSent/models.py:207: VisibleDeprecationWarning: Creating an ndarray from ragged nested sequences (which is a list-or-tuple of lists-or-tuples-or ndarrays with different lengths or shapes) is deprecated. If you meant to do this, you must specify 'dtype=object' when creating the ndarray.\n",
      "  sentences = np.array(sentences)[idx_sort]\n"
     ]
    },
    {
     "name": "stdout",
     "output_type": "stream",
     "text": [
      "Test: epoch: 95 loss: 145.323409 | Acc: 0.693477 | mAP: 0.000000\n",
      "[1.         0.79768434 0.89830508 0.27296588 0.54738331 0.578125\n",
      " 0.70186335 0.92307692 1.         0.77235772 1.         0.73170732\n",
      " 1.         0.30555556 0.82481752 0.42174629 0.71186441 0.11368421]\n",
      "Best epoch: 93 | Best acc: 0.695585\n"
     ]
    },
    {
     "name": "stderr",
     "output_type": "stream",
     "text": [
      "/media/mobarak/data/lalith/SurgicalScene_VQA/InferSent/models.py:207: VisibleDeprecationWarning: Creating an ndarray from ragged nested sequences (which is a list-or-tuple of lists-or-tuples-or ndarrays with different lengths or shapes) is deprecated. If you meant to do this, you must specify 'dtype=object' when creating the ndarray.\n",
      "  sentences = np.array(sentences)[idx_sort]\n"
     ]
    },
    {
     "name": "stdout",
     "output_type": "stream",
     "text": [
      "Test: epoch: 96 loss: 150.940536 | Acc: 0.667295 | mAP: 0.000000\n"
     ]
    },
    {
     "name": "stderr",
     "output_type": "stream",
     "text": [
      "/media/mobarak/data/lalith/SurgicalScene_VQA/InferSent/models.py:207: VisibleDeprecationWarning: Creating an ndarray from ragged nested sequences (which is a list-or-tuple of lists-or-tuples-or ndarrays with different lengths or shapes) is deprecated. If you meant to do this, you must specify 'dtype=object' when creating the ndarray.\n",
      "  sentences = np.array(sentences)[idx_sort]\n"
     ]
    },
    {
     "name": "stdout",
     "output_type": "stream",
     "text": [
      "Test: epoch: 96 loss: 144.986959 | Acc: 0.693921 | mAP: 0.000000\n",
      "[1.         0.80743449 0.84745763 0.86614173 0.66478076 0.4296875\n",
      " 0.11594203 1.         1.         0.73170732 0.83333333 0.75609756\n",
      " 1.         0.25       0.52023889 0.68039539 0.77024482 0.33684211]\n",
      "Best epoch: 93 | Best acc: 0.695585\n"
     ]
    },
    {
     "name": "stderr",
     "output_type": "stream",
     "text": [
      "/media/mobarak/data/lalith/SurgicalScene_VQA/InferSent/models.py:207: VisibleDeprecationWarning: Creating an ndarray from ragged nested sequences (which is a list-or-tuple of lists-or-tuples-or ndarrays with different lengths or shapes) is deprecated. If you meant to do this, you must specify 'dtype=object' when creating the ndarray.\n",
      "  sentences = np.array(sentences)[idx_sort]\n"
     ]
    },
    {
     "name": "stdout",
     "output_type": "stream",
     "text": [
      "Test: epoch: 97 loss: 151.023571 | Acc: 0.660639 | mAP: 0.000000\n"
     ]
    },
    {
     "name": "stderr",
     "output_type": "stream",
     "text": [
      "/media/mobarak/data/lalith/SurgicalScene_VQA/InferSent/models.py:207: VisibleDeprecationWarning: Creating an ndarray from ragged nested sequences (which is a list-or-tuple of lists-or-tuples-or ndarrays with different lengths or shapes) is deprecated. If you meant to do this, you must specify 'dtype=object' when creating the ndarray.\n",
      "  sentences = np.array(sentences)[idx_sort]\n"
     ]
    },
    {
     "name": "stdout",
     "output_type": "stream",
     "text": [
      "Test: epoch: 97 loss: 144.774989 | Acc: 0.695252 | mAP: 0.000000\n",
      "[1.         0.81291895 0.66101695 0.8503937  0.75247525 0.40625\n",
      " 0.03726708 1.         1.         0.6504065  0.66666667 0.65853659\n",
      " 1.         0.29166667 0.87126742 0.32701812 0.39548023 0.56842105]\n",
      "Best epoch: 93 | Best acc: 0.695585\n"
     ]
    },
    {
     "name": "stderr",
     "output_type": "stream",
     "text": [
      "/media/mobarak/data/lalith/SurgicalScene_VQA/InferSent/models.py:207: VisibleDeprecationWarning: Creating an ndarray from ragged nested sequences (which is a list-or-tuple of lists-or-tuples-or ndarrays with different lengths or shapes) is deprecated. If you meant to do this, you must specify 'dtype=object' when creating the ndarray.\n",
      "  sentences = np.array(sentences)[idx_sort]\n"
     ]
    },
    {
     "name": "stdout",
     "output_type": "stream",
     "text": [
      "Test: epoch: 98 loss: 150.553602 | Acc: 0.659308 | mAP: 0.000000\n"
     ]
    },
    {
     "name": "stderr",
     "output_type": "stream",
     "text": [
      "/media/mobarak/data/lalith/SurgicalScene_VQA/InferSent/models.py:207: VisibleDeprecationWarning: Creating an ndarray from ragged nested sequences (which is a list-or-tuple of lists-or-tuples-or ndarrays with different lengths or shapes) is deprecated. If you meant to do this, you must specify 'dtype=object' when creating the ndarray.\n",
      "  sentences = np.array(sentences)[idx_sort]\n"
     ]
    },
    {
     "name": "stdout",
     "output_type": "stream",
     "text": [
      "Test: epoch: 98 loss: 144.712229 | Acc: 0.694142 | mAP: 0.000000\n",
      "[1.         0.79341865 0.83050847 0.81889764 0.68882603 0.5625\n",
      " 0.13043478 1.         1.         0.75609756 0.66666667 0.63414634\n",
      " 1.         0.19444444 0.59124088 0.67957166 0.75141243 0.15578947]\n",
      "Best epoch: 93 | Best acc: 0.695585\n"
     ]
    },
    {
     "name": "stderr",
     "output_type": "stream",
     "text": [
      "/media/mobarak/data/lalith/SurgicalScene_VQA/InferSent/models.py:207: VisibleDeprecationWarning: Creating an ndarray from ragged nested sequences (which is a list-or-tuple of lists-or-tuples-or ndarrays with different lengths or shapes) is deprecated. If you meant to do this, you must specify 'dtype=object' when creating the ndarray.\n",
      "  sentences = np.array(sentences)[idx_sort]\n"
     ]
    },
    {
     "name": "stdout",
     "output_type": "stream",
     "text": [
      "Test: epoch: 99 loss: 150.375679 | Acc: 0.663634 | mAP: 0.000000\n"
     ]
    },
    {
     "name": "stderr",
     "output_type": "stream",
     "text": [
      "/media/mobarak/data/lalith/SurgicalScene_VQA/InferSent/models.py:207: VisibleDeprecationWarning: Creating an ndarray from ragged nested sequences (which is a list-or-tuple of lists-or-tuples-or ndarrays with different lengths or shapes) is deprecated. If you meant to do this, you must specify 'dtype=object' when creating the ndarray.\n",
      "  sentences = np.array(sentences)[idx_sort]\n"
     ]
    },
    {
     "name": "stdout",
     "output_type": "stream",
     "text": [
      "Test: epoch: 99 loss: 144.745298 | Acc: 0.695474 | mAP: 0.000000\n",
      "[1.         0.78244973 0.77966102 0.24409449 0.67609618 0.671875\n",
      " 0.67494824 1.         1.         0.71544715 1.         0.63414634\n",
      " 1.         0.         0.53483743 0.67874794 0.47834275 0.64421053]\n",
      "Best epoch: 93 | Best acc: 0.695585\n"
     ]
    },
    {
     "name": "stderr",
     "output_type": "stream",
     "text": [
      "/media/mobarak/data/lalith/SurgicalScene_VQA/InferSent/models.py:207: VisibleDeprecationWarning: Creating an ndarray from ragged nested sequences (which is a list-or-tuple of lists-or-tuples-or ndarrays with different lengths or shapes) is deprecated. If you meant to do this, you must specify 'dtype=object' when creating the ndarray.\n",
      "  sentences = np.array(sentences)[idx_sort]\n"
     ]
    },
    {
     "name": "stdout",
     "output_type": "stream",
     "text": [
      "Test: epoch: 100 loss: 150.355583 | Acc: 0.659308 | mAP: 0.000000\n"
     ]
    },
    {
     "name": "stderr",
     "output_type": "stream",
     "text": [
      "/media/mobarak/data/lalith/SurgicalScene_VQA/InferSent/models.py:207: VisibleDeprecationWarning: Creating an ndarray from ragged nested sequences (which is a list-or-tuple of lists-or-tuples-or ndarrays with different lengths or shapes) is deprecated. If you meant to do this, you must specify 'dtype=object' when creating the ndarray.\n",
      "  sentences = np.array(sentences)[idx_sort]\n"
     ]
    },
    {
     "name": "stdout",
     "output_type": "stream",
     "text": [
      "Test: epoch: 100 loss: 144.534689 | Acc: 0.695252 | mAP: 0.000000\n",
      "[1.         0.75807434 0.89830508 0.87664042 0.71004243 0.3671875\n",
      " 0.22360248 1.         1.         0.62601626 1.         0.63414634\n",
      " 1.         0.48611111 0.91705375 0.30560132 0.43314501 0.43368421]\n",
      "Best epoch: 93 | Best acc: 0.695585\n"
     ]
    },
    {
     "name": "stderr",
     "output_type": "stream",
     "text": [
      "/media/mobarak/data/lalith/SurgicalScene_VQA/InferSent/models.py:207: VisibleDeprecationWarning: Creating an ndarray from ragged nested sequences (which is a list-or-tuple of lists-or-tuples-or ndarrays with different lengths or shapes) is deprecated. If you meant to do this, you must specify 'dtype=object' when creating the ndarray.\n",
      "  sentences = np.array(sentences)[idx_sort]\n"
     ]
    },
    {
     "name": "stdout",
     "output_type": "stream",
     "text": [
      "Test: epoch: 101 loss: 150.311486 | Acc: 0.665520 | mAP: 0.000000\n"
     ]
    },
    {
     "name": "stderr",
     "output_type": "stream",
     "text": [
      "/media/mobarak/data/lalith/SurgicalScene_VQA/InferSent/models.py:207: VisibleDeprecationWarning: Creating an ndarray from ragged nested sequences (which is a list-or-tuple of lists-or-tuples-or ndarrays with different lengths or shapes) is deprecated. If you meant to do this, you must specify 'dtype=object' when creating the ndarray.\n",
      "  sentences = np.array(sentences)[idx_sort]\n"
     ]
    },
    {
     "name": "stdout",
     "output_type": "stream",
     "text": [
      "Test: epoch: 101 loss: 144.471623 | Acc: 0.695030 | mAP: 0.000000\n",
      "[1.         0.7794028  0.72881356 0.90551181 0.78500707 0.46875\n",
      " 0.03312629 0.92307692 1.         0.60162602 0.66666667 0.63414634\n",
      " 1.         0.45833333 0.80159257 0.36655684 0.64030132 0.40421053]\n",
      "Best epoch: 93 | Best acc: 0.695585\n"
     ]
    },
    {
     "name": "stderr",
     "output_type": "stream",
     "text": [
      "/media/mobarak/data/lalith/SurgicalScene_VQA/InferSent/models.py:207: VisibleDeprecationWarning: Creating an ndarray from ragged nested sequences (which is a list-or-tuple of lists-or-tuples-or ndarrays with different lengths or shapes) is deprecated. If you meant to do this, you must specify 'dtype=object' when creating the ndarray.\n",
      "  sentences = np.array(sentences)[idx_sort]\n"
     ]
    },
    {
     "name": "stdout",
     "output_type": "stream",
     "text": [
      "Test: epoch: 102 loss: 150.417910 | Acc: 0.664300 | mAP: 0.000000\n"
     ]
    },
    {
     "name": "stderr",
     "output_type": "stream",
     "text": [
      "/media/mobarak/data/lalith/SurgicalScene_VQA/InferSent/models.py:207: VisibleDeprecationWarning: Creating an ndarray from ragged nested sequences (which is a list-or-tuple of lists-or-tuples-or ndarrays with different lengths or shapes) is deprecated. If you meant to do this, you must specify 'dtype=object' when creating the ndarray.\n",
      "  sentences = np.array(sentences)[idx_sort]\n"
     ]
    },
    {
     "name": "stdout",
     "output_type": "stream",
     "text": [
      "Test: epoch: 102 loss: 144.516367 | Acc: 0.694475 | mAP: 0.000000\n",
      "[1.         0.79768434 0.91525424 0.12598425 0.8019802  0.28125\n",
      " 0.52380952 1.         1.         0.73170732 1.         0.70731707\n",
      " 1.         0.5        0.67816855 0.61202636 0.20338983 0.65894737]\n",
      "Best epoch: 93 | Best acc: 0.695585\n"
     ]
    },
    {
     "name": "stderr",
     "output_type": "stream",
     "text": [
      "/media/mobarak/data/lalith/SurgicalScene_VQA/InferSent/models.py:207: VisibleDeprecationWarning: Creating an ndarray from ragged nested sequences (which is a list-or-tuple of lists-or-tuples-or ndarrays with different lengths or shapes) is deprecated. If you meant to do this, you must specify 'dtype=object' when creating the ndarray.\n",
      "  sentences = np.array(sentences)[idx_sort]\n"
     ]
    },
    {
     "name": "stdout",
     "output_type": "stream",
     "text": [
      "Test: epoch: 103 loss: 149.543987 | Acc: 0.666630 | mAP: 0.000000\n"
     ]
    },
    {
     "name": "stderr",
     "output_type": "stream",
     "text": [
      "/media/mobarak/data/lalith/SurgicalScene_VQA/InferSent/models.py:207: VisibleDeprecationWarning: Creating an ndarray from ragged nested sequences (which is a list-or-tuple of lists-or-tuples-or ndarrays with different lengths or shapes) is deprecated. If you meant to do this, you must specify 'dtype=object' when creating the ndarray.\n",
      "  sentences = np.array(sentences)[idx_sort]\n"
     ]
    },
    {
     "name": "stdout",
     "output_type": "stream",
     "text": [
      "Test: epoch: 103 loss: 144.211676 | Acc: 0.695141 | mAP: 0.000000\n",
      "[1.         0.75502742 0.84745763 0.6167979  0.72560113 0.2890625\n",
      " 0.36024845 0.92307692 1.         0.77235772 0.66666667 0.63414634\n",
      " 1.         0.84722222 0.51293962 0.7553542  0.6873823  0.27789474]\n",
      "Best epoch: 93 | Best acc: 0.695585\n"
     ]
    },
    {
     "name": "stderr",
     "output_type": "stream",
     "text": [
      "/media/mobarak/data/lalith/SurgicalScene_VQA/InferSent/models.py:207: VisibleDeprecationWarning: Creating an ndarray from ragged nested sequences (which is a list-or-tuple of lists-or-tuples-or ndarrays with different lengths or shapes) is deprecated. If you meant to do this, you must specify 'dtype=object' when creating the ndarray.\n",
      "  sentences = np.array(sentences)[idx_sort]\n"
     ]
    },
    {
     "name": "stdout",
     "output_type": "stream",
     "text": [
      "Test: epoch: 104 loss: 149.599869 | Acc: 0.668183 | mAP: 0.000000\n"
     ]
    },
    {
     "name": "stderr",
     "output_type": "stream",
     "text": [
      "/media/mobarak/data/lalith/SurgicalScene_VQA/InferSent/models.py:207: VisibleDeprecationWarning: Creating an ndarray from ragged nested sequences (which is a list-or-tuple of lists-or-tuples-or ndarrays with different lengths or shapes) is deprecated. If you meant to do this, you must specify 'dtype=object' when creating the ndarray.\n",
      "  sentences = np.array(sentences)[idx_sort]\n"
     ]
    },
    {
     "name": "stdout",
     "output_type": "stream",
     "text": [
      "Test: epoch: 104 loss: 144.234979 | Acc: 0.695030 | mAP: 0.000000\n",
      "[1.         0.72943327 0.88135593 0.93700787 0.73691655 0.6796875\n",
      " 0.17805383 1.         1.         0.68292683 0.83333333 0.65853659\n",
      " 1.         0.22222222 0.77571334 0.47116969 0.38794727 0.50526316]\n",
      "Best epoch: 93 | Best acc: 0.695585\n"
     ]
    },
    {
     "name": "stderr",
     "output_type": "stream",
     "text": [
      "/media/mobarak/data/lalith/SurgicalScene_VQA/InferSent/models.py:207: VisibleDeprecationWarning: Creating an ndarray from ragged nested sequences (which is a list-or-tuple of lists-or-tuples-or ndarrays with different lengths or shapes) is deprecated. If you meant to do this, you must specify 'dtype=object' when creating the ndarray.\n",
      "  sentences = np.array(sentences)[idx_sort]\n"
     ]
    },
    {
     "name": "stdout",
     "output_type": "stream",
     "text": [
      "Test: epoch: 105 loss: 149.379995 | Acc: 0.663634 | mAP: 0.000000\n"
     ]
    },
    {
     "name": "stderr",
     "output_type": "stream",
     "text": [
      "/media/mobarak/data/lalith/SurgicalScene_VQA/InferSent/models.py:207: VisibleDeprecationWarning: Creating an ndarray from ragged nested sequences (which is a list-or-tuple of lists-or-tuples-or ndarrays with different lengths or shapes) is deprecated. If you meant to do this, you must specify 'dtype=object' when creating the ndarray.\n",
      "  sentences = np.array(sentences)[idx_sort]\n"
     ]
    },
    {
     "name": "stdout",
     "output_type": "stream",
     "text": [
      "Test: epoch: 105 loss: 144.242102 | Acc: 0.694808 | mAP: 0.000000\n",
      "[1.         0.72333943 0.89830508 0.87139108 0.75671853 0.34375\n",
      " 0.22981366 1.         1.         0.77235772 0.66666667 0.65853659\n",
      " 1.         0.58333333 0.82349038 0.33772652 0.87382298 0.15157895]\n",
      "Best epoch: 93 | Best acc: 0.695585\n"
     ]
    },
    {
     "name": "stderr",
     "output_type": "stream",
     "text": [
      "/media/mobarak/data/lalith/SurgicalScene_VQA/InferSent/models.py:207: VisibleDeprecationWarning: Creating an ndarray from ragged nested sequences (which is a list-or-tuple of lists-or-tuples-or ndarrays with different lengths or shapes) is deprecated. If you meant to do this, you must specify 'dtype=object' when creating the ndarray.\n",
      "  sentences = np.array(sentences)[idx_sort]\n"
     ]
    },
    {
     "name": "stdout",
     "output_type": "stream",
     "text": [
      "Test: epoch: 106 loss: 149.094588 | Acc: 0.659862 | mAP: 0.000000\n"
     ]
    },
    {
     "name": "stderr",
     "output_type": "stream",
     "text": [
      "/media/mobarak/data/lalith/SurgicalScene_VQA/InferSent/models.py:207: VisibleDeprecationWarning: Creating an ndarray from ragged nested sequences (which is a list-or-tuple of lists-or-tuples-or ndarrays with different lengths or shapes) is deprecated. If you meant to do this, you must specify 'dtype=object' when creating the ndarray.\n",
      "  sentences = np.array(sentences)[idx_sort]\n"
     ]
    },
    {
     "name": "stdout",
     "output_type": "stream",
     "text": [
      "Test: epoch: 106 loss: 143.821653 | Acc: 0.694586 | mAP: 0.000000\n",
      "[1.         0.73065204 0.89830508 0.62992126 0.75106082 0.5546875\n",
      " 0.46376812 0.92307692 1.         0.62601626 0.66666667 0.63414634\n",
      " 1.         0.09722222 0.7080292  0.4324547  0.38794727 0.81263158]\n",
      "Best epoch: 93 | Best acc: 0.695585\n"
     ]
    },
    {
     "name": "stderr",
     "output_type": "stream",
     "text": [
      "/media/mobarak/data/lalith/SurgicalScene_VQA/InferSent/models.py:207: VisibleDeprecationWarning: Creating an ndarray from ragged nested sequences (which is a list-or-tuple of lists-or-tuples-or ndarrays with different lengths or shapes) is deprecated. If you meant to do this, you must specify 'dtype=object' when creating the ndarray.\n",
      "  sentences = np.array(sentences)[idx_sort]\n"
     ]
    },
    {
     "name": "stdout",
     "output_type": "stream",
     "text": [
      "Test: epoch: 107 loss: 149.373325 | Acc: 0.662636 | mAP: 0.000000\n"
     ]
    },
    {
     "name": "stderr",
     "output_type": "stream",
     "text": [
      "/media/mobarak/data/lalith/SurgicalScene_VQA/InferSent/models.py:207: VisibleDeprecationWarning: Creating an ndarray from ragged nested sequences (which is a list-or-tuple of lists-or-tuples-or ndarrays with different lengths or shapes) is deprecated. If you meant to do this, you must specify 'dtype=object' when creating the ndarray.\n",
      "  sentences = np.array(sentences)[idx_sort]\n"
     ]
    },
    {
     "name": "stdout",
     "output_type": "stream",
     "text": [
      "Test: epoch: 107 loss: 143.791375 | Acc: 0.695252 | mAP: 0.000000\n",
      "[1.         0.83485679 0.55932203 0.17060367 0.84158416 0.4921875\n",
      " 0.41821946 0.84615385 1.         0.60162602 0.66666667 0.63414634\n",
      " 1.         0.04166667 0.75846052 0.37808896 0.62335217 0.53684211]\n",
      "Best epoch: 93 | Best acc: 0.695585\n"
     ]
    },
    {
     "name": "stderr",
     "output_type": "stream",
     "text": [
      "/media/mobarak/data/lalith/SurgicalScene_VQA/InferSent/models.py:207: VisibleDeprecationWarning: Creating an ndarray from ragged nested sequences (which is a list-or-tuple of lists-or-tuples-or ndarrays with different lengths or shapes) is deprecated. If you meant to do this, you must specify 'dtype=object' when creating the ndarray.\n",
      "  sentences = np.array(sentences)[idx_sort]\n"
     ]
    },
    {
     "name": "stdout",
     "output_type": "stream",
     "text": [
      "Test: epoch: 108 loss: 149.169049 | Acc: 0.660195 | mAP: 0.000000\n"
     ]
    },
    {
     "name": "stderr",
     "output_type": "stream",
     "text": [
      "/media/mobarak/data/lalith/SurgicalScene_VQA/InferSent/models.py:207: VisibleDeprecationWarning: Creating an ndarray from ragged nested sequences (which is a list-or-tuple of lists-or-tuples-or ndarrays with different lengths or shapes) is deprecated. If you meant to do this, you must specify 'dtype=object' when creating the ndarray.\n",
      "  sentences = np.array(sentences)[idx_sort]\n"
     ]
    },
    {
     "name": "stdout",
     "output_type": "stream",
     "text": [
      "Test: epoch: 108 loss: 143.421223 | Acc: 0.695030 | mAP: 0.000000\n",
      "[1.         0.76173065 0.89830508 0.41732283 0.79207921 0.4765625\n",
      " 0.50724638 0.84615385 1.         0.60162602 0.83333333 0.63414634\n",
      " 1.         0.06944444 0.59986729 0.62932455 0.55367232 0.46526316]\n",
      "Best epoch: 93 | Best acc: 0.695585\n"
     ]
    },
    {
     "name": "stderr",
     "output_type": "stream",
     "text": [
      "/media/mobarak/data/lalith/SurgicalScene_VQA/InferSent/models.py:207: VisibleDeprecationWarning: Creating an ndarray from ragged nested sequences (which is a list-or-tuple of lists-or-tuples-or ndarrays with different lengths or shapes) is deprecated. If you meant to do this, you must specify 'dtype=object' when creating the ndarray.\n",
      "  sentences = np.array(sentences)[idx_sort]\n"
     ]
    },
    {
     "name": "stdout",
     "output_type": "stream",
     "text": [
      "Test: epoch: 109 loss: 148.882496 | Acc: 0.666297 | mAP: 0.000000\n"
     ]
    },
    {
     "name": "stderr",
     "output_type": "stream",
     "text": [
      "/media/mobarak/data/lalith/SurgicalScene_VQA/InferSent/models.py:207: VisibleDeprecationWarning: Creating an ndarray from ragged nested sequences (which is a list-or-tuple of lists-or-tuples-or ndarrays with different lengths or shapes) is deprecated. If you meant to do this, you must specify 'dtype=object' when creating the ndarray.\n",
      "  sentences = np.array(sentences)[idx_sort]\n"
     ]
    },
    {
     "name": "stdout",
     "output_type": "stream",
     "text": [
      "Test: epoch: 109 loss: 143.722031 | Acc: 0.695252 | mAP: 0.000000\n",
      "[1.         0.74771481 0.89830508 0.47506562 0.76096181 0.390625\n",
      " 0.42857143 0.92307692 1.         0.74796748 1.         0.68292683\n",
      " 1.         0.70833333 0.84339748 0.34843493 0.84745763 0.09473684]\n",
      "Best epoch: 93 | Best acc: 0.695585\n"
     ]
    },
    {
     "name": "stderr",
     "output_type": "stream",
     "text": [
      "/media/mobarak/data/lalith/SurgicalScene_VQA/InferSent/models.py:207: VisibleDeprecationWarning: Creating an ndarray from ragged nested sequences (which is a list-or-tuple of lists-or-tuples-or ndarrays with different lengths or shapes) is deprecated. If you meant to do this, you must specify 'dtype=object' when creating the ndarray.\n",
      "  sentences = np.array(sentences)[idx_sort]\n"
     ]
    },
    {
     "name": "stdout",
     "output_type": "stream",
     "text": [
      "Test: epoch: 110 loss: 148.870874 | Acc: 0.664522 | mAP: 0.000000\n"
     ]
    },
    {
     "name": "stderr",
     "output_type": "stream",
     "text": [
      "/media/mobarak/data/lalith/SurgicalScene_VQA/InferSent/models.py:207: VisibleDeprecationWarning: Creating an ndarray from ragged nested sequences (which is a list-or-tuple of lists-or-tuples-or ndarrays with different lengths or shapes) is deprecated. If you meant to do this, you must specify 'dtype=object' when creating the ndarray.\n",
      "  sentences = np.array(sentences)[idx_sort]\n"
     ]
    },
    {
     "name": "stdout",
     "output_type": "stream",
     "text": [
      "Test: epoch: 110 loss: 143.284758 | Acc: 0.694697 | mAP: 0.000000\n",
      "[1.         0.81413772 0.45762712 0.28608924 0.68599717 0.5859375\n",
      " 0.51966874 0.92307692 1.         0.76422764 1.         0.63414634\n",
      " 1.         0.30555556 0.7544791  0.49258649 0.66854991 0.20210526]\n",
      "Best epoch: 93 | Best acc: 0.695585\n"
     ]
    },
    {
     "name": "stderr",
     "output_type": "stream",
     "text": [
      "/media/mobarak/data/lalith/SurgicalScene_VQA/InferSent/models.py:207: VisibleDeprecationWarning: Creating an ndarray from ragged nested sequences (which is a list-or-tuple of lists-or-tuples-or ndarrays with different lengths or shapes) is deprecated. If you meant to do this, you must specify 'dtype=object' when creating the ndarray.\n",
      "  sentences = np.array(sentences)[idx_sort]\n"
     ]
    },
    {
     "name": "stdout",
     "output_type": "stream",
     "text": [
      "Test: epoch: 111 loss: 148.760086 | Acc: 0.671400 | mAP: 0.000000\n"
     ]
    },
    {
     "name": "stderr",
     "output_type": "stream",
     "text": [
      "/media/mobarak/data/lalith/SurgicalScene_VQA/InferSent/models.py:207: VisibleDeprecationWarning: Creating an ndarray from ragged nested sequences (which is a list-or-tuple of lists-or-tuples-or ndarrays with different lengths or shapes) is deprecated. If you meant to do this, you must specify 'dtype=object' when creating the ndarray.\n",
      "  sentences = np.array(sentences)[idx_sort]\n"
     ]
    },
    {
     "name": "stdout",
     "output_type": "stream",
     "text": [
      "Test: epoch: 111 loss: 143.479714 | Acc: 0.695363 | mAP: 0.000000\n",
      "[1.         0.80560634 0.89830508 0.18372703 0.78359264 0.34375\n",
      " 0.57763975 0.92307692 1.         0.63414634 0.83333333 0.63414634\n",
      " 1.         0.         0.87325813 0.33607908 0.67419962 0.23157895]\n",
      "Best epoch: 93 | Best acc: 0.695585\n"
     ]
    },
    {
     "name": "stderr",
     "output_type": "stream",
     "text": [
      "/media/mobarak/data/lalith/SurgicalScene_VQA/InferSent/models.py:207: VisibleDeprecationWarning: Creating an ndarray from ragged nested sequences (which is a list-or-tuple of lists-or-tuples-or ndarrays with different lengths or shapes) is deprecated. If you meant to do this, you must specify 'dtype=object' when creating the ndarray.\n",
      "  sentences = np.array(sentences)[idx_sort]\n"
     ]
    },
    {
     "name": "stdout",
     "output_type": "stream",
     "text": [
      "Test: epoch: 112 loss: 148.918432 | Acc: 0.657200 | mAP: 0.000000\n"
     ]
    },
    {
     "name": "stderr",
     "output_type": "stream",
     "text": [
      "/media/mobarak/data/lalith/SurgicalScene_VQA/InferSent/models.py:207: VisibleDeprecationWarning: Creating an ndarray from ragged nested sequences (which is a list-or-tuple of lists-or-tuples-or ndarrays with different lengths or shapes) is deprecated. If you meant to do this, you must specify 'dtype=object' when creating the ndarray.\n",
      "  sentences = np.array(sentences)[idx_sort]\n"
     ]
    },
    {
     "name": "stdout",
     "output_type": "stream",
     "text": [
      "Test: epoch: 112 loss: 143.237520 | Acc: 0.694475 | mAP: 0.000000\n",
      "[1.         0.82327849 0.86440678 0.53805774 0.718529   0.421875\n",
      " 0.26708075 1.         1.         0.76422764 1.         0.70731707\n",
      " 1.         0.04166667 0.56270737 0.6062603  0.5047081  0.69894737]\n",
      "Best epoch: 93 | Best acc: 0.695585\n"
     ]
    },
    {
     "name": "stderr",
     "output_type": "stream",
     "text": [
      "/media/mobarak/data/lalith/SurgicalScene_VQA/InferSent/models.py:207: VisibleDeprecationWarning: Creating an ndarray from ragged nested sequences (which is a list-or-tuple of lists-or-tuples-or ndarrays with different lengths or shapes) is deprecated. If you meant to do this, you must specify 'dtype=object' when creating the ndarray.\n",
      "  sentences = np.array(sentences)[idx_sort]\n"
     ]
    },
    {
     "name": "stdout",
     "output_type": "stream",
     "text": [
      "Test: epoch: 113 loss: 148.386934 | Acc: 0.671733 | mAP: 0.000000\n"
     ]
    },
    {
     "name": "stderr",
     "output_type": "stream",
     "text": [
      "/media/mobarak/data/lalith/SurgicalScene_VQA/InferSent/models.py:207: VisibleDeprecationWarning: Creating an ndarray from ragged nested sequences (which is a list-or-tuple of lists-or-tuples-or ndarrays with different lengths or shapes) is deprecated. If you meant to do this, you must specify 'dtype=object' when creating the ndarray.\n",
      "  sentences = np.array(sentences)[idx_sort]\n"
     ]
    },
    {
     "name": "stdout",
     "output_type": "stream",
     "text": [
      "Test: epoch: 113 loss: 143.222519 | Acc: 0.693810 | mAP: 0.000000\n",
      "[1.         0.86045094 0.25423729 0.55380577 0.56294201 0.5\n",
      " 0.41614907 1.         1.         0.59349593 1.         0.63414634\n",
      " 1.         0.18055556 0.54147313 0.69686985 0.70433145 0.32210526]\n",
      "Best epoch: 93 | Best acc: 0.695585\n"
     ]
    },
    {
     "name": "stderr",
     "output_type": "stream",
     "text": [
      "/media/mobarak/data/lalith/SurgicalScene_VQA/InferSent/models.py:207: VisibleDeprecationWarning: Creating an ndarray from ragged nested sequences (which is a list-or-tuple of lists-or-tuples-or ndarrays with different lengths or shapes) is deprecated. If you meant to do this, you must specify 'dtype=object' when creating the ndarray.\n",
      "  sentences = np.array(sentences)[idx_sort]\n"
     ]
    },
    {
     "name": "stdout",
     "output_type": "stream",
     "text": [
      "Test: epoch: 114 loss: 148.642384 | Acc: 0.659751 | mAP: 0.000000\n"
     ]
    },
    {
     "name": "stderr",
     "output_type": "stream",
     "text": [
      "/media/mobarak/data/lalith/SurgicalScene_VQA/InferSent/models.py:207: VisibleDeprecationWarning: Creating an ndarray from ragged nested sequences (which is a list-or-tuple of lists-or-tuples-or ndarrays with different lengths or shapes) is deprecated. If you meant to do this, you must specify 'dtype=object' when creating the ndarray.\n",
      "  sentences = np.array(sentences)[idx_sort]\n"
     ]
    },
    {
     "name": "stdout",
     "output_type": "stream",
     "text": [
      "Test: epoch: 114 loss: 143.172745 | Acc: 0.694697 | mAP: 0.000000\n",
      "[1.         0.86654479 0.74576271 0.53543307 0.70721358 0.390625\n",
      " 0.13664596 1.         1.         0.76422764 1.         0.63414634\n",
      " 1.         0.25       0.49701393 0.68945634 0.54425612 0.65473684]\n",
      "Best epoch: 93 | Best acc: 0.695585\n"
     ]
    },
    {
     "name": "stderr",
     "output_type": "stream",
     "text": [
      "/media/mobarak/data/lalith/SurgicalScene_VQA/InferSent/models.py:207: VisibleDeprecationWarning: Creating an ndarray from ragged nested sequences (which is a list-or-tuple of lists-or-tuples-or ndarrays with different lengths or shapes) is deprecated. If you meant to do this, you must specify 'dtype=object' when creating the ndarray.\n",
      "  sentences = np.array(sentences)[idx_sort]\n"
     ]
    },
    {
     "name": "stdout",
     "output_type": "stream",
     "text": [
      "Test: epoch: 115 loss: 148.344009 | Acc: 0.669403 | mAP: 0.000000\n"
     ]
    },
    {
     "name": "stderr",
     "output_type": "stream",
     "text": [
      "/media/mobarak/data/lalith/SurgicalScene_VQA/InferSent/models.py:207: VisibleDeprecationWarning: Creating an ndarray from ragged nested sequences (which is a list-or-tuple of lists-or-tuples-or ndarrays with different lengths or shapes) is deprecated. If you meant to do this, you must specify 'dtype=object' when creating the ndarray.\n",
      "  sentences = np.array(sentences)[idx_sort]\n"
     ]
    },
    {
     "name": "stdout",
     "output_type": "stream",
     "text": [
      "Test: epoch: 115 loss: 143.187173 | Acc: 0.695363 | mAP: 0.000000\n",
      "[1.         0.76294942 0.91525424 0.74015748 0.70155587 0.5625\n",
      " 0.32091097 0.92307692 1.         0.69105691 1.         0.63414634\n",
      " 1.         0.06944444 0.4976775  0.80065898 0.32768362 0.61894737]\n",
      "Best epoch: 93 | Best acc: 0.695585\n"
     ]
    },
    {
     "name": "stderr",
     "output_type": "stream",
     "text": [
      "/media/mobarak/data/lalith/SurgicalScene_VQA/InferSent/models.py:207: VisibleDeprecationWarning: Creating an ndarray from ragged nested sequences (which is a list-or-tuple of lists-or-tuples-or ndarrays with different lengths or shapes) is deprecated. If you meant to do this, you must specify 'dtype=object' when creating the ndarray.\n",
      "  sentences = np.array(sentences)[idx_sort]\n"
     ]
    },
    {
     "name": "stdout",
     "output_type": "stream",
     "text": [
      "Test: epoch: 116 loss: 148.385211 | Acc: 0.665520 | mAP: 0.000000\n"
     ]
    },
    {
     "name": "stderr",
     "output_type": "stream",
     "text": [
      "/media/mobarak/data/lalith/SurgicalScene_VQA/InferSent/models.py:207: VisibleDeprecationWarning: Creating an ndarray from ragged nested sequences (which is a list-or-tuple of lists-or-tuples-or ndarrays with different lengths or shapes) is deprecated. If you meant to do this, you must specify 'dtype=object' when creating the ndarray.\n",
      "  sentences = np.array(sentences)[idx_sort]\n"
     ]
    },
    {
     "name": "stdout",
     "output_type": "stream",
     "text": [
      "Test: epoch: 116 loss: 143.235042 | Acc: 0.694032 | mAP: 0.000000\n",
      "[1.         0.88543571 0.52542373 0.17060367 0.65063649 0.2734375\n",
      " 0.53416149 1.         1.         0.72357724 1.         0.63414634\n",
      " 1.         0.125      0.47378898 0.69522241 0.76082863 0.45473684]\n",
      "Best epoch: 93 | Best acc: 0.695585\n"
     ]
    },
    {
     "name": "stderr",
     "output_type": "stream",
     "text": [
      "/media/mobarak/data/lalith/SurgicalScene_VQA/InferSent/models.py:207: VisibleDeprecationWarning: Creating an ndarray from ragged nested sequences (which is a list-or-tuple of lists-or-tuples-or ndarrays with different lengths or shapes) is deprecated. If you meant to do this, you must specify 'dtype=object' when creating the ndarray.\n",
      "  sentences = np.array(sentences)[idx_sort]\n"
     ]
    },
    {
     "name": "stdout",
     "output_type": "stream",
     "text": [
      "Test: epoch: 117 loss: 148.111899 | Acc: 0.671178 | mAP: 0.000000\n"
     ]
    },
    {
     "name": "stderr",
     "output_type": "stream",
     "text": [
      "/media/mobarak/data/lalith/SurgicalScene_VQA/InferSent/models.py:207: VisibleDeprecationWarning: Creating an ndarray from ragged nested sequences (which is a list-or-tuple of lists-or-tuples-or ndarrays with different lengths or shapes) is deprecated. If you meant to do this, you must specify 'dtype=object' when creating the ndarray.\n",
      "  sentences = np.array(sentences)[idx_sort]\n"
     ]
    },
    {
     "name": "stdout",
     "output_type": "stream",
     "text": [
      "Test: epoch: 117 loss: 143.273703 | Acc: 0.696028 | mAP: 0.000000\n",
      "[1.         0.77818403 0.52542373 0.27821522 0.69731259 0.3125\n",
      " 0.68530021 1.         1.         0.58536585 0.66666667 0.63414634\n",
      " 1.         0.77777778 0.53881885 0.69522241 0.81355932 0.21894737]\n",
      "Best epoch: 117 | Best acc: 0.696028\n"
     ]
    },
    {
     "name": "stderr",
     "output_type": "stream",
     "text": [
      "/media/mobarak/data/lalith/SurgicalScene_VQA/InferSent/models.py:207: VisibleDeprecationWarning: Creating an ndarray from ragged nested sequences (which is a list-or-tuple of lists-or-tuples-or ndarrays with different lengths or shapes) is deprecated. If you meant to do this, you must specify 'dtype=object' when creating the ndarray.\n",
      "  sentences = np.array(sentences)[idx_sort]\n"
     ]
    },
    {
     "name": "stdout",
     "output_type": "stream",
     "text": [
      "Test: epoch: 118 loss: 147.604835 | Acc: 0.671289 | mAP: 0.000000\n"
     ]
    },
    {
     "name": "stderr",
     "output_type": "stream",
     "text": [
      "/media/mobarak/data/lalith/SurgicalScene_VQA/InferSent/models.py:207: VisibleDeprecationWarning: Creating an ndarray from ragged nested sequences (which is a list-or-tuple of lists-or-tuples-or ndarrays with different lengths or shapes) is deprecated. If you meant to do this, you must specify 'dtype=object' when creating the ndarray.\n",
      "  sentences = np.array(sentences)[idx_sort]\n"
     ]
    },
    {
     "name": "stdout",
     "output_type": "stream",
     "text": [
      "Test: epoch: 118 loss: 143.309984 | Acc: 0.695474 | mAP: 0.000000\n",
      "[1.         0.82449726 0.38983051 0.02099738 0.85007072 0.2890625\n",
      " 0.53830228 1.         1.         0.60162602 0.66666667 0.63414634\n",
      " 1.         0.66666667 0.77239549 0.36490939 0.44821092 0.72421053]\n",
      "Best epoch: 117 | Best acc: 0.696028\n"
     ]
    },
    {
     "name": "stderr",
     "output_type": "stream",
     "text": [
      "/media/mobarak/data/lalith/SurgicalScene_VQA/InferSent/models.py:207: VisibleDeprecationWarning: Creating an ndarray from ragged nested sequences (which is a list-or-tuple of lists-or-tuples-or ndarrays with different lengths or shapes) is deprecated. If you meant to do this, you must specify 'dtype=object' when creating the ndarray.\n",
      "  sentences = np.array(sentences)[idx_sort]\n"
     ]
    },
    {
     "name": "stdout",
     "output_type": "stream",
     "text": [
      "Test: epoch: 119 loss: 148.323574 | Acc: 0.673064 | mAP: 0.000000\n"
     ]
    },
    {
     "name": "stderr",
     "output_type": "stream",
     "text": [
      "/media/mobarak/data/lalith/SurgicalScene_VQA/InferSent/models.py:207: VisibleDeprecationWarning: Creating an ndarray from ragged nested sequences (which is a list-or-tuple of lists-or-tuples-or ndarrays with different lengths or shapes) is deprecated. If you meant to do this, you must specify 'dtype=object' when creating the ndarray.\n",
      "  sentences = np.array(sentences)[idx_sort]\n"
     ]
    },
    {
     "name": "stdout",
     "output_type": "stream",
     "text": [
      "Test: epoch: 119 loss: 142.953134 | Acc: 0.694919 | mAP: 0.000000\n",
      "[1.         0.74954296 0.91525424 0.21259843 0.7708628  0.2734375\n",
      " 0.73706004 1.         1.         0.76422764 0.83333333 0.63414634\n",
      " 1.         0.11111111 0.64432648 0.59060956 0.51977401 0.46315789]\n",
      "Best epoch: 117 | Best acc: 0.696028\n"
     ]
    },
    {
     "name": "stderr",
     "output_type": "stream",
     "text": [
      "/media/mobarak/data/lalith/SurgicalScene_VQA/InferSent/models.py:207: VisibleDeprecationWarning: Creating an ndarray from ragged nested sequences (which is a list-or-tuple of lists-or-tuples-or ndarrays with different lengths or shapes) is deprecated. If you meant to do this, you must specify 'dtype=object' when creating the ndarray.\n",
      "  sentences = np.array(sentences)[idx_sort]\n"
     ]
    },
    {
     "name": "stdout",
     "output_type": "stream",
     "text": [
      "Test: epoch: 120 loss: 147.598831 | Acc: 0.672066 | mAP: 0.000000\n"
     ]
    },
    {
     "name": "stderr",
     "output_type": "stream",
     "text": [
      "/media/mobarak/data/lalith/SurgicalScene_VQA/InferSent/models.py:207: VisibleDeprecationWarning: Creating an ndarray from ragged nested sequences (which is a list-or-tuple of lists-or-tuples-or ndarrays with different lengths or shapes) is deprecated. If you meant to do this, you must specify 'dtype=object' when creating the ndarray.\n",
      "  sentences = np.array(sentences)[idx_sort]\n"
     ]
    },
    {
     "name": "stdout",
     "output_type": "stream",
     "text": [
      "Test: epoch: 120 loss: 143.027950 | Acc: 0.695363 | mAP: 0.000000\n",
      "[1.         0.78915296 0.79661017 0.16272966 0.64214993 0.3046875\n",
      " 0.77225673 1.         1.         0.61788618 1.         0.65853659\n",
      " 1.         0.77777778 0.57266092 0.67462932 0.25047081 0.78315789]\n",
      "Best epoch: 117 | Best acc: 0.696028\n"
     ]
    },
    {
     "name": "stderr",
     "output_type": "stream",
     "text": [
      "/media/mobarak/data/lalith/SurgicalScene_VQA/InferSent/models.py:207: VisibleDeprecationWarning: Creating an ndarray from ragged nested sequences (which is a list-or-tuple of lists-or-tuples-or ndarrays with different lengths or shapes) is deprecated. If you meant to do this, you must specify 'dtype=object' when creating the ndarray.\n",
      "  sentences = np.array(sentences)[idx_sort]\n"
     ]
    },
    {
     "name": "stdout",
     "output_type": "stream",
     "text": [
      "Test: epoch: 121 loss: 147.825501 | Acc: 0.669070 | mAP: 0.000000\n"
     ]
    },
    {
     "name": "stderr",
     "output_type": "stream",
     "text": [
      "/media/mobarak/data/lalith/SurgicalScene_VQA/InferSent/models.py:207: VisibleDeprecationWarning: Creating an ndarray from ragged nested sequences (which is a list-or-tuple of lists-or-tuples-or ndarrays with different lengths or shapes) is deprecated. If you meant to do this, you must specify 'dtype=object' when creating the ndarray.\n",
      "  sentences = np.array(sentences)[idx_sort]\n"
     ]
    },
    {
     "name": "stdout",
     "output_type": "stream",
     "text": [
      "Test: epoch: 121 loss: 142.674648 | Acc: 0.694697 | mAP: 0.000000\n",
      "[1.         0.75380865 0.88135593 0.76377953 0.82743989 0.296875\n",
      " 0.1552795  1.         1.         0.59349593 0.66666667 0.63414634\n",
      " 1.         0.70833333 0.70006636 0.44233937 0.56497175 0.61473684]\n",
      "Best epoch: 117 | Best acc: 0.696028\n"
     ]
    },
    {
     "name": "stderr",
     "output_type": "stream",
     "text": [
      "/media/mobarak/data/lalith/SurgicalScene_VQA/InferSent/models.py:207: VisibleDeprecationWarning: Creating an ndarray from ragged nested sequences (which is a list-or-tuple of lists-or-tuples-or ndarrays with different lengths or shapes) is deprecated. If you meant to do this, you must specify 'dtype=object' when creating the ndarray.\n",
      "  sentences = np.array(sentences)[idx_sort]\n"
     ]
    },
    {
     "name": "stdout",
     "output_type": "stream",
     "text": [
      "Test: epoch: 122 loss: 147.597610 | Acc: 0.661305 | mAP: 0.000000\n"
     ]
    },
    {
     "name": "stderr",
     "output_type": "stream",
     "text": [
      "/media/mobarak/data/lalith/SurgicalScene_VQA/InferSent/models.py:207: VisibleDeprecationWarning: Creating an ndarray from ragged nested sequences (which is a list-or-tuple of lists-or-tuples-or ndarrays with different lengths or shapes) is deprecated. If you meant to do this, you must specify 'dtype=object' when creating the ndarray.\n",
      "  sentences = np.array(sentences)[idx_sort]\n"
     ]
    },
    {
     "name": "stdout",
     "output_type": "stream",
     "text": [
      "Test: epoch: 122 loss: 142.586775 | Acc: 0.695696 | mAP: 0.000000\n",
      "[1.         0.82754418 0.84745763 0.64041995 0.72560113 0.6640625\n",
      " 0.14906832 1.         1.         0.62601626 0.83333333 0.70731707\n",
      " 1.         0.01388889 0.78964831 0.41103789 0.72881356 0.24210526]\n",
      "Best epoch: 117 | Best acc: 0.696028\n"
     ]
    },
    {
     "name": "stderr",
     "output_type": "stream",
     "text": [
      "/media/mobarak/data/lalith/SurgicalScene_VQA/InferSent/models.py:207: VisibleDeprecationWarning: Creating an ndarray from ragged nested sequences (which is a list-or-tuple of lists-or-tuples-or ndarrays with different lengths or shapes) is deprecated. If you meant to do this, you must specify 'dtype=object' when creating the ndarray.\n",
      "  sentences = np.array(sentences)[idx_sort]\n"
     ]
    },
    {
     "name": "stdout",
     "output_type": "stream",
     "text": [
      "Test: epoch: 123 loss: 147.648335 | Acc: 0.664966 | mAP: 0.000000\n"
     ]
    },
    {
     "name": "stderr",
     "output_type": "stream",
     "text": [
      "/media/mobarak/data/lalith/SurgicalScene_VQA/InferSent/models.py:207: VisibleDeprecationWarning: Creating an ndarray from ragged nested sequences (which is a list-or-tuple of lists-or-tuples-or ndarrays with different lengths or shapes) is deprecated. If you meant to do this, you must specify 'dtype=object' when creating the ndarray.\n",
      "  sentences = np.array(sentences)[idx_sort]\n"
     ]
    },
    {
     "name": "stdout",
     "output_type": "stream",
     "text": [
      "Test: epoch: 123 loss: 142.667460 | Acc: 0.694364 | mAP: 0.000000\n",
      "[1.         0.89457648 0.50847458 0.65879265 0.70438472 0.296875\n",
      " 0.09109731 0.92307692 1.         0.58536585 1.         0.65853659\n",
      " 1.         0.         0.7876576  0.46540362 0.19774011 0.68      ]\n",
      "Best epoch: 117 | Best acc: 0.696028\n"
     ]
    },
    {
     "name": "stderr",
     "output_type": "stream",
     "text": [
      "/media/mobarak/data/lalith/SurgicalScene_VQA/InferSent/models.py:207: VisibleDeprecationWarning: Creating an ndarray from ragged nested sequences (which is a list-or-tuple of lists-or-tuples-or ndarrays with different lengths or shapes) is deprecated. If you meant to do this, you must specify 'dtype=object' when creating the ndarray.\n",
      "  sentences = np.array(sentences)[idx_sort]\n"
     ]
    },
    {
     "name": "stdout",
     "output_type": "stream",
     "text": [
      "Test: epoch: 124 loss: 147.681547 | Acc: 0.672066 | mAP: 0.000000\n"
     ]
    },
    {
     "name": "stderr",
     "output_type": "stream",
     "text": [
      "/media/mobarak/data/lalith/SurgicalScene_VQA/InferSent/models.py:207: VisibleDeprecationWarning: Creating an ndarray from ragged nested sequences (which is a list-or-tuple of lists-or-tuples-or ndarrays with different lengths or shapes) is deprecated. If you meant to do this, you must specify 'dtype=object' when creating the ndarray.\n",
      "  sentences = np.array(sentences)[idx_sort]\n"
     ]
    },
    {
     "name": "stdout",
     "output_type": "stream",
     "text": [
      "Test: epoch: 124 loss: 142.598376 | Acc: 0.693810 | mAP: 0.000000\n",
      "[1.         0.87446679 0.77966102 0.7191601  0.5417256  0.3515625\n",
      " 0.2194617  1.         1.         0.73170732 1.         0.63414634\n",
      " 1.         0.06944444 0.71333776 0.5461285  0.34651601 0.56842105]\n",
      "Best epoch: 117 | Best acc: 0.696028\n"
     ]
    },
    {
     "name": "stderr",
     "output_type": "stream",
     "text": [
      "/media/mobarak/data/lalith/SurgicalScene_VQA/InferSent/models.py:207: VisibleDeprecationWarning: Creating an ndarray from ragged nested sequences (which is a list-or-tuple of lists-or-tuples-or ndarrays with different lengths or shapes) is deprecated. If you meant to do this, you must specify 'dtype=object' when creating the ndarray.\n",
      "  sentences = np.array(sentences)[idx_sort]\n"
     ]
    },
    {
     "name": "stdout",
     "output_type": "stream",
     "text": [
      "Test: epoch: 125 loss: 147.593479 | Acc: 0.663856 | mAP: 0.000000\n"
     ]
    },
    {
     "name": "stderr",
     "output_type": "stream",
     "text": [
      "/media/mobarak/data/lalith/SurgicalScene_VQA/InferSent/models.py:207: VisibleDeprecationWarning: Creating an ndarray from ragged nested sequences (which is a list-or-tuple of lists-or-tuples-or ndarrays with different lengths or shapes) is deprecated. If you meant to do this, you must specify 'dtype=object' when creating the ndarray.\n",
      "  sentences = np.array(sentences)[idx_sort]\n"
     ]
    },
    {
     "name": "stdout",
     "output_type": "stream",
     "text": [
      "Test: epoch: 125 loss: 142.870079 | Acc: 0.694142 | mAP: 0.000000\n",
      "[1.         0.87324802 0.88135593 0.0839895  0.57708628 0.390625\n",
      " 0.63146998 0.92307692 1.         0.61788618 1.         0.63414634\n",
      " 1.         0.48611111 0.65029861 0.49258649 0.87758945 0.30526316]\n",
      "Best epoch: 117 | Best acc: 0.696028\n"
     ]
    },
    {
     "name": "stderr",
     "output_type": "stream",
     "text": [
      "/media/mobarak/data/lalith/SurgicalScene_VQA/InferSent/models.py:207: VisibleDeprecationWarning: Creating an ndarray from ragged nested sequences (which is a list-or-tuple of lists-or-tuples-or ndarrays with different lengths or shapes) is deprecated. If you meant to do this, you must specify 'dtype=object' when creating the ndarray.\n",
      "  sentences = np.array(sentences)[idx_sort]\n"
     ]
    },
    {
     "name": "stdout",
     "output_type": "stream",
     "text": [
      "Test: epoch: 126 loss: 147.151839 | Acc: 0.665077 | mAP: 0.000000\n"
     ]
    },
    {
     "name": "stderr",
     "output_type": "stream",
     "text": [
      "/media/mobarak/data/lalith/SurgicalScene_VQA/InferSent/models.py:207: VisibleDeprecationWarning: Creating an ndarray from ragged nested sequences (which is a list-or-tuple of lists-or-tuples-or ndarrays with different lengths or shapes) is deprecated. If you meant to do this, you must specify 'dtype=object' when creating the ndarray.\n",
      "  sentences = np.array(sentences)[idx_sort]\n"
     ]
    },
    {
     "name": "stdout",
     "output_type": "stream",
     "text": [
      "Test: epoch: 126 loss: 142.577022 | Acc: 0.693810 | mAP: 0.000000\n",
      "[1.         0.87141987 0.59322034 0.3648294  0.57850071 0.296875\n",
      " 0.54037267 0.92307692 1.         0.62601626 1.         0.63414634\n",
      " 1.         0.06944444 0.46715328 0.68286656 0.66101695 0.62947368]\n",
      "Best epoch: 117 | Best acc: 0.696028\n"
     ]
    },
    {
     "name": "stderr",
     "output_type": "stream",
     "text": [
      "/media/mobarak/data/lalith/SurgicalScene_VQA/InferSent/models.py:207: VisibleDeprecationWarning: Creating an ndarray from ragged nested sequences (which is a list-or-tuple of lists-or-tuples-or ndarrays with different lengths or shapes) is deprecated. If you meant to do this, you must specify 'dtype=object' when creating the ndarray.\n",
      "  sentences = np.array(sentences)[idx_sort]\n"
     ]
    },
    {
     "name": "stdout",
     "output_type": "stream",
     "text": [
      "Test: epoch: 127 loss: 147.228137 | Acc: 0.667406 | mAP: 0.000000\n"
     ]
    },
    {
     "name": "stderr",
     "output_type": "stream",
     "text": [
      "/media/mobarak/data/lalith/SurgicalScene_VQA/InferSent/models.py:207: VisibleDeprecationWarning: Creating an ndarray from ragged nested sequences (which is a list-or-tuple of lists-or-tuples-or ndarrays with different lengths or shapes) is deprecated. If you meant to do this, you must specify 'dtype=object' when creating the ndarray.\n",
      "  sentences = np.array(sentences)[idx_sort]\n"
     ]
    },
    {
     "name": "stdout",
     "output_type": "stream",
     "text": [
      "Test: epoch: 127 loss: 142.393535 | Acc: 0.694364 | mAP: 0.000000\n",
      "[1.         0.86288848 0.84745763 0.66666667 0.56152758 0.4375\n",
      " 0.29192547 0.92307692 1.         0.61788618 1.         0.63414634\n",
      " 1.         0.04166667 0.68679496 0.52059308 0.54425612 0.49052632]\n",
      "Best epoch: 117 | Best acc: 0.696028\n"
     ]
    },
    {
     "name": "stderr",
     "output_type": "stream",
     "text": [
      "/media/mobarak/data/lalith/SurgicalScene_VQA/InferSent/models.py:207: VisibleDeprecationWarning: Creating an ndarray from ragged nested sequences (which is a list-or-tuple of lists-or-tuples-or ndarrays with different lengths or shapes) is deprecated. If you meant to do this, you must specify 'dtype=object' when creating the ndarray.\n",
      "  sentences = np.array(sentences)[idx_sort]\n"
     ]
    },
    {
     "name": "stdout",
     "output_type": "stream",
     "text": [
      "Test: epoch: 128 loss: 147.076150 | Acc: 0.664744 | mAP: 0.000000\n"
     ]
    },
    {
     "name": "stderr",
     "output_type": "stream",
     "text": [
      "/media/mobarak/data/lalith/SurgicalScene_VQA/InferSent/models.py:207: VisibleDeprecationWarning: Creating an ndarray from ragged nested sequences (which is a list-or-tuple of lists-or-tuples-or ndarrays with different lengths or shapes) is deprecated. If you meant to do this, you must specify 'dtype=object' when creating the ndarray.\n",
      "  sentences = np.array(sentences)[idx_sort]\n"
     ]
    },
    {
     "name": "stdout",
     "output_type": "stream",
     "text": [
      "Test: epoch: 128 loss: 142.414470 | Acc: 0.695363 | mAP: 0.000000\n",
      "[1.         0.81718464 0.83050847 0.38582677 0.73125884 0.484375\n",
      " 0.37267081 1.         1.         0.75609756 1.         0.63414634\n",
      " 1.         0.13888889 0.71599204 0.52635914 0.70809793 0.20421053]\n",
      "Best epoch: 117 | Best acc: 0.696028\n"
     ]
    },
    {
     "name": "stderr",
     "output_type": "stream",
     "text": [
      "/media/mobarak/data/lalith/SurgicalScene_VQA/InferSent/models.py:207: VisibleDeprecationWarning: Creating an ndarray from ragged nested sequences (which is a list-or-tuple of lists-or-tuples-or ndarrays with different lengths or shapes) is deprecated. If you meant to do this, you must specify 'dtype=object' when creating the ndarray.\n",
      "  sentences = np.array(sentences)[idx_sort]\n"
     ]
    },
    {
     "name": "stdout",
     "output_type": "stream",
     "text": [
      "Test: epoch: 129 loss: 146.654494 | Acc: 0.670402 | mAP: 0.000000\n"
     ]
    },
    {
     "name": "stderr",
     "output_type": "stream",
     "text": [
      "/media/mobarak/data/lalith/SurgicalScene_VQA/InferSent/models.py:207: VisibleDeprecationWarning: Creating an ndarray from ragged nested sequences (which is a list-or-tuple of lists-or-tuples-or ndarrays with different lengths or shapes) is deprecated. If you meant to do this, you must specify 'dtype=object' when creating the ndarray.\n",
      "  sentences = np.array(sentences)[idx_sort]\n"
     ]
    },
    {
     "name": "stdout",
     "output_type": "stream",
     "text": [
      "Test: epoch: 129 loss: 142.541543 | Acc: 0.694919 | mAP: 0.000000\n",
      "[1.         0.76477757 0.91525424 0.40944882 0.57001414 0.5546875\n",
      " 0.67908903 1.         1.         0.72357724 1.         0.70731707\n",
      " 1.         0.47222222 0.61911082 0.53624382 0.85122411 0.33052632]\n",
      "Best epoch: 117 | Best acc: 0.696028\n"
     ]
    },
    {
     "name": "stderr",
     "output_type": "stream",
     "text": [
      "/media/mobarak/data/lalith/SurgicalScene_VQA/InferSent/models.py:207: VisibleDeprecationWarning: Creating an ndarray from ragged nested sequences (which is a list-or-tuple of lists-or-tuples-or ndarrays with different lengths or shapes) is deprecated. If you meant to do this, you must specify 'dtype=object' when creating the ndarray.\n",
      "  sentences = np.array(sentences)[idx_sort]\n"
     ]
    },
    {
     "name": "stdout",
     "output_type": "stream",
     "text": [
      "Test: epoch: 130 loss: 146.785986 | Acc: 0.672509 | mAP: 0.000000\n"
     ]
    },
    {
     "name": "stderr",
     "output_type": "stream",
     "text": [
      "/media/mobarak/data/lalith/SurgicalScene_VQA/InferSent/models.py:207: VisibleDeprecationWarning: Creating an ndarray from ragged nested sequences (which is a list-or-tuple of lists-or-tuples-or ndarrays with different lengths or shapes) is deprecated. If you meant to do this, you must specify 'dtype=object' when creating the ndarray.\n",
      "  sentences = np.array(sentences)[idx_sort]\n"
     ]
    },
    {
     "name": "stdout",
     "output_type": "stream",
     "text": [
      "Test: epoch: 130 loss: 142.430280 | Acc: 0.693921 | mAP: 0.000000\n",
      "[1.         0.85740402 0.44067797 0.91076115 0.63224894 0.328125\n",
      " 0.05175983 1.         1.         0.68292683 0.5        0.63414634\n",
      " 1.         0.18055556 0.51493033 0.78500824 0.53672316 0.36842105]\n",
      "Best epoch: 117 | Best acc: 0.696028\n"
     ]
    },
    {
     "name": "stderr",
     "output_type": "stream",
     "text": [
      "/media/mobarak/data/lalith/SurgicalScene_VQA/InferSent/models.py:207: VisibleDeprecationWarning: Creating an ndarray from ragged nested sequences (which is a list-or-tuple of lists-or-tuples-or ndarrays with different lengths or shapes) is deprecated. If you meant to do this, you must specify 'dtype=object' when creating the ndarray.\n",
      "  sentences = np.array(sentences)[idx_sort]\n"
     ]
    },
    {
     "name": "stdout",
     "output_type": "stream",
     "text": [
      "Test: epoch: 131 loss: 146.753806 | Acc: 0.674063 | mAP: 0.000000\n"
     ]
    },
    {
     "name": "stderr",
     "output_type": "stream",
     "text": [
      "/media/mobarak/data/lalith/SurgicalScene_VQA/InferSent/models.py:207: VisibleDeprecationWarning: Creating an ndarray from ragged nested sequences (which is a list-or-tuple of lists-or-tuples-or ndarrays with different lengths or shapes) is deprecated. If you meant to do this, you must specify 'dtype=object' when creating the ndarray.\n",
      "  sentences = np.array(sentences)[idx_sort]\n"
     ]
    },
    {
     "name": "stdout",
     "output_type": "stream",
     "text": [
      "Test: epoch: 131 loss: 142.381730 | Acc: 0.695252 | mAP: 0.000000\n",
      "[1.         0.84277879 0.89830508 0.66141732 0.70014144 0.609375\n",
      " 0.06418219 1.         1.         0.7398374  0.66666667 0.63414634\n",
      " 1.         0.29166667 0.66290644 0.60214168 0.28060264 0.64842105]\n",
      "Best epoch: 117 | Best acc: 0.696028\n"
     ]
    },
    {
     "name": "stderr",
     "output_type": "stream",
     "text": [
      "/media/mobarak/data/lalith/SurgicalScene_VQA/InferSent/models.py:207: VisibleDeprecationWarning: Creating an ndarray from ragged nested sequences (which is a list-or-tuple of lists-or-tuples-or ndarrays with different lengths or shapes) is deprecated. If you meant to do this, you must specify 'dtype=object' when creating the ndarray.\n",
      "  sentences = np.array(sentences)[idx_sort]\n"
     ]
    },
    {
     "name": "stdout",
     "output_type": "stream",
     "text": [
      "Test: epoch: 132 loss: 147.259025 | Acc: 0.663412 | mAP: 0.000000\n"
     ]
    },
    {
     "name": "stderr",
     "output_type": "stream",
     "text": [
      "/media/mobarak/data/lalith/SurgicalScene_VQA/InferSent/models.py:207: VisibleDeprecationWarning: Creating an ndarray from ragged nested sequences (which is a list-or-tuple of lists-or-tuples-or ndarrays with different lengths or shapes) is deprecated. If you meant to do this, you must specify 'dtype=object' when creating the ndarray.\n",
      "  sentences = np.array(sentences)[idx_sort]\n"
     ]
    },
    {
     "name": "stdout",
     "output_type": "stream",
     "text": [
      "Test: epoch: 132 loss: 142.109674 | Acc: 0.694697 | mAP: 0.000000\n",
      "[1.         0.83485679 0.66101695 0.27296588 0.58132956 0.7109375\n",
      " 0.60455487 1.         1.         0.66666667 1.         0.63414634\n",
      " 1.         0.05555556 0.57398806 0.60214168 0.71563089 0.45263158]\n",
      "Best epoch: 117 | Best acc: 0.696028\n"
     ]
    },
    {
     "name": "stderr",
     "output_type": "stream",
     "text": [
      "/media/mobarak/data/lalith/SurgicalScene_VQA/InferSent/models.py:207: VisibleDeprecationWarning: Creating an ndarray from ragged nested sequences (which is a list-or-tuple of lists-or-tuples-or ndarrays with different lengths or shapes) is deprecated. If you meant to do this, you must specify 'dtype=object' when creating the ndarray.\n",
      "  sentences = np.array(sentences)[idx_sort]\n"
     ]
    },
    {
     "name": "stdout",
     "output_type": "stream",
     "text": [
      "Test: epoch: 133 loss: 146.693737 | Acc: 0.674063 | mAP: 0.000000\n"
     ]
    },
    {
     "name": "stderr",
     "output_type": "stream",
     "text": [
      "/media/mobarak/data/lalith/SurgicalScene_VQA/InferSent/models.py:207: VisibleDeprecationWarning: Creating an ndarray from ragged nested sequences (which is a list-or-tuple of lists-or-tuples-or ndarrays with different lengths or shapes) is deprecated. If you meant to do this, you must specify 'dtype=object' when creating the ndarray.\n",
      "  sentences = np.array(sentences)[idx_sort]\n"
     ]
    },
    {
     "name": "stdout",
     "output_type": "stream",
     "text": [
      "Test: epoch: 133 loss: 142.382222 | Acc: 0.695252 | mAP: 0.000000\n",
      "[1.         0.87507617 0.81355932 0.09186352 0.66053748 0.234375\n",
      " 0.60041408 1.         1.         0.78861789 1.         0.63414634\n",
      " 1.         0.         0.46051758 0.72981878 0.46892655 0.75157895]\n",
      "Best epoch: 117 | Best acc: 0.696028\n"
     ]
    },
    {
     "name": "stderr",
     "output_type": "stream",
     "text": [
      "/media/mobarak/data/lalith/SurgicalScene_VQA/InferSent/models.py:207: VisibleDeprecationWarning: Creating an ndarray from ragged nested sequences (which is a list-or-tuple of lists-or-tuples-or ndarrays with different lengths or shapes) is deprecated. If you meant to do this, you must specify 'dtype=object' when creating the ndarray.\n",
      "  sentences = np.array(sentences)[idx_sort]\n"
     ]
    },
    {
     "name": "stdout",
     "output_type": "stream",
     "text": [
      "Test: epoch: 134 loss: 146.716872 | Acc: 0.664522 | mAP: 0.000000\n"
     ]
    },
    {
     "name": "stderr",
     "output_type": "stream",
     "text": [
      "/media/mobarak/data/lalith/SurgicalScene_VQA/InferSent/models.py:207: VisibleDeprecationWarning: Creating an ndarray from ragged nested sequences (which is a list-or-tuple of lists-or-tuples-or ndarrays with different lengths or shapes) is deprecated. If you meant to do this, you must specify 'dtype=object' when creating the ndarray.\n",
      "  sentences = np.array(sentences)[idx_sort]\n"
     ]
    },
    {
     "name": "stdout",
     "output_type": "stream",
     "text": [
      "Test: epoch: 134 loss: 142.087096 | Acc: 0.695917 | mAP: 0.000000\n",
      "[1.         0.80134065 0.76271186 0.10761155 0.69306931 0.640625\n",
      " 0.70600414 1.         1.         0.73170732 0.66666667 0.63414634\n",
      " 1.         0.04166667 0.74253484 0.51729819 0.69679849 0.15368421]\n",
      "Best epoch: 117 | Best acc: 0.696028\n"
     ]
    },
    {
     "name": "stderr",
     "output_type": "stream",
     "text": [
      "/media/mobarak/data/lalith/SurgicalScene_VQA/InferSent/models.py:207: VisibleDeprecationWarning: Creating an ndarray from ragged nested sequences (which is a list-or-tuple of lists-or-tuples-or ndarrays with different lengths or shapes) is deprecated. If you meant to do this, you must specify 'dtype=object' when creating the ndarray.\n",
      "  sentences = np.array(sentences)[idx_sort]\n"
     ]
    },
    {
     "name": "stdout",
     "output_type": "stream",
     "text": [
      "Test: epoch: 135 loss: 146.566373 | Acc: 0.669181 | mAP: 0.000000\n"
     ]
    },
    {
     "name": "stderr",
     "output_type": "stream",
     "text": [
      "/media/mobarak/data/lalith/SurgicalScene_VQA/InferSent/models.py:207: VisibleDeprecationWarning: Creating an ndarray from ragged nested sequences (which is a list-or-tuple of lists-or-tuples-or ndarrays with different lengths or shapes) is deprecated. If you meant to do this, you must specify 'dtype=object' when creating the ndarray.\n",
      "  sentences = np.array(sentences)[idx_sort]\n"
     ]
    },
    {
     "name": "stdout",
     "output_type": "stream",
     "text": [
      "Test: epoch: 135 loss: 141.786593 | Acc: 0.695363 | mAP: 0.000000\n",
      "[1.         0.78184034 0.6440678  0.29396325 0.70579915 0.625\n",
      " 0.65424431 1.         1.         0.57723577 1.         0.63414634\n",
      " 1.         0.02777778 0.63901792 0.62438221 0.39548023 0.54315789]\n",
      "Best epoch: 117 | Best acc: 0.696028\n"
     ]
    },
    {
     "name": "stderr",
     "output_type": "stream",
     "text": [
      "/media/mobarak/data/lalith/SurgicalScene_VQA/InferSent/models.py:207: VisibleDeprecationWarning: Creating an ndarray from ragged nested sequences (which is a list-or-tuple of lists-or-tuples-or ndarrays with different lengths or shapes) is deprecated. If you meant to do this, you must specify 'dtype=object' when creating the ndarray.\n",
      "  sentences = np.array(sentences)[idx_sort]\n"
     ]
    },
    {
     "name": "stdout",
     "output_type": "stream",
     "text": [
      "Test: epoch: 136 loss: 146.838700 | Acc: 0.668959 | mAP: 0.000000\n"
     ]
    },
    {
     "name": "stderr",
     "output_type": "stream",
     "text": [
      "/media/mobarak/data/lalith/SurgicalScene_VQA/InferSent/models.py:207: VisibleDeprecationWarning: Creating an ndarray from ragged nested sequences (which is a list-or-tuple of lists-or-tuples-or ndarrays with different lengths or shapes) is deprecated. If you meant to do this, you must specify 'dtype=object' when creating the ndarray.\n",
      "  sentences = np.array(sentences)[idx_sort]\n"
     ]
    },
    {
     "name": "stdout",
     "output_type": "stream",
     "text": [
      "Test: epoch: 136 loss: 142.010462 | Acc: 0.693810 | mAP: 0.000000\n",
      "[1.         0.8622791  0.83050847 0.62467192 0.60678925 0.7265625\n",
      " 0.17184265 0.92307692 1.         0.62601626 1.         0.63414634\n",
      " 1.         0.         0.7810219  0.52224053 0.48022599 0.26736842]\n",
      "Best epoch: 117 | Best acc: 0.696028\n"
     ]
    },
    {
     "name": "stderr",
     "output_type": "stream",
     "text": [
      "/media/mobarak/data/lalith/SurgicalScene_VQA/InferSent/models.py:207: VisibleDeprecationWarning: Creating an ndarray from ragged nested sequences (which is a list-or-tuple of lists-or-tuples-or ndarrays with different lengths or shapes) is deprecated. If you meant to do this, you must specify 'dtype=object' when creating the ndarray.\n",
      "  sentences = np.array(sentences)[idx_sort]\n"
     ]
    },
    {
     "name": "stdout",
     "output_type": "stream",
     "text": [
      "Test: epoch: 137 loss: 146.311729 | Acc: 0.667073 | mAP: 0.000000\n"
     ]
    },
    {
     "name": "stderr",
     "output_type": "stream",
     "text": [
      "/media/mobarak/data/lalith/SurgicalScene_VQA/InferSent/models.py:207: VisibleDeprecationWarning: Creating an ndarray from ragged nested sequences (which is a list-or-tuple of lists-or-tuples-or ndarrays with different lengths or shapes) is deprecated. If you meant to do this, you must specify 'dtype=object' when creating the ndarray.\n",
      "  sentences = np.array(sentences)[idx_sort]\n"
     ]
    },
    {
     "name": "stdout",
     "output_type": "stream",
     "text": [
      "Test: epoch: 137 loss: 141.790786 | Acc: 0.696250 | mAP: 0.000000\n",
      "[1.         0.85679464 0.6440678  0.41469816 0.71570014 0.375\n",
      " 0.32919255 0.92307692 1.         0.73170732 0.83333333 0.63414634\n",
      " 1.         0.01388889 0.70670206 0.59719934 0.40301318 0.4       ]\n",
      "Best epoch: 137 | Best acc: 0.696250\n"
     ]
    },
    {
     "name": "stderr",
     "output_type": "stream",
     "text": [
      "/media/mobarak/data/lalith/SurgicalScene_VQA/InferSent/models.py:207: VisibleDeprecationWarning: Creating an ndarray from ragged nested sequences (which is a list-or-tuple of lists-or-tuples-or ndarrays with different lengths or shapes) is deprecated. If you meant to do this, you must specify 'dtype=object' when creating the ndarray.\n",
      "  sentences = np.array(sentences)[idx_sort]\n"
     ]
    },
    {
     "name": "stdout",
     "output_type": "stream",
     "text": [
      "Test: epoch: 138 loss: 146.755494 | Acc: 0.664633 | mAP: 0.000000\n"
     ]
    },
    {
     "name": "stderr",
     "output_type": "stream",
     "text": [
      "/media/mobarak/data/lalith/SurgicalScene_VQA/InferSent/models.py:207: VisibleDeprecationWarning: Creating an ndarray from ragged nested sequences (which is a list-or-tuple of lists-or-tuples-or ndarrays with different lengths or shapes) is deprecated. If you meant to do this, you must specify 'dtype=object' when creating the ndarray.\n",
      "  sentences = np.array(sentences)[idx_sort]\n"
     ]
    },
    {
     "name": "stdout",
     "output_type": "stream",
     "text": [
      "Test: epoch: 138 loss: 141.793210 | Acc: 0.695917 | mAP: 0.000000\n",
      "[1.         0.76112127 0.91525424 0.74540682 0.78359264 0.3828125\n",
      " 0.2173913  1.         1.         0.57723577 1.         0.65853659\n",
      " 1.         0.48611111 0.74054413 0.44975288 0.59510358 0.45263158]\n",
      "Best epoch: 137 | Best acc: 0.696250\n"
     ]
    },
    {
     "name": "stderr",
     "output_type": "stream",
     "text": [
      "/media/mobarak/data/lalith/SurgicalScene_VQA/InferSent/models.py:207: VisibleDeprecationWarning: Creating an ndarray from ragged nested sequences (which is a list-or-tuple of lists-or-tuples-or ndarrays with different lengths or shapes) is deprecated. If you meant to do this, you must specify 'dtype=object' when creating the ndarray.\n",
      "  sentences = np.array(sentences)[idx_sort]\n"
     ]
    },
    {
     "name": "stdout",
     "output_type": "stream",
     "text": [
      "Test: epoch: 139 loss: 146.418544 | Acc: 0.661859 | mAP: 0.000000\n"
     ]
    },
    {
     "name": "stderr",
     "output_type": "stream",
     "text": [
      "/media/mobarak/data/lalith/SurgicalScene_VQA/InferSent/models.py:207: VisibleDeprecationWarning: Creating an ndarray from ragged nested sequences (which is a list-or-tuple of lists-or-tuples-or ndarrays with different lengths or shapes) is deprecated. If you meant to do this, you must specify 'dtype=object' when creating the ndarray.\n",
      "  sentences = np.array(sentences)[idx_sort]\n"
     ]
    },
    {
     "name": "stdout",
     "output_type": "stream",
     "text": [
      "Test: epoch: 139 loss: 141.988441 | Acc: 0.692700 | mAP: 0.000000\n",
      "[1.         0.82571603 0.74576271 0.07874016 0.58274399 0.3359375\n",
      " 0.7515528  0.92307692 1.         0.69918699 1.         0.63414634\n",
      " 1.         0.77777778 0.52554745 0.62850082 0.85499058 0.35578947]\n",
      "Best epoch: 137 | Best acc: 0.696250\n"
     ]
    },
    {
     "name": "stderr",
     "output_type": "stream",
     "text": [
      "/media/mobarak/data/lalith/SurgicalScene_VQA/InferSent/models.py:207: VisibleDeprecationWarning: Creating an ndarray from ragged nested sequences (which is a list-or-tuple of lists-or-tuples-or ndarrays with different lengths or shapes) is deprecated. If you meant to do this, you must specify 'dtype=object' when creating the ndarray.\n",
      "  sentences = np.array(sentences)[idx_sort]\n"
     ]
    },
    {
     "name": "stdout",
     "output_type": "stream",
     "text": [
      "Test: epoch: 140 loss: 145.978581 | Acc: 0.667850 | mAP: 0.000000\n"
     ]
    },
    {
     "name": "stderr",
     "output_type": "stream",
     "text": [
      "/media/mobarak/data/lalith/SurgicalScene_VQA/InferSent/models.py:207: VisibleDeprecationWarning: Creating an ndarray from ragged nested sequences (which is a list-or-tuple of lists-or-tuples-or ndarrays with different lengths or shapes) is deprecated. If you meant to do this, you must specify 'dtype=object' when creating the ndarray.\n",
      "  sentences = np.array(sentences)[idx_sort]\n"
     ]
    },
    {
     "name": "stdout",
     "output_type": "stream",
     "text": [
      "Test: epoch: 140 loss: 141.860814 | Acc: 0.695252 | mAP: 0.000000\n",
      "[1.         0.77818403 0.89830508 0.90551181 0.71287129 0.6640625\n",
      " 0.08488613 1.         1.         0.64227642 1.         0.63414634\n",
      " 1.         0.20833333 0.71532847 0.50988468 0.39736347 0.59368421]\n",
      "Best epoch: 137 | Best acc: 0.696250\n"
     ]
    },
    {
     "name": "stderr",
     "output_type": "stream",
     "text": [
      "/media/mobarak/data/lalith/SurgicalScene_VQA/InferSent/models.py:207: VisibleDeprecationWarning: Creating an ndarray from ragged nested sequences (which is a list-or-tuple of lists-or-tuples-or ndarrays with different lengths or shapes) is deprecated. If you meant to do this, you must specify 'dtype=object' when creating the ndarray.\n",
      "  sentences = np.array(sentences)[idx_sort]\n"
     ]
    },
    {
     "name": "stdout",
     "output_type": "stream",
     "text": [
      "Test: epoch: 141 loss: 146.066830 | Acc: 0.672398 | mAP: 0.000000\n"
     ]
    },
    {
     "name": "stderr",
     "output_type": "stream",
     "text": [
      "/media/mobarak/data/lalith/SurgicalScene_VQA/InferSent/models.py:207: VisibleDeprecationWarning: Creating an ndarray from ragged nested sequences (which is a list-or-tuple of lists-or-tuples-or ndarrays with different lengths or shapes) is deprecated. If you meant to do this, you must specify 'dtype=object' when creating the ndarray.\n",
      "  sentences = np.array(sentences)[idx_sort]\n"
     ]
    },
    {
     "name": "stdout",
     "output_type": "stream",
     "text": [
      "Test: epoch: 141 loss: 141.956928 | Acc: 0.694808 | mAP: 0.000000\n",
      "[1.         0.80743449 0.91525424 0.90026247 0.5884017  0.3203125\n",
      " 0.12836439 0.92307692 1.         0.72357724 1.         0.73170732\n",
      " 1.         0.84722222 0.89117452 0.2693575  0.67419962 0.34315789]\n",
      "Best epoch: 137 | Best acc: 0.696250\n"
     ]
    },
    {
     "name": "stderr",
     "output_type": "stream",
     "text": [
      "/media/mobarak/data/lalith/SurgicalScene_VQA/InferSent/models.py:207: VisibleDeprecationWarning: Creating an ndarray from ragged nested sequences (which is a list-or-tuple of lists-or-tuples-or ndarrays with different lengths or shapes) is deprecated. If you meant to do this, you must specify 'dtype=object' when creating the ndarray.\n",
      "  sentences = np.array(sentences)[idx_sort]\n"
     ]
    },
    {
     "name": "stdout",
     "output_type": "stream",
     "text": [
      "Test: epoch: 142 loss: 146.359328 | Acc: 0.661083 | mAP: 0.000000\n"
     ]
    },
    {
     "name": "stderr",
     "output_type": "stream",
     "text": [
      "/media/mobarak/data/lalith/SurgicalScene_VQA/InferSent/models.py:207: VisibleDeprecationWarning: Creating an ndarray from ragged nested sequences (which is a list-or-tuple of lists-or-tuples-or ndarrays with different lengths or shapes) is deprecated. If you meant to do this, you must specify 'dtype=object' when creating the ndarray.\n",
      "  sentences = np.array(sentences)[idx_sort]\n"
     ]
    },
    {
     "name": "stdout",
     "output_type": "stream",
     "text": [
      "Test: epoch: 142 loss: 141.607251 | Acc: 0.695696 | mAP: 0.000000\n",
      "[1.         0.86593541 0.47457627 0.64304462 0.74115983 0.234375\n",
      " 0.06625259 0.92307692 1.         0.73170732 1.         0.63414634\n",
      " 1.         0.44444444 0.57000664 0.75782537 0.22975518 0.61263158]\n",
      "Best epoch: 137 | Best acc: 0.696250\n"
     ]
    },
    {
     "name": "stderr",
     "output_type": "stream",
     "text": [
      "/media/mobarak/data/lalith/SurgicalScene_VQA/InferSent/models.py:207: VisibleDeprecationWarning: Creating an ndarray from ragged nested sequences (which is a list-or-tuple of lists-or-tuples-or ndarrays with different lengths or shapes) is deprecated. If you meant to do this, you must specify 'dtype=object' when creating the ndarray.\n",
      "  sentences = np.array(sentences)[idx_sort]\n"
     ]
    },
    {
     "name": "stdout",
     "output_type": "stream",
     "text": [
      "Test: epoch: 143 loss: 145.950303 | Acc: 0.664744 | mAP: 0.000000\n"
     ]
    },
    {
     "name": "stderr",
     "output_type": "stream",
     "text": [
      "/media/mobarak/data/lalith/SurgicalScene_VQA/InferSent/models.py:207: VisibleDeprecationWarning: Creating an ndarray from ragged nested sequences (which is a list-or-tuple of lists-or-tuples-or ndarrays with different lengths or shapes) is deprecated. If you meant to do this, you must specify 'dtype=object' when creating the ndarray.\n",
      "  sentences = np.array(sentences)[idx_sort]\n"
     ]
    },
    {
     "name": "stdout",
     "output_type": "stream",
     "text": [
      "Test: epoch: 143 loss: 141.872653 | Acc: 0.695030 | mAP: 0.000000\n",
      "[1.         0.72882389 0.93220339 0.92388451 0.75954738 0.34375\n",
      " 0.18219462 0.92307692 1.         0.71544715 0.83333333 0.63414634\n",
      " 1.         0.61111111 0.46051758 0.73476112 0.51224105 0.68842105]\n",
      "Best epoch: 137 | Best acc: 0.696250\n"
     ]
    },
    {
     "name": "stderr",
     "output_type": "stream",
     "text": [
      "/media/mobarak/data/lalith/SurgicalScene_VQA/InferSent/models.py:207: VisibleDeprecationWarning: Creating an ndarray from ragged nested sequences (which is a list-or-tuple of lists-or-tuples-or ndarrays with different lengths or shapes) is deprecated. If you meant to do this, you must specify 'dtype=object' when creating the ndarray.\n",
      "  sentences = np.array(sentences)[idx_sort]\n"
     ]
    },
    {
     "name": "stdout",
     "output_type": "stream",
     "text": [
      "Test: epoch: 144 loss: 146.035237 | Acc: 0.670402 | mAP: 0.000000\n"
     ]
    },
    {
     "name": "stderr",
     "output_type": "stream",
     "text": [
      "/media/mobarak/data/lalith/SurgicalScene_VQA/InferSent/models.py:207: VisibleDeprecationWarning: Creating an ndarray from ragged nested sequences (which is a list-or-tuple of lists-or-tuples-or ndarrays with different lengths or shapes) is deprecated. If you meant to do this, you must specify 'dtype=object' when creating the ndarray.\n",
      "  sentences = np.array(sentences)[idx_sort]\n"
     ]
    },
    {
     "name": "stdout",
     "output_type": "stream",
     "text": [
      "Test: epoch: 144 loss: 141.978427 | Acc: 0.693921 | mAP: 0.000000\n",
      "[1.         0.78488726 0.88135593 0.94488189 0.57567185 0.328125\n",
      " 0.22567288 1.         1.         0.6097561  0.66666667 0.63414634\n",
      " 1.         0.83333333 0.54545455 0.73311367 0.24858757 0.72      ]\n",
      "Best epoch: 137 | Best acc: 0.696250\n"
     ]
    },
    {
     "name": "stderr",
     "output_type": "stream",
     "text": [
      "/media/mobarak/data/lalith/SurgicalScene_VQA/InferSent/models.py:207: VisibleDeprecationWarning: Creating an ndarray from ragged nested sequences (which is a list-or-tuple of lists-or-tuples-or ndarrays with different lengths or shapes) is deprecated. If you meant to do this, you must specify 'dtype=object' when creating the ndarray.\n",
      "  sentences = np.array(sentences)[idx_sort]\n"
     ]
    },
    {
     "name": "stdout",
     "output_type": "stream",
     "text": [
      "Test: epoch: 145 loss: 146.136914 | Acc: 0.669847 | mAP: 0.000000\n"
     ]
    },
    {
     "name": "stderr",
     "output_type": "stream",
     "text": [
      "/media/mobarak/data/lalith/SurgicalScene_VQA/InferSent/models.py:207: VisibleDeprecationWarning: Creating an ndarray from ragged nested sequences (which is a list-or-tuple of lists-or-tuples-or ndarrays with different lengths or shapes) is deprecated. If you meant to do this, you must specify 'dtype=object' when creating the ndarray.\n",
      "  sentences = np.array(sentences)[idx_sort]\n"
     ]
    },
    {
     "name": "stdout",
     "output_type": "stream",
     "text": [
      "Test: epoch: 145 loss: 141.604593 | Acc: 0.695807 | mAP: 0.000000\n",
      "[1.         0.85131018 0.47457627 0.69553806 0.75247525 0.59375\n",
      " 0.04140787 1.         1.         0.62601626 0.83333333 0.63414634\n",
      " 1.         0.125      0.9004645  0.29324547 0.7306968  0.18947368]\n",
      "Best epoch: 137 | Best acc: 0.696250\n"
     ]
    },
    {
     "name": "stderr",
     "output_type": "stream",
     "text": [
      "/media/mobarak/data/lalith/SurgicalScene_VQA/InferSent/models.py:207: VisibleDeprecationWarning: Creating an ndarray from ragged nested sequences (which is a list-or-tuple of lists-or-tuples-or ndarrays with different lengths or shapes) is deprecated. If you meant to do this, you must specify 'dtype=object' when creating the ndarray.\n",
      "  sentences = np.array(sentences)[idx_sort]\n"
     ]
    },
    {
     "name": "stdout",
     "output_type": "stream",
     "text": [
      "Test: epoch: 146 loss: 146.392097 | Acc: 0.663080 | mAP: 0.000000\n"
     ]
    },
    {
     "name": "stderr",
     "output_type": "stream",
     "text": [
      "/media/mobarak/data/lalith/SurgicalScene_VQA/InferSent/models.py:207: VisibleDeprecationWarning: Creating an ndarray from ragged nested sequences (which is a list-or-tuple of lists-or-tuples-or ndarrays with different lengths or shapes) is deprecated. If you meant to do this, you must specify 'dtype=object' when creating the ndarray.\n",
      "  sentences = np.array(sentences)[idx_sort]\n"
     ]
    },
    {
     "name": "stdout",
     "output_type": "stream",
     "text": [
      "Test: epoch: 146 loss: 141.455534 | Acc: 0.695141 | mAP: 0.000000\n",
      "[1.         0.81657526 0.79661017 0.4488189  0.6039604  0.640625\n",
      " 0.47204969 1.         1.         0.77235772 1.         0.63414634\n",
      " 1.         0.11111111 0.61446583 0.64497529 0.66478343 0.26947368]\n",
      "Best epoch: 137 | Best acc: 0.696250\n"
     ]
    },
    {
     "name": "stderr",
     "output_type": "stream",
     "text": [
      "/media/mobarak/data/lalith/SurgicalScene_VQA/InferSent/models.py:207: VisibleDeprecationWarning: Creating an ndarray from ragged nested sequences (which is a list-or-tuple of lists-or-tuples-or ndarrays with different lengths or shapes) is deprecated. If you meant to do this, you must specify 'dtype=object' when creating the ndarray.\n",
      "  sentences = np.array(sentences)[idx_sort]\n"
     ]
    },
    {
     "name": "stdout",
     "output_type": "stream",
     "text": [
      "Test: epoch: 147 loss: 145.963186 | Acc: 0.667184 | mAP: 0.000000\n"
     ]
    },
    {
     "name": "stderr",
     "output_type": "stream",
     "text": [
      "/media/mobarak/data/lalith/SurgicalScene_VQA/InferSent/models.py:207: VisibleDeprecationWarning: Creating an ndarray from ragged nested sequences (which is a list-or-tuple of lists-or-tuples-or ndarrays with different lengths or shapes) is deprecated. If you meant to do this, you must specify 'dtype=object' when creating the ndarray.\n",
      "  sentences = np.array(sentences)[idx_sort]\n"
     ]
    },
    {
     "name": "stdout",
     "output_type": "stream",
     "text": [
      "Test: epoch: 147 loss: 141.530102 | Acc: 0.695363 | mAP: 0.000000\n",
      "[1.         0.72577697 0.91525424 0.9343832  0.7708628  0.2578125\n",
      " 0.1552795  1.         1.         0.7398374  0.83333333 0.63414634\n",
      " 1.         0.81944444 0.66489715 0.63426689 0.33521657 0.49894737]\n",
      "Best epoch: 137 | Best acc: 0.696250\n"
     ]
    },
    {
     "name": "stderr",
     "output_type": "stream",
     "text": [
      "/media/mobarak/data/lalith/SurgicalScene_VQA/InferSent/models.py:207: VisibleDeprecationWarning: Creating an ndarray from ragged nested sequences (which is a list-or-tuple of lists-or-tuples-or ndarrays with different lengths or shapes) is deprecated. If you meant to do this, you must specify 'dtype=object' when creating the ndarray.\n",
      "  sentences = np.array(sentences)[idx_sort]\n"
     ]
    },
    {
     "name": "stdout",
     "output_type": "stream",
     "text": [
      "Test: epoch: 148 loss: 145.956583 | Acc: 0.666297 | mAP: 0.000000\n"
     ]
    },
    {
     "name": "stderr",
     "output_type": "stream",
     "text": [
      "/media/mobarak/data/lalith/SurgicalScene_VQA/InferSent/models.py:207: VisibleDeprecationWarning: Creating an ndarray from ragged nested sequences (which is a list-or-tuple of lists-or-tuples-or ndarrays with different lengths or shapes) is deprecated. If you meant to do this, you must specify 'dtype=object' when creating the ndarray.\n",
      "  sentences = np.array(sentences)[idx_sort]\n"
     ]
    },
    {
     "name": "stdout",
     "output_type": "stream",
     "text": [
      "Test: epoch: 148 loss: 141.473929 | Acc: 0.694586 | mAP: 0.000000\n",
      "[1.         0.82937233 0.89830508 0.56430446 0.61810467 0.4609375\n",
      " 0.33954451 1.         1.         0.58536585 1.         0.63414634\n",
      " 1.         0.47222222 0.57067021 0.69110379 0.24105461 0.76      ]\n",
      "Best epoch: 137 | Best acc: 0.696250\n"
     ]
    },
    {
     "name": "stderr",
     "output_type": "stream",
     "text": [
      "/media/mobarak/data/lalith/SurgicalScene_VQA/InferSent/models.py:207: VisibleDeprecationWarning: Creating an ndarray from ragged nested sequences (which is a list-or-tuple of lists-or-tuples-or ndarrays with different lengths or shapes) is deprecated. If you meant to do this, you must specify 'dtype=object' when creating the ndarray.\n",
      "  sentences = np.array(sentences)[idx_sort]\n"
     ]
    },
    {
     "name": "stdout",
     "output_type": "stream",
     "text": [
      "Test: epoch: 149 loss: 145.611057 | Acc: 0.669958 | mAP: 0.000000\n"
     ]
    },
    {
     "name": "stderr",
     "output_type": "stream",
     "text": [
      "/media/mobarak/data/lalith/SurgicalScene_VQA/InferSent/models.py:207: VisibleDeprecationWarning: Creating an ndarray from ragged nested sequences (which is a list-or-tuple of lists-or-tuples-or ndarrays with different lengths or shapes) is deprecated. If you meant to do this, you must specify 'dtype=object' when creating the ndarray.\n",
      "  sentences = np.array(sentences)[idx_sort]\n"
     ]
    },
    {
     "name": "stdout",
     "output_type": "stream",
     "text": [
      "Test: epoch: 149 loss: 141.600976 | Acc: 0.695585 | mAP: 0.000000\n",
      "[1.         0.84765387 0.22033898 0.12860892 0.63932107 0.28125\n",
      " 0.6252588  1.         1.         0.79674797 1.         0.63414634\n",
      " 1.         0.83333333 0.60384871 0.53459638 0.89642185 0.32842105]\n",
      "Best epoch: 137 | Best acc: 0.696250\n"
     ]
    }
   ],
   "source": [
    "import os\n",
    "import torch\n",
    "\n",
    "from torchvision import transforms\n",
    "from torch.utils.data import DataLoader\n",
    "\n",
    "os.environ[\"CUDA_VISIBLE_DEVICES\"]=\"1\"\n",
    "\n",
    "def seed_everything(seed=27):\n",
    "    '''\n",
    "    Set random seed for reproducible experiments\n",
    "    Inputs: seed number \n",
    "    '''\n",
    "    torch.manual_seed(seed)\n",
    "    torch.cuda.manual_seed_all(seed)\n",
    "    os.environ['PYTHONHASHSEED'] = str(seed)\n",
    "    torch.backends.cudnn.deterministic = True\n",
    "    torch.backends.cudnn.benchmark = False\n",
    "    \n",
    "if __name__ == \"__main__\":\n",
    "     \n",
    "    # Set random seed\n",
    "    seed_everything()  \n",
    "    \n",
    "    # Device Count\n",
    "    num_gpu = torch.cuda.device_count()\n",
    "    \n",
    "    # hyperparameters\n",
    "    bs = 32\n",
    "    epochs = 150\n",
    "    lr = 0.00001\n",
    "    \n",
    "    checkpoint_dir = 'checkpoints/v3/simple/'\n",
    "    \n",
    "    # train and test dataloader\n",
    "    train_seq = [2, 3, 4, 6, 7, 9, 10, 11, 12, 14, 15]\n",
    "    val_seq = [1, 5, 16]\n",
    "    folder_head = 'dataset/instruments18/seq_'\n",
    "    folder_tail = '/vqa/simple/*.txt'\n",
    "\n",
    "    labels = ['kidney',\n",
    "          'Idle', 'Grasping', 'Retraction', 'Tissue_Manipulation',\n",
    "          'Tool_Manipulation', 'Cutting', 'Cauterization', 'Suction', \n",
    "          'Looping', 'Suturing', 'Clipping', 'Staple', 'Ultrasound_Sensing',\n",
    "          'left-top', 'right-top', 'left-bottom', 'right-bottom']\n",
    "\n",
    "    transform = transforms.Compose([\n",
    "                transforms.Resize((300,256)),\n",
    "                transforms.ToTensor(),\n",
    "                transforms.Normalize(mean=[0.485, 0.456, 0.406],std=[0.229, 0.224, 0.225])\n",
    "                ])\n",
    "\n",
    "    # train_dataset\n",
    "    train_dataset = SurgicalVQADataset(train_seq, folder_head, folder_tail, labels, transform=transform)\n",
    "    train_dataloader = DataLoader(dataset=train_dataset, batch_size= bs, shuffle=True)\n",
    "\n",
    "    # Val_dataset\n",
    "    val_dataset = SurgicalVQADataset(val_seq, folder_head, folder_tail, labels, transform=transform)\n",
    "    val_dataloader = DataLoader(dataset=val_dataset, batch_size= bs, shuffle=False)\n",
    "    \n",
    "    # model\n",
    "    model = Surgical_VQA(num_classes=len(labels)).cuda()\n",
    "    \n",
    "    best_epoch = [0]\n",
    "    best_results = [0.0]\n",
    "    \n",
    "    for epoch in range(1, epochs):\n",
    "        train_model(epoch, model, train_dataloader, lr)\n",
    "        test_acc, test_c_acc, mAP = test_model(epoch, model, train_dataloader)\n",
    "    \n",
    "        if test_acc >= best_results[0]:\n",
    "            best_results[0] = test_acc\n",
    "            best_epoch[0] = epoch\n",
    "        \n",
    "        print('Best epoch: %d | Best acc: %.6f' %(best_epoch[0], best_results[0]))\n",
    "        checkpoint = {'lr': lr, 'b_s': bs, 'state_dict': model.state_dict() }\n",
    "        save_name = \"checkpoint_\" + str(epoch) + '_epoch.pth'\n",
    "        \n",
    "        torch.save(checkpoint, os.path.join(checkpoint_dir, save_name))"
   ]
  },
  {
   "cell_type": "code",
   "execution_count": null,
   "id": "6779af06",
   "metadata": {},
   "outputs": [],
   "source": []
  },
  {
   "cell_type": "code",
   "execution_count": null,
   "id": "ac1c3288",
   "metadata": {},
   "outputs": [],
   "source": []
  }
 ],
 "metadata": {
  "kernelspec": {
   "display_name": "Python 3",
   "language": "python",
   "name": "python3"
  },
  "language_info": {
   "codemirror_mode": {
    "name": "ipython",
    "version": 3
   },
   "file_extension": ".py",
   "mimetype": "text/x-python",
   "name": "python",
   "nbconvert_exporter": "python",
   "pygments_lexer": "ipython3",
   "version": "3.8.11"
  }
 },
 "nbformat": 4,
 "nbformat_minor": 5
}
